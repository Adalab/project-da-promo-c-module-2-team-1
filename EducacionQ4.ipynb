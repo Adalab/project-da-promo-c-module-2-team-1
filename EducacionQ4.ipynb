{
 "cells": [
  {
   "cell_type": "code",
   "execution_count": 2,
   "metadata": {},
   "outputs": [],
   "source": [
    "import pandas as pd\n",
    "import numpy as np\n",
    "import matplotlib.pyplot as plt\n",
    "import seaborn as sns\n",
    "from scipy.stats import skew\n",
    "import scipy.stats as st"
   ]
  },
  {
   "attachments": {},
   "cell_type": "markdown",
   "metadata": {},
   "source": [
    "### **Ana: Educación(Q4)]**"
   ]
  },
  {
   "cell_type": "code",
   "execution_count": 95,
   "metadata": {},
   "outputs": [],
   "source": [
    "df_formacion=pd.read_csv('df_a_usar_2.csv')"
   ]
  },
  {
   "cell_type": "code",
   "execution_count": 96,
   "metadata": {},
   "outputs": [
    {
     "data": {
      "text/plain": [
       "Master’s degree                                                      10132\n",
       "Bachelor’s degree                                                     9907\n",
       "Doctoral degree                                                       2795\n",
       "Some college/university study without earning a bachelor’s degree     1735\n",
       "I prefer not to answer                                                 627\n",
       "No formal education past high school                                   417\n",
       "Professional doctorate                                                 360\n",
       "Name: education_q4, dtype: int64"
      ]
     },
     "execution_count": 96,
     "metadata": {},
     "output_type": "execute_result"
    }
   ],
   "source": [
    "df_formacion['education_q4'].value_counts()"
   ]
  },
  {
   "cell_type": "code",
   "execution_count": 97,
   "metadata": {},
   "outputs": [
    {
     "data": {
      "text/plain": [
       "25973"
      ]
     },
     "execution_count": 97,
     "metadata": {},
     "output_type": "execute_result"
    }
   ],
   "source": [
    "df_formacion['education_q4'].count()\n",
    "#no tenemos ni nulos ni registros vacios para formación"
   ]
  },
  {
   "cell_type": "code",
   "execution_count": 6,
   "metadata": {},
   "outputs": [
    {
     "data": {
      "text/plain": [
       "0"
      ]
     },
     "execution_count": 6,
     "metadata": {},
     "output_type": "execute_result"
    }
   ],
   "source": [
    "df_formacion.duplicated().sum()"
   ]
  },
  {
   "cell_type": "code",
   "execution_count": null,
   "metadata": {},
   "outputs": [],
   "source": [
    "df_formacion.isnull().sum()"
   ]
  },
  {
   "attachments": {},
   "cell_type": "markdown",
   "metadata": {},
   "source": [
    "### Nos quedamos con las columnas que seleccionamos en el grupo para las preguntas, que no tiene duplicados con un total de 25973 registros"
   ]
  },
  {
   "cell_type": "code",
   "execution_count": null,
   "metadata": {},
   "outputs": [],
   "source": [
    "df_def_fomacion=df_formacion.loc[:,[ 'index', 'time', 'age', 'gender','country_q3','education_q4','role_q5','experience_q6','sector_q20','company_size_q21','anual_income_q25']]\n",
    "df_def_fomacion"
   ]
  },
  {
   "cell_type": "code",
   "execution_count": null,
   "metadata": {},
   "outputs": [],
   "source": [
    "plt.figure(figsize =(10,8))\n",
    "sns.histplot(x=df_formacion['education_q4'],data = df_formacion, hue='gender', kde=True)\n",
    "plt.xticks(rotation= 75)\n",
    "plt.show()"
   ]
  },
  {
   "cell_type": "code",
   "execution_count": 10,
   "metadata": {},
   "outputs": [
    {
     "data": {
      "text/plain": [
       "index                   0\n",
       "time                    0\n",
       "age                     0\n",
       "gender                  0\n",
       "country_q3              0\n",
       "education_q4            0\n",
       "role_q5                 0\n",
       "experience_q6           0\n",
       "sector_q20           9648\n",
       "company_size_q21     9722\n",
       "anual_income_q25    10582\n",
       "dtype: int64"
      ]
     },
     "execution_count": 10,
     "metadata": {},
     "output_type": "execute_result"
    }
   ],
   "source": [
    "df_def_fomacion.isnull().sum()"
   ]
  },
  {
   "cell_type": "code",
   "execution_count": 11,
   "metadata": {},
   "outputs": [],
   "source": [
    "#ed_gen=pd.DataFrame(df_def_fomacion.groupby(['education_q4'])['gender'].value_counts())\n",
    "#ed_gen"
   ]
  },
  {
   "cell_type": "code",
   "execution_count": 12,
   "metadata": {},
   "outputs": [],
   "source": [
    "#ed_gen.rename(columns={'gender':'frecuencia'}, inplace= True)\n",
    "#ed_gen.reset_index()"
   ]
  },
  {
   "cell_type": "code",
   "execution_count": 30,
   "metadata": {},
   "outputs": [],
   "source": [
    "def porcentaje(df):\n",
    "    array2=[]\n",
    "    for i in df.columns:\n",
    "        for v in df[i]:\n",
    "            print(i)\n",
    "        z=v*100/df[i].sum()\n",
    "        array2.append(z)\n",
    "        \n",
    "    return  np.round(np.array(array2), decimals=2)\n",
    "    \n",
    "    #funcion para hallar porcentajes\n",
    "    #print(z)\n",
    "    #tamaño_genero[\"Woman%\"] =tamaño_genero_porcentaje (tamaño_genero[\"'Woman\"].apply(porcentaje))"
   ]
  },
  {
   "cell_type": "code",
   "execution_count": null,
   "metadata": {},
   "outputs": [],
   "source": [
    "for col in df.columns:\n",
    "    print(\"------------------------------------------------------------\", \"\\n\")\n",
    "    print(f\"En la columna {col} tenemos los siguientes valores unicos\")\n",
    "    z=col*100/df[col].sum()\n",
    "    array2.append(z)\n",
    "    print(df[col].unique())\n",
    "    print(\"\\n\", \"\n",
    "      return  np.round(np.array(array2), decimals=2)"
   ]
  },
  {
   "cell_type": "code",
   "execution_count": null,
   "metadata": {},
   "outputs": [],
   "source": [
    "for col in categoricas.columns:\n",
    "    print(\"------------------------------------------------------------\", \"\\n\")\n",
    "    print(f\"En la columna {col} tenemos los siguientes valores unicos\")\n",
    "    print(pd.DataFrame(df[col].value_counts()))\n",
    "    print(\"\\n\", \"------------------------------------------------------------\", \"\\n\")"
   ]
  },
  {
   "cell_type": "code",
   "execution_count": null,
   "metadata": {},
   "outputs": [],
   "source": [
    "educacion_gen2=pd.DataFrame(pd.crosstab(df_formacion['gender'],df_formacion['education_q4'], margins=True))\n",
    "educacion_gen2\n",
    "#'Man':'Bachelor’s degree'31.7%, 'Doctoral degree'14.02%,'I prefer not to answer':1.9%, 'Master’s degree'43.8%,\n",
    "#'No formal education past high school'1.6%, 'Professional doctorate'1.76%,'Some college/university study without earning a bachelor’s \n",
    "# degree'5%\n",
    "#universitarios con titulo:88.65 hombres, 90.6 mujeres, 80.31 resto\n",
    "#'Woman''Bachelor’s degree'28.2%, 'Doctoral degree'16.07%,'I prefer not to answer':2.8%, 'Master’s degree'45.8%,\n",
    "#'No formal education past high school'0.7%, 'Professional doctorate'2.45%,'Some college/university study without earning a bachelor’s \n",
    "# degree'3.8%\n",
    "#'Resto':'Bachelor’s degree'27.8, 'Doctoral degree'12.16,'I prefer not to answer':8.6%, 'Master’s degree'38.5%,\n",
    "#'No formal education past high school'2.68%, 'Professional doctorate'1.85%,'Some college/university study without earning a bachelor’s \n",
    "# degree'8%\n"
   ]
  },
  {
   "cell_type": "code",
   "execution_count": null,
   "metadata": {},
   "outputs": [],
   "source": [
    "educacion_gen2_no_null=pd.DataFrame(pd.crosstab(df_formacion_sin_inactivos['gender'],df_formacion_sin_inactivos['education_q4'], margins=True))\n",
    "educacion_gen2_no_null"
   ]
  },
  {
   "cell_type": "code",
   "execution_count": null,
   "metadata": {},
   "outputs": [],
   "source": [
    "plt.figure(figsize =(10,8))\n",
    "sns.histplot(x=df_def_fomacion['education_q4'],data = df_def_fomacion, hue='gender')#, kde=True)\n",
    "plt.xticks(rotation= 75)\n",
    "plt.show()"
   ]
  },
  {
   "cell_type": "code",
   "execution_count": null,
   "metadata": {},
   "outputs": [],
   "source": [
    "plt.figure(figsize =(10,8))\n",
    "sns.histplot(x=df_formacion_sin_inactivos['education_q4'],data = df_formacion_sin_inactivos, hue='gender')#, kde=True)\n",
    "plt.xticks(rotation= 75)\n",
    "plt.show()"
   ]
  },
  {
   "cell_type": "code",
   "execution_count": null,
   "metadata": {},
   "outputs": [],
   "source": [
    "educacion_gen3=pd.DataFrame(pd.crosstab(df_def_fomacion['role_q5'],df_def_fomacion['education_q4'], margins=True).reset_index())\n",
    "educacion_gen3"
   ]
  },
  {
   "cell_type": "code",
   "execution_count": null,
   "metadata": {},
   "outputs": [],
   "source": [
    "educacion_gen3_no_null=pd.DataFrame(pd.crosstab(df_formacion_sin_inactivos['role_q5'],df_formacion_sin_inactivos['education_q4'], margins=True).reset_index())\n",
    "educacion_gen3_no_null"
   ]
  },
  {
   "cell_type": "code",
   "execution_count": null,
   "metadata": {},
   "outputs": [],
   "source": [
    "plt.figure(figsize =(10,8))\n",
    "sns.histplot(x=df_def_fomacion['role_q5'],data = df_def_fomacion, hue='education_q4')#, kde=True)\n",
    "plt.xticks(rotation= 75)\n",
    "plt.show()"
   ]
  },
  {
   "cell_type": "code",
   "execution_count": null,
   "metadata": {},
   "outputs": [],
   "source": [
    "plt.figure(figsize =(10,8))\n",
    "sns.histplot(x=df_formacion_sin_inactivos['role_q5'],data = df_formacion_sin_inactivos, hue='education_q4')#, kde=True)\n",
    "plt.xticks(rotation= 75)\n",
    "plt.show()"
   ]
  },
  {
   "cell_type": "code",
   "execution_count": null,
   "metadata": {},
   "outputs": [],
   "source": [
    "educacion_gen4=pd.DataFrame(pd.crosstab(df_def_fomacion['anual_income_q25'],df_def_fomacion['education_q4'], margins=True))\n",
    "educacion_gen4"
   ]
  },
  {
   "cell_type": "code",
   "execution_count": null,
   "metadata": {},
   "outputs": [],
   "source": [
    "educacion_gen4_no_null=pd.DataFrame(pd.crosstab(df_formacion_sin_inactivos['anual_income_q25'],df_formacion_sin_inactivos['education_q4'], margins=True))\n",
    "educacion_gen4_no_null"
   ]
  },
  {
   "cell_type": "code",
   "execution_count": null,
   "metadata": {},
   "outputs": [],
   "source": [
    "plt.figure(figsize =(10,8))\n",
    "sns.histplot(x=df_def_fomacion['anual_income_q25'],data = df_def_fomacion, hue='education_q4')#, kde=True)\n",
    "plt.xticks(rotation= 75)\n",
    "plt.show()"
   ]
  },
  {
   "cell_type": "code",
   "execution_count": null,
   "metadata": {},
   "outputs": [],
   "source": [
    "plt.figure(figsize =(10,8))\n",
    "sns.histplot(x=df_formacion_sin_inactivos['anual_income_q25'],data = df_formacion_sin_inactivos, hue='education_q4')#, kde=True)\n",
    "plt.xticks(rotation= 75)\n",
    "plt.show()"
   ]
  },
  {
   "cell_type": "code",
   "execution_count": null,
   "metadata": {},
   "outputs": [],
   "source": [
    "educacion_gen5=pd.DataFrame(pd.crosstab(df_def_fomacion['company_size_q21'],df_def_fomacion['education_q4'], margins=True).reset_index())\n",
    "educacion_gen5"
   ]
  },
  {
   "cell_type": "code",
   "execution_count": null,
   "metadata": {},
   "outputs": [],
   "source": [
    "educacion_gen5_no_null=pd.DataFrame(pd.crosstab(df_formacion_sin_inactivos['company_size_q21'],df_formacion_sin_inactivos['education_q4'], margins=True).reset_index())\n",
    "educacion_gen5_no_null"
   ]
  },
  {
   "cell_type": "code",
   "execution_count": null,
   "metadata": {},
   "outputs": [],
   "source": [
    "plt.figure(figsize =(10,8))\n",
    "sns.histplot(x=df_def_fomacion['education_q4'],data = df_def_fomacion, hue='company_size_q21')#, kde=True)\n",
    "plt.xticks(rotation= 75)\n",
    "plt.show()"
   ]
  },
  {
   "cell_type": "code",
   "execution_count": null,
   "metadata": {},
   "outputs": [],
   "source": [
    "plt.figure(figsize =(10,8))\n",
    "sns.histplot(x=df_formacion_sin_inactivos['education_q4'],data = df_formacion_sin_inactivos, hue='company_size_q21')#, kde=True)\n",
    "plt.xticks(rotation= 75)\n",
    "plt.show()"
   ]
  },
  {
   "cell_type": "code",
   "execution_count": null,
   "metadata": {},
   "outputs": [],
   "source": [
    "educacion_gen6=pd.DataFrame(pd.crosstab(df_def_fomacion['country_q3'],df_def_fomacion['education_q4'], margins=True).reset_index())\n",
    "educacion_gen6"
   ]
  },
  {
   "cell_type": "code",
   "execution_count": null,
   "metadata": {},
   "outputs": [],
   "source": [
    "educacion_gen6_no_null=pd.DataFrame(pd.crosstab(df_formacion_sin_inactivos['country_q3'],df_formacion_sin_inactivos['education_q4'], margins=True).reset_index())\n",
    "educacion_gen6_no_null"
   ]
  },
  {
   "cell_type": "code",
   "execution_count": null,
   "metadata": {},
   "outputs": [],
   "source": [
    "plt.figure(figsize =(20,15))\n",
    "sns.histplot(x=df_def_fomacion['country_q3'],data = df_def_fomacion, hue='education_q4')#, kde=True)\n",
    "plt.xticks(rotation= 75)\n",
    "plt.show()"
   ]
  },
  {
   "cell_type": "code",
   "execution_count": null,
   "metadata": {},
   "outputs": [],
   "source": [
    "plt.figure(figsize =(20,15))\n",
    "sns.histplot(x=df_formacion_sin_inactivos['country_q3'],data = df_formacion_sin_inactivos, hue='education_q4')#, kde=True)\n",
    "plt.xticks(rotation= 75)\n",
    "plt.show()"
   ]
  },
  {
   "cell_type": "code",
   "execution_count": null,
   "metadata": {},
   "outputs": [],
   "source": [
    "educacion_gen7=pd.DataFrame(pd.crosstab(df_def_fomacion['experience_q6'],df_def_fomacion['education_q4'], margins=True))\n",
    "educacion_gen7"
   ]
  },
  {
   "cell_type": "code",
   "execution_count": null,
   "metadata": {},
   "outputs": [],
   "source": [
    "educacion_gen7_no_null=pd.DataFrame(pd.crosstab(df_formacion_sin_inactivos['experience_q6'],df_formacion_sin_inactivos['education_q4'], margins=True))\n",
    "educacion_gen7_no_null"
   ]
  },
  {
   "attachments": {},
   "cell_type": "markdown",
   "metadata": {},
   "source": [
    "Los datos ue menos varian segun empleabilidad y experiencia, son los de los doctorados"
   ]
  },
  {
   "cell_type": "code",
   "execution_count": null,
   "metadata": {},
   "outputs": [],
   "source": [
    "plt.figure(figsize =(10,8))\n",
    "sns.histplot(x=df_def_fomacion['education_q4'],data = df_def_fomacion, hue='experience_q6')#, kde=True)\n",
    "plt.xticks(rotation= 75)\n",
    "plt.show()"
   ]
  },
  {
   "cell_type": "code",
   "execution_count": null,
   "metadata": {},
   "outputs": [],
   "source": [
    "plt.figure(figsize =(10,8))\n",
    "sns.histplot(x=df_formacion_sin_inactivos['education_q4'],data = df_formacion_sin_inactivos, hue='experience_q6')#, kde=True)\n",
    "plt.xticks(rotation= 75)\n",
    "plt.show()"
   ]
  },
  {
   "cell_type": "code",
   "execution_count": null,
   "metadata": {},
   "outputs": [],
   "source": [
    "educacion_gen8=pd.DataFrame(pd.crosstab(df_def_fomacion['sector_q20'],df_def_fomacion['education_q4'], margins=True).reset_index())\n",
    "educacion_gen8"
   ]
  },
  {
   "cell_type": "code",
   "execution_count": null,
   "metadata": {},
   "outputs": [],
   "source": [
    "educacion_gen8_no_null=pd.DataFrame(pd.crosstab(df_formacion_sin_inactivos['sector_q20'],df_formacion_sin_inactivos['education_q4'], margins=True).reset_index())\n",
    "educacion_gen8_no_null"
   ]
  },
  {
   "cell_type": "code",
   "execution_count": null,
   "metadata": {},
   "outputs": [],
   "source": [
    "plt.figure(figsize =(10,8))\n",
    "sns.histplot(x=df_def_fomacion['sector_q20'],data = df_def_fomacion, hue='education_q4')#, kde=True)\n",
    "plt.xticks(rotation= 75)\n",
    "plt.show()"
   ]
  },
  {
   "cell_type": "code",
   "execution_count": null,
   "metadata": {},
   "outputs": [],
   "source": [
    "plt.figure(figsize =(10,8))\n",
    "sns.histplot(x=df_formacion_sin_inactivos['sector_q20'],data = df_formacion_sin_inactivos, hue='education_q4')#, kde=True)\n",
    "plt.xticks(rotation= 75)\n",
    "plt.show()"
   ]
  },
  {
   "cell_type": "code",
   "execution_count": null,
   "metadata": {},
   "outputs": [],
   "source": [
    "educacion_gen9=pd.DataFrame(pd.crosstab(df_def_fomacion['age'],df_def_fomacion['education_q4'], margins=True).reset_index())\n",
    "educacion_gen9"
   ]
  },
  {
   "cell_type": "code",
   "execution_count": null,
   "metadata": {},
   "outputs": [],
   "source": [
    "educacion_gen9_no_null=pd.DataFrame(pd.crosstab(df_formacion_sin_inactivos['age'],df_formacion_sin_inactivos['education_q4'], margins=True).reset_index())\n",
    "educacion_gen9_no_null"
   ]
  },
  {
   "cell_type": "code",
   "execution_count": null,
   "metadata": {},
   "outputs": [],
   "source": [
    "plt.figure(figsize =(10,8))\n",
    "sns.histplot(x=df_def_fomacion['education_q4'],data = df_def_fomacion, hue='age')#, kde=True)\n",
    "plt.xticks(rotation= 75)\n",
    "plt.show()"
   ]
  },
  {
   "cell_type": "code",
   "execution_count": null,
   "metadata": {},
   "outputs": [],
   "source": [
    "plt.figure(figsize =(10,8))\n",
    "sns.histplot(x=df_formacion_sin_inactivos['education_q4'],data = df_formacion_sin_inactivos, hue='age')\n",
    "plt.xticks(rotation= 75)\n",
    "plt.show()\n",
    "\n"
   ]
  },
  {
   "attachments": {},
   "cell_type": "markdown",
   "metadata": {},
   "source": [
    "En general, a mayor edad, mayor formacion, los doctorados, van bajando la proporcion con la edad, a la vez que va subiendo la licenciatura casi. El grado de master, mas o menos se mantiene, an los activos."
   ]
  }
 ],
 "metadata": {
  "kernelspec": {
   "display_name": "Python 3",
   "language": "python",
   "name": "python3"
  },
  "language_info": {
   "codemirror_mode": {
    "name": "ipython",
    "version": 3
   },
   "file_extension": ".py",
   "mimetype": "text/x-python",
   "name": "python",
   "nbconvert_exporter": "python",
   "pygments_lexer": "ipython3",
   "version": "3.9.7 (default, Sep 16 2021, 13:09:58) \n[GCC 7.5.0]"
  },
  "orig_nbformat": 4,
  "vscode": {
   "interpreter": {
    "hash": "235f9155b0abc8f1580e75acf7c6712d847a3598ded282a80a21bb1bc6aba73f"
   }
  }
 },
 "nbformat": 4,
 "nbformat_minor": 2
}
