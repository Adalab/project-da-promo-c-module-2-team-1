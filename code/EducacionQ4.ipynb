{
 "cells": [
  {
   "cell_type": "code",
   "execution_count": 1,
   "metadata": {},
   "outputs": [],
   "source": [
    "import pandas as pd\n",
    "import numpy as np\n",
    "import matplotlib.pyplot as plt\n",
    "import seaborn as sns\n",
    "from scipy.stats import skew\n",
    "import scipy.stats as st"
   ]
  },
  {
   "attachments": {},
   "cell_type": "markdown",
   "metadata": {},
   "source": [
    "### **Ana: Educación(Q4)]**"
   ]
  },
  {
   "cell_type": "code",
   "execution_count": 10,
   "metadata": {},
   "outputs": [
    {
     "data": {
      "text/html": [
       "<div>\n",
       "<style scoped>\n",
       "    .dataframe tbody tr th:only-of-type {\n",
       "        vertical-align: middle;\n",
       "    }\n",
       "\n",
       "    .dataframe tbody tr th {\n",
       "        vertical-align: top;\n",
       "    }\n",
       "\n",
       "    .dataframe thead th {\n",
       "        text-align: right;\n",
       "    }\n",
       "</style>\n",
       "<table border=\"1\" class=\"dataframe\">\n",
       "  <thead>\n",
       "    <tr style=\"text-align: right;\">\n",
       "      <th></th>\n",
       "      <th>Unnamed: 0</th>\n",
       "      <th>index</th>\n",
       "      <th>time</th>\n",
       "      <th>age</th>\n",
       "      <th>gender</th>\n",
       "      <th>country_q3</th>\n",
       "      <th>education_q4</th>\n",
       "      <th>role_q5</th>\n",
       "      <th>experience_q6</th>\n",
       "      <th>Q8</th>\n",
       "      <th>...</th>\n",
       "      <th>Q38_B_Part_5</th>\n",
       "      <th>Q38_B_Part_6</th>\n",
       "      <th>Q38_B_Part_7</th>\n",
       "      <th>Q38_B_Part_8</th>\n",
       "      <th>Q38_B_Part_9</th>\n",
       "      <th>Q38_B_Part_10</th>\n",
       "      <th>Q38_B_Part_11</th>\n",
       "      <th>Q38_B_OTHER</th>\n",
       "      <th>gender_def</th>\n",
       "      <th>continent</th>\n",
       "    </tr>\n",
       "  </thead>\n",
       "  <tbody>\n",
       "    <tr>\n",
       "      <th>0</th>\n",
       "      <td>0</td>\n",
       "      <td>0</td>\n",
       "      <td>910</td>\n",
       "      <td>50-54</td>\n",
       "      <td>Man</td>\n",
       "      <td>India</td>\n",
       "      <td>Bachelor’s degree</td>\n",
       "      <td>Other</td>\n",
       "      <td>5-10 years</td>\n",
       "      <td>Python</td>\n",
       "      <td>...</td>\n",
       "      <td>NaN</td>\n",
       "      <td>NaN</td>\n",
       "      <td>NaN</td>\n",
       "      <td>NaN</td>\n",
       "      <td>NaN</td>\n",
       "      <td>NaN</td>\n",
       "      <td>NaN</td>\n",
       "      <td>NaN</td>\n",
       "      <td>Man</td>\n",
       "      <td>Asia</td>\n",
       "    </tr>\n",
       "    <tr>\n",
       "      <th>1</th>\n",
       "      <td>1</td>\n",
       "      <td>1</td>\n",
       "      <td>784</td>\n",
       "      <td>50-54</td>\n",
       "      <td>Man</td>\n",
       "      <td>Indonesia</td>\n",
       "      <td>Master’s degree</td>\n",
       "      <td>Program/Project Manager</td>\n",
       "      <td>20+ years</td>\n",
       "      <td>Python</td>\n",
       "      <td>...</td>\n",
       "      <td>NaN</td>\n",
       "      <td>NaN</td>\n",
       "      <td>NaN</td>\n",
       "      <td>NaN</td>\n",
       "      <td>NaN</td>\n",
       "      <td>NaN</td>\n",
       "      <td>None</td>\n",
       "      <td>NaN</td>\n",
       "      <td>Man</td>\n",
       "      <td>Asia</td>\n",
       "    </tr>\n",
       "  </tbody>\n",
       "</table>\n",
       "<p>2 rows × 245 columns</p>\n",
       "</div>"
      ],
      "text/plain": [
       "   Unnamed: 0  index  time    age gender country_q3       education_q4  \\\n",
       "0           0      0   910  50-54    Man      India  Bachelor’s degree   \n",
       "1           1      1   784  50-54    Man  Indonesia    Master’s degree   \n",
       "\n",
       "                   role_q5 experience_q6      Q8  ... Q38_B_Part_5  \\\n",
       "0                    Other    5-10 years  Python  ...          NaN   \n",
       "1  Program/Project Manager     20+ years  Python  ...          NaN   \n",
       "\n",
       "  Q38_B_Part_6 Q38_B_Part_7 Q38_B_Part_8 Q38_B_Part_9 Q38_B_Part_10  \\\n",
       "0          NaN          NaN          NaN          NaN           NaN   \n",
       "1          NaN          NaN          NaN          NaN           NaN   \n",
       "\n",
       "  Q38_B_Part_11 Q38_B_OTHER gender_def continent  \n",
       "0           NaN         NaN        Man      Asia  \n",
       "1          None         NaN        Man      Asia  \n",
       "\n",
       "[2 rows x 245 columns]"
      ]
     },
     "execution_count": 10,
     "metadata": {},
     "output_type": "execute_result"
    }
   ],
   "source": [
    "df_formacion=pd.read_csv('df_modificado1.csv')\n",
    "df_formacion.head(2)"
   ]
  },
  {
   "cell_type": "code",
   "execution_count": 5,
   "metadata": {},
   "outputs": [
    {
     "data": {
      "text/plain": [
       "Master’s degree                                                      10132\n",
       "Bachelor’s degree                                                     9907\n",
       "Doctoral degree                                                       2795\n",
       "Some college/university study without earning a bachelor’s degree     1735\n",
       "I prefer not to answer                                                 627\n",
       "No formal education past high school                                   417\n",
       "Professional doctorate                                                 360\n",
       "Name: education_q4, dtype: int64"
      ]
     },
     "execution_count": 5,
     "metadata": {},
     "output_type": "execute_result"
    }
   ],
   "source": [
    "df_formacion['education_q4'].value_counts()"
   ]
  },
  {
   "cell_type": "code",
   "execution_count": 6,
   "metadata": {},
   "outputs": [
    {
     "data": {
      "text/plain": [
       "25973"
      ]
     },
     "execution_count": 6,
     "metadata": {},
     "output_type": "execute_result"
    }
   ],
   "source": [
    "df_formacion['education_q4'].count()\n",
    "#no tenemos ni nulos ni registros vacios para formación"
   ]
  },
  {
   "cell_type": "code",
   "execution_count": 7,
   "metadata": {},
   "outputs": [
    {
     "data": {
      "text/plain": [
       "0"
      ]
     },
     "execution_count": 7,
     "metadata": {},
     "output_type": "execute_result"
    }
   ],
   "source": [
    "df_formacion.duplicated().sum()"
   ]
  },
  {
   "cell_type": "code",
   "execution_count": 8,
   "metadata": {},
   "outputs": [
    {
     "data": {
      "text/plain": [
       "Unnamed: 0           0\n",
       "index                0\n",
       "time                 0\n",
       "age                  0\n",
       "gender               0\n",
       "                 ...  \n",
       "Q38_B_Part_10    23226\n",
       "Q38_B_Part_11    21431\n",
       "Q38_B_OTHER      25596\n",
       "gender_def         355\n",
       "continent            0\n",
       "Length: 245, dtype: int64"
      ]
     },
     "execution_count": 8,
     "metadata": {},
     "output_type": "execute_result"
    }
   ],
   "source": [
    "df_formacion.isnull().sum()"
   ]
  },
  {
   "attachments": {},
   "cell_type": "markdown",
   "metadata": {},
   "source": [
    "### Nos quedamos con las columnas que seleccionamos en el grupo para las preguntas, que no tiene duplicados con un total de 25973 registros"
   ]
  },
  {
   "cell_type": "code",
   "execution_count": 11,
   "metadata": {},
   "outputs": [
    {
     "data": {
      "text/html": [
       "<div>\n",
       "<style scoped>\n",
       "    .dataframe tbody tr th:only-of-type {\n",
       "        vertical-align: middle;\n",
       "    }\n",
       "\n",
       "    .dataframe tbody tr th {\n",
       "        vertical-align: top;\n",
       "    }\n",
       "\n",
       "    .dataframe thead th {\n",
       "        text-align: right;\n",
       "    }\n",
       "</style>\n",
       "<table border=\"1\" class=\"dataframe\">\n",
       "  <thead>\n",
       "    <tr style=\"text-align: right;\">\n",
       "      <th></th>\n",
       "      <th>index</th>\n",
       "      <th>time</th>\n",
       "      <th>age</th>\n",
       "      <th>gender</th>\n",
       "      <th>gender_def</th>\n",
       "      <th>continent</th>\n",
       "      <th>country_q3</th>\n",
       "      <th>education_q4</th>\n",
       "      <th>role_q5</th>\n",
       "      <th>experience_q6</th>\n",
       "      <th>sector_q20</th>\n",
       "      <th>company_size_q21</th>\n",
       "      <th>anual_income_q25</th>\n",
       "    </tr>\n",
       "  </thead>\n",
       "  <tbody>\n",
       "    <tr>\n",
       "      <th>0</th>\n",
       "      <td>0</td>\n",
       "      <td>910</td>\n",
       "      <td>50-54</td>\n",
       "      <td>Man</td>\n",
       "      <td>Man</td>\n",
       "      <td>Asia</td>\n",
       "      <td>India</td>\n",
       "      <td>Bachelor’s degree</td>\n",
       "      <td>Other</td>\n",
       "      <td>5-10 years</td>\n",
       "      <td>Manufacturing/Fabrication</td>\n",
       "      <td>50-249 employees</td>\n",
       "      <td>25,000-29,999</td>\n",
       "    </tr>\n",
       "    <tr>\n",
       "      <th>1</th>\n",
       "      <td>1</td>\n",
       "      <td>784</td>\n",
       "      <td>50-54</td>\n",
       "      <td>Man</td>\n",
       "      <td>Man</td>\n",
       "      <td>Asia</td>\n",
       "      <td>Indonesia</td>\n",
       "      <td>Master’s degree</td>\n",
       "      <td>Program/Project Manager</td>\n",
       "      <td>20+ years</td>\n",
       "      <td>Manufacturing/Fabrication</td>\n",
       "      <td>1000-9,999 employees</td>\n",
       "      <td>60,000-69,999</td>\n",
       "    </tr>\n",
       "    <tr>\n",
       "      <th>2</th>\n",
       "      <td>2</td>\n",
       "      <td>924</td>\n",
       "      <td>22-24</td>\n",
       "      <td>Man</td>\n",
       "      <td>Man</td>\n",
       "      <td>Asia</td>\n",
       "      <td>Pakistan</td>\n",
       "      <td>Master’s degree</td>\n",
       "      <td>Software Engineer</td>\n",
       "      <td>1-3 years</td>\n",
       "      <td>Academics/Education</td>\n",
       "      <td>1000-9,999 employees</td>\n",
       "      <td>$0-999</td>\n",
       "    </tr>\n",
       "    <tr>\n",
       "      <th>3</th>\n",
       "      <td>3</td>\n",
       "      <td>575</td>\n",
       "      <td>45-49</td>\n",
       "      <td>Man</td>\n",
       "      <td>Man</td>\n",
       "      <td>North America</td>\n",
       "      <td>Mexico</td>\n",
       "      <td>Doctoral degree</td>\n",
       "      <td>Research Scientist</td>\n",
       "      <td>20+ years</td>\n",
       "      <td>Academics/Education</td>\n",
       "      <td>1000-9,999 employees</td>\n",
       "      <td>30,000-39,999</td>\n",
       "    </tr>\n",
       "    <tr>\n",
       "      <th>4</th>\n",
       "      <td>4</td>\n",
       "      <td>781</td>\n",
       "      <td>45-49</td>\n",
       "      <td>Man</td>\n",
       "      <td>Man</td>\n",
       "      <td>Asia</td>\n",
       "      <td>India</td>\n",
       "      <td>Doctoral degree</td>\n",
       "      <td>Other</td>\n",
       "      <td>&lt; 1 years</td>\n",
       "      <td>Academics/Education</td>\n",
       "      <td>50-249 employees</td>\n",
       "      <td>30,000-39,999</td>\n",
       "    </tr>\n",
       "    <tr>\n",
       "      <th>...</th>\n",
       "      <td>...</td>\n",
       "      <td>...</td>\n",
       "      <td>...</td>\n",
       "      <td>...</td>\n",
       "      <td>...</td>\n",
       "      <td>...</td>\n",
       "      <td>...</td>\n",
       "      <td>...</td>\n",
       "      <td>...</td>\n",
       "      <td>...</td>\n",
       "      <td>...</td>\n",
       "      <td>...</td>\n",
       "      <td>...</td>\n",
       "    </tr>\n",
       "    <tr>\n",
       "      <th>25968</th>\n",
       "      <td>25968</td>\n",
       "      <td>1756</td>\n",
       "      <td>30-34</td>\n",
       "      <td>Man</td>\n",
       "      <td>Man</td>\n",
       "      <td>Africa</td>\n",
       "      <td>Egypt</td>\n",
       "      <td>Bachelor’s degree</td>\n",
       "      <td>Data Analyst</td>\n",
       "      <td>1-3 years</td>\n",
       "      <td>Computers/Technology</td>\n",
       "      <td>10,000 or more employees</td>\n",
       "      <td>15,000-19,999</td>\n",
       "    </tr>\n",
       "    <tr>\n",
       "      <th>25969</th>\n",
       "      <td>25969</td>\n",
       "      <td>253</td>\n",
       "      <td>22-24</td>\n",
       "      <td>Man</td>\n",
       "      <td>Man</td>\n",
       "      <td>Asia</td>\n",
       "      <td>China</td>\n",
       "      <td>Master’s degree</td>\n",
       "      <td>Student</td>\n",
       "      <td>1-3 years</td>\n",
       "      <td>NaN</td>\n",
       "      <td>NaN</td>\n",
       "      <td>NaN</td>\n",
       "    </tr>\n",
       "    <tr>\n",
       "      <th>25970</th>\n",
       "      <td>25970</td>\n",
       "      <td>494</td>\n",
       "      <td>50-54</td>\n",
       "      <td>Man</td>\n",
       "      <td>Man</td>\n",
       "      <td>Europe</td>\n",
       "      <td>Sweden</td>\n",
       "      <td>Doctoral degree</td>\n",
       "      <td>Research Scientist</td>\n",
       "      <td>I have never written code</td>\n",
       "      <td>Academics/Education</td>\n",
       "      <td>1000-9,999 employees</td>\n",
       "      <td>$0-999</td>\n",
       "    </tr>\n",
       "    <tr>\n",
       "      <th>25971</th>\n",
       "      <td>25971</td>\n",
       "      <td>277</td>\n",
       "      <td>45-49</td>\n",
       "      <td>Man</td>\n",
       "      <td>Man</td>\n",
       "      <td>North America</td>\n",
       "      <td>United States of America</td>\n",
       "      <td>Master’s degree</td>\n",
       "      <td>Data Scientist</td>\n",
       "      <td>5-10 years</td>\n",
       "      <td>Online Service/Internet-based Services</td>\n",
       "      <td>10,000 or more employees</td>\n",
       "      <td>NaN</td>\n",
       "    </tr>\n",
       "    <tr>\n",
       "      <th>25972</th>\n",
       "      <td>25972</td>\n",
       "      <td>255</td>\n",
       "      <td>18-21</td>\n",
       "      <td>Man</td>\n",
       "      <td>Man</td>\n",
       "      <td>Asia</td>\n",
       "      <td>India</td>\n",
       "      <td>Bachelor’s degree</td>\n",
       "      <td>Business Analyst</td>\n",
       "      <td>I have never written code</td>\n",
       "      <td>Other</td>\n",
       "      <td>0-49 employees</td>\n",
       "      <td>$0-999</td>\n",
       "    </tr>\n",
       "  </tbody>\n",
       "</table>\n",
       "<p>25973 rows × 13 columns</p>\n",
       "</div>"
      ],
      "text/plain": [
       "       index  time    age gender gender_def      continent  \\\n",
       "0          0   910  50-54    Man        Man           Asia   \n",
       "1          1   784  50-54    Man        Man           Asia   \n",
       "2          2   924  22-24    Man        Man           Asia   \n",
       "3          3   575  45-49    Man        Man  North America   \n",
       "4          4   781  45-49    Man        Man           Asia   \n",
       "...      ...   ...    ...    ...        ...            ...   \n",
       "25968  25968  1756  30-34    Man        Man         Africa   \n",
       "25969  25969   253  22-24    Man        Man           Asia   \n",
       "25970  25970   494  50-54    Man        Man         Europe   \n",
       "25971  25971   277  45-49    Man        Man  North America   \n",
       "25972  25972   255  18-21    Man        Man           Asia   \n",
       "\n",
       "                     country_q3       education_q4                  role_q5  \\\n",
       "0                         India  Bachelor’s degree                    Other   \n",
       "1                     Indonesia    Master’s degree  Program/Project Manager   \n",
       "2                      Pakistan    Master’s degree        Software Engineer   \n",
       "3                        Mexico    Doctoral degree       Research Scientist   \n",
       "4                         India    Doctoral degree                    Other   \n",
       "...                         ...                ...                      ...   \n",
       "25968                     Egypt  Bachelor’s degree             Data Analyst   \n",
       "25969                     China    Master’s degree                  Student   \n",
       "25970                    Sweden    Doctoral degree       Research Scientist   \n",
       "25971  United States of America    Master’s degree           Data Scientist   \n",
       "25972                     India  Bachelor’s degree         Business Analyst   \n",
       "\n",
       "                   experience_q6                              sector_q20  \\\n",
       "0                     5-10 years               Manufacturing/Fabrication   \n",
       "1                      20+ years               Manufacturing/Fabrication   \n",
       "2                      1-3 years                     Academics/Education   \n",
       "3                      20+ years                     Academics/Education   \n",
       "4                      < 1 years                     Academics/Education   \n",
       "...                          ...                                     ...   \n",
       "25968                  1-3 years                    Computers/Technology   \n",
       "25969                  1-3 years                                     NaN   \n",
       "25970  I have never written code                     Academics/Education   \n",
       "25971                 5-10 years  Online Service/Internet-based Services   \n",
       "25972  I have never written code                                   Other   \n",
       "\n",
       "               company_size_q21 anual_income_q25  \n",
       "0              50-249 employees    25,000-29,999  \n",
       "1          1000-9,999 employees    60,000-69,999  \n",
       "2          1000-9,999 employees           $0-999  \n",
       "3          1000-9,999 employees    30,000-39,999  \n",
       "4              50-249 employees    30,000-39,999  \n",
       "...                         ...              ...  \n",
       "25968  10,000 or more employees    15,000-19,999  \n",
       "25969                       NaN              NaN  \n",
       "25970      1000-9,999 employees           $0-999  \n",
       "25971  10,000 or more employees              NaN  \n",
       "25972            0-49 employees           $0-999  \n",
       "\n",
       "[25973 rows x 13 columns]"
      ]
     },
     "execution_count": 11,
     "metadata": {},
     "output_type": "execute_result"
    }
   ],
   "source": [
    "df_def_fomacion=df_formacion.loc[:,[ 'index', 'time', 'age', 'gender','gender_def','continent','country_q3','education_q4','role_q5','experience_q6','sector_q20','company_size_q21','anual_income_q25']]\n",
    "df_def_fomacion"
   ]
  },
  {
   "cell_type": "code",
   "execution_count": 12,
   "metadata": {},
   "outputs": [
    {
     "data": {
      "image/png": "[encoded data removed]",
      "text/plain": [
       "<Figure size 720x576 with 1 Axes>"
      ]
     },
     "metadata": {
      "needs_background": "light"
     },
     "output_type": "display_data"
    }
   ],
   "source": [
    "plt.figure(figsize =(10,8))\n",
    "sns.histplot(x=df_formacion['education_q4'],data = df_formacion, hue='gender_def', kde=True)\n",
    "plt.xticks(rotation= 75)\n",
    "plt.show()"
   ]
  },
  {
   "attachments": {},
   "cell_type": "markdown",
   "metadata": {},
   "source": [
    "### Como tenemos muchos estudiantes, cruzaré los datos por un lado, con estudiantes incluido, y por otro, en la población que trabaja, que la voy a aproximar con los que han contestado el salario"
   ]
  },
  {
   "cell_type": "code",
   "execution_count": 13,
   "metadata": {},
   "outputs": [
    {
     "data": {
      "text/plain": [
       "index                   0\n",
       "time                    0\n",
       "age                     0\n",
       "gender                  0\n",
       "gender_def            355\n",
       "continent               0\n",
       "country_q3              0\n",
       "education_q4            0\n",
       "role_q5                 0\n",
       "experience_q6           0\n",
       "sector_q20           9648\n",
       "company_size_q21     9722\n",
       "anual_income_q25    10582\n",
       "dtype: int64"
      ]
     },
     "execution_count": 13,
     "metadata": {},
     "output_type": "execute_result"
    }
   ],
   "source": [
    "df_def_fomacion.isnull().sum()"
   ]
  },
  {
   "cell_type": "code",
   "execution_count": 14,
   "metadata": {},
   "outputs": [],
   "source": [
    "def porcentaje(df):\n",
    "    array2=[]\n",
    "    for i in df.columns:\n",
    "        for v in df[i]:\n",
    "            print(i)\n",
    "        z=v*100/df[i].sum()\n",
    "        array2.append(z)\n",
    "        \n",
    "    return  np.round(np.array(array2), decimals=2)\n",
    "    \n",
    "    #funcion para hallar porcentajes\n",
    "    #print(z)\n",
    "    #tamaño_genero[\"Woman%\"] =tamaño_genero_porcentaje (tamaño_genero[\"'Woman\"].apply(porcentaje))"
   ]
  },
  {
   "cell_type": "code",
   "execution_count": null,
   "metadata": {},
   "outputs": [],
   "source": [
    "for col in df.columns:\n",
    "    print(\"------------------------------------------------------------\", \"\\n\")\n",
    "    print(f\"En la columna {col} tenemos los siguientes valores unicos\")\n",
    "    z=col*100/df[col].sum()\n",
    "    array2.append(z)\n",
    "    print(df[col].unique())\n",
    "    print(\"\\n\", \"\n",
    "      return  np.round(np.array(array2), decimals=2)"
   ]
  },
  {
   "cell_type": "code",
   "execution_count": null,
   "metadata": {},
   "outputs": [],
   "source": [
    "for col in categoricas.columns:\n",
    "    print(\"------------------------------------------------------------\", \"\\n\")\n",
    "    print(f\"En la columna {col} tenemos los siguientes valores unicos\")\n",
    "    print(pd.DataFrame(df[col].value_counts()))\n",
    "    print(\"\\n\", \"------------------------------------------------------------\", \"\\n\")"
   ]
  },
  {
   "cell_type": "code",
   "execution_count": 17,
   "metadata": {},
   "outputs": [
    {
     "data": {
      "text/html": [
       "<div>\n",
       "<style scoped>\n",
       "    .dataframe tbody tr th:only-of-type {\n",
       "        vertical-align: middle;\n",
       "    }\n",
       "\n",
       "    .dataframe tbody tr th {\n",
       "        vertical-align: top;\n",
       "    }\n",
       "\n",
       "    .dataframe thead th {\n",
       "        text-align: right;\n",
       "    }\n",
       "</style>\n",
       "<table border=\"1\" class=\"dataframe\">\n",
       "  <thead>\n",
       "    <tr style=\"text-align: right;\">\n",
       "      <th>education_q4</th>\n",
       "      <th>Bachelor’s degree</th>\n",
       "      <th>Doctoral degree</th>\n",
       "      <th>I prefer not to answer</th>\n",
       "      <th>Master’s degree</th>\n",
       "      <th>No formal education past high school</th>\n",
       "      <th>Professional doctorate</th>\n",
       "      <th>Some college/university study without earning a bachelor’s degree</th>\n",
       "      <th>All</th>\n",
       "    </tr>\n",
       "    <tr>\n",
       "      <th>gender_def</th>\n",
       "      <th></th>\n",
       "      <th></th>\n",
       "      <th></th>\n",
       "      <th></th>\n",
       "      <th></th>\n",
       "      <th></th>\n",
       "      <th></th>\n",
       "      <th></th>\n",
       "    </tr>\n",
       "  </thead>\n",
       "  <tbody>\n",
       "    <tr>\n",
       "      <th>Man</th>\n",
       "      <td>7928</td>\n",
       "      <td>2171</td>\n",
       "      <td>445</td>\n",
       "      <td>7995</td>\n",
       "      <td>360</td>\n",
       "      <td>270</td>\n",
       "      <td>1429</td>\n",
       "      <td>20598</td>\n",
       "    </tr>\n",
       "    <tr>\n",
       "      <th>NB</th>\n",
       "      <td>45</td>\n",
       "      <td>15</td>\n",
       "      <td>6</td>\n",
       "      <td>36</td>\n",
       "      <td>8</td>\n",
       "      <td>3</td>\n",
       "      <td>17</td>\n",
       "      <td>130</td>\n",
       "    </tr>\n",
       "    <tr>\n",
       "      <th>Woman</th>\n",
       "      <td>1843</td>\n",
       "      <td>565</td>\n",
       "      <td>140</td>\n",
       "      <td>1950</td>\n",
       "      <td>44</td>\n",
       "      <td>81</td>\n",
       "      <td>267</td>\n",
       "      <td>4890</td>\n",
       "    </tr>\n",
       "    <tr>\n",
       "      <th>All</th>\n",
       "      <td>9816</td>\n",
       "      <td>2751</td>\n",
       "      <td>591</td>\n",
       "      <td>9981</td>\n",
       "      <td>412</td>\n",
       "      <td>354</td>\n",
       "      <td>1713</td>\n",
       "      <td>25618</td>\n",
       "    </tr>\n",
       "  </tbody>\n",
       "</table>\n",
       "</div>"
      ],
      "text/plain": [
       "education_q4  Bachelor’s degree  Doctoral degree  I prefer not to answer  \\\n",
       "gender_def                                                                 \n",
       "Man                        7928             2171                     445   \n",
       "NB                           45               15                       6   \n",
       "Woman                      1843              565                     140   \n",
       "All                        9816             2751                     591   \n",
       "\n",
       "education_q4  Master’s degree  No formal education past high school  \\\n",
       "gender_def                                                            \n",
       "Man                      7995                                   360   \n",
       "NB                         36                                     8   \n",
       "Woman                    1950                                    44   \n",
       "All                      9981                                   412   \n",
       "\n",
       "education_q4  Professional doctorate  \\\n",
       "gender_def                             \n",
       "Man                              270   \n",
       "NB                                 3   \n",
       "Woman                             81   \n",
       "All                              354   \n",
       "\n",
       "education_q4  Some college/university study without earning a bachelor’s degree  \\\n",
       "gender_def                                                                        \n",
       "Man                                                        1429                   \n",
       "NB                                                           17                   \n",
       "Woman                                                       267                   \n",
       "All                                                        1713                   \n",
       "\n",
       "education_q4    All  \n",
       "gender_def           \n",
       "Man           20598  \n",
       "NB              130  \n",
       "Woman          4890  \n",
       "All           25618  "
      ]
     },
     "execution_count": 17,
     "metadata": {},
     "output_type": "execute_result"
    }
   ],
   "source": [
    "educacion_gen2=pd.DataFrame(pd.crosstab(df_formacion['gender_def'],df_formacion['education_q4'], margins=True))\n",
    "educacion_gen2\n",
    "\n"
   ]
  },
  {
   "cell_type": "code",
   "execution_count": null,
   "metadata": {},
   "outputs": [],
   "source": [
    "educacion_gen2_no_null=pd.DataFrame(pd.crosstab(df_formacion_sin_inactivos['gender'],df_formacion_sin_inactivos['education_q4'], margins=True))\n",
    "educacion_gen2_no_null"
   ]
  },
  {
   "cell_type": "code",
   "execution_count": null,
   "metadata": {},
   "outputs": [],
   "source": [
    "plt.figure(figsize =(10,8))\n",
    "sns.histplot(x=df_def_fomacion['education_q4'],data = df_def_fomacion, hue='gender')#, kde=True)\n",
    "plt.xticks(rotation= 75)\n",
    "plt.show()"
   ]
  },
  {
   "cell_type": "code",
   "execution_count": null,
   "metadata": {},
   "outputs": [],
   "source": [
    "plt.figure(figsize =(10,8))\n",
    "sns.histplot(x=df_formacion_sin_inactivos['education_q4'],data = df_formacion_sin_inactivos, hue='gender')#, kde=True)\n",
    "plt.xticks(rotation= 75)\n",
    "plt.show()"
   ]
  },
  {
   "cell_type": "code",
   "execution_count": null,
   "metadata": {},
   "outputs": [],
   "source": [
    "educacion_gen3=pd.DataFrame(pd.crosstab(df_def_fomacion['role_q5'],df_def_fomacion['education_q4'], margins=True).reset_index())\n",
    "educacion_gen3"
   ]
  },
  {
   "cell_type": "code",
   "execution_count": null,
   "metadata": {},
   "outputs": [],
   "source": [
    "educacion_gen3_no_null=pd.DataFrame(pd.crosstab(df_formacion_sin_inactivos['role_q5'],df_formacion_sin_inactivos['education_q4'], margins=True).reset_index())\n",
    "educacion_gen3_no_null"
   ]
  },
  {
   "cell_type": "code",
   "execution_count": null,
   "metadata": {},
   "outputs": [],
   "source": [
    "plt.figure(figsize =(10,8))\n",
    "sns.histplot(x=df_def_fomacion['role_q5'],data = df_def_fomacion, hue='education_q4')#, kde=True)\n",
    "plt.xticks(rotation= 75)\n",
    "plt.show()"
   ]
  },
  {
   "cell_type": "code",
   "execution_count": null,
   "metadata": {},
   "outputs": [],
   "source": [
    "plt.figure(figsize =(10,8))\n",
    "sns.histplot(x=df_formacion_sin_inactivos['role_q5'],data = df_formacion_sin_inactivos, hue='education_q4')#, kde=True)\n",
    "plt.xticks(rotation= 75)\n",
    "plt.show()"
   ]
  },
  {
   "cell_type": "code",
   "execution_count": null,
   "metadata": {},
   "outputs": [],
   "source": [
    "educacion_gen4=pd.DataFrame(pd.crosstab(df_def_fomacion['anual_income_q25'],df_def_fomacion['education_q4'], margins=True))\n",
    "educacion_gen4"
   ]
  },
  {
   "cell_type": "code",
   "execution_count": null,
   "metadata": {},
   "outputs": [],
   "source": [
    "educacion_gen4_no_null=pd.DataFrame(pd.crosstab(df_formacion_sin_inactivos['anual_income_q25'],df_formacion_sin_inactivos['education_q4'], margins=True))\n",
    "educacion_gen4_no_null"
   ]
  },
  {
   "cell_type": "code",
   "execution_count": null,
   "metadata": {},
   "outputs": [],
   "source": [
    "plt.figure(figsize =(10,8))\n",
    "sns.histplot(x=df_def_fomacion['anual_income_q25'],data = df_def_fomacion, hue='education_q4')#, kde=True)\n",
    "plt.xticks(rotation= 75)\n",
    "plt.show()"
   ]
  },
  {
   "cell_type": "code",
   "execution_count": null,
   "metadata": {},
   "outputs": [],
   "source": [
    "plt.figure(figsize =(10,8))\n",
    "sns.histplot(x=df_formacion_sin_inactivos['anual_income_q25'],data = df_formacion_sin_inactivos, hue='education_q4')#, kde=True)\n",
    "plt.xticks(rotation= 75)\n",
    "plt.show()"
   ]
  },
  {
   "cell_type": "code",
   "execution_count": null,
   "metadata": {},
   "outputs": [],
   "source": [
    "educacion_gen5=pd.DataFrame(pd.crosstab(df_def_fomacion['company_size_q21'],df_def_fomacion['education_q4'], margins=True).reset_index())\n",
    "educacion_gen5"
   ]
  },
  {
   "cell_type": "code",
   "execution_count": null,
   "metadata": {},
   "outputs": [],
   "source": [
    "educacion_gen5_no_null=pd.DataFrame(pd.crosstab(df_formacion_sin_inactivos['company_size_q21'],df_formacion_sin_inactivos['education_q4'], margins=True).reset_index())\n",
    "educacion_gen5_no_null"
   ]
  },
  {
   "cell_type": "code",
   "execution_count": null,
   "metadata": {},
   "outputs": [],
   "source": [
    "plt.figure(figsize =(10,8))\n",
    "sns.histplot(x=df_def_fomacion['education_q4'],data = df_def_fomacion, hue='company_size_q21')#, kde=True)\n",
    "plt.xticks(rotation= 75)\n",
    "plt.show()"
   ]
  },
  {
   "cell_type": "code",
   "execution_count": null,
   "metadata": {},
   "outputs": [],
   "source": [
    "plt.figure(figsize =(10,8))\n",
    "sns.histplot(x=df_formacion_sin_inactivos['education_q4'],data = df_formacion_sin_inactivos, hue='company_size_q21')#, kde=True)\n",
    "plt.xticks(rotation= 75)\n",
    "plt.show()"
   ]
  },
  {
   "cell_type": "code",
   "execution_count": null,
   "metadata": {},
   "outputs": [],
   "source": [
    "educacion_gen6=pd.DataFrame(pd.crosstab(df_def_fomacion['country_q3'],df_def_fomacion['education_q4'], margins=True).reset_index())\n",
    "educacion_gen6"
   ]
  },
  {
   "cell_type": "code",
   "execution_count": null,
   "metadata": {},
   "outputs": [],
   "source": [
    "educacion_gen6_no_null=pd.DataFrame(pd.crosstab(df_formacion_sin_inactivos['country_q3'],df_formacion_sin_inactivos['education_q4'], margins=True).reset_index())\n",
    "educacion_gen6_no_null"
   ]
  },
  {
   "cell_type": "code",
   "execution_count": null,
   "metadata": {},
   "outputs": [],
   "source": [
    "plt.figure(figsize =(20,15))\n",
    "sns.histplot(x=df_def_fomacion['country_q3'],data = df_def_fomacion, hue='education_q4')#, kde=True)\n",
    "plt.xticks(rotation= 75)\n",
    "plt.show()"
   ]
  },
  {
   "cell_type": "code",
   "execution_count": null,
   "metadata": {},
   "outputs": [],
   "source": [
    "plt.figure(figsize =(20,15))\n",
    "sns.histplot(x=df_formacion_sin_inactivos['country_q3'],data = df_formacion_sin_inactivos, hue='education_q4')#, kde=True)\n",
    "plt.xticks(rotation= 75)\n",
    "plt.show()"
   ]
  },
  {
   "cell_type": "code",
   "execution_count": null,
   "metadata": {},
   "outputs": [],
   "source": [
    "educacion_gen7=pd.DataFrame(pd.crosstab(df_def_fomacion['experience_q6'],df_def_fomacion['education_q4'], margins=True))\n",
    "educacion_gen7"
   ]
  },
  {
   "cell_type": "code",
   "execution_count": null,
   "metadata": {},
   "outputs": [],
   "source": [
    "educacion_gen7_no_null=pd.DataFrame(pd.crosstab(df_formacion_sin_inactivos['experience_q6'],df_formacion_sin_inactivos['education_q4'], margins=True))\n",
    "educacion_gen7_no_null"
   ]
  },
  {
   "attachments": {},
   "cell_type": "markdown",
   "metadata": {},
   "source": [
    "Los datos ue menos varian segun empleabilidad y experiencia, son los de los doctorados"
   ]
  },
  {
   "cell_type": "code",
   "execution_count": null,
   "metadata": {},
   "outputs": [],
   "source": [
    "plt.figure(figsize =(10,8))\n",
    "sns.histplot(x=df_def_fomacion['education_q4'],data = df_def_fomacion, hue='experience_q6')#, kde=True)\n",
    "plt.xticks(rotation= 75)\n",
    "plt.show()"
   ]
  },
  {
   "cell_type": "code",
   "execution_count": null,
   "metadata": {},
   "outputs": [],
   "source": [
    "plt.figure(figsize =(10,8))\n",
    "sns.histplot(x=df_formacion_sin_inactivos['education_q4'],data = df_formacion_sin_inactivos, hue='experience_q6')#, kde=True)\n",
    "plt.xticks(rotation= 75)\n",
    "plt.show()"
   ]
  },
  {
   "cell_type": "code",
   "execution_count": null,
   "metadata": {},
   "outputs": [],
   "source": [
    "educacion_gen8=pd.DataFrame(pd.crosstab(df_def_fomacion['sector_q20'],df_def_fomacion['education_q4'], margins=True).reset_index())\n",
    "educacion_gen8"
   ]
  },
  {
   "cell_type": "code",
   "execution_count": null,
   "metadata": {},
   "outputs": [],
   "source": [
    "educacion_gen8_no_null=pd.DataFrame(pd.crosstab(df_formacion_sin_inactivos['sector_q20'],df_formacion_sin_inactivos['education_q4'], margins=True).reset_index())\n",
    "educacion_gen8_no_null"
   ]
  },
  {
   "cell_type": "code",
   "execution_count": null,
   "metadata": {},
   "outputs": [],
   "source": [
    "plt.figure(figsize =(10,8))\n",
    "sns.histplot(x=df_def_fomacion['sector_q20'],data = df_def_fomacion, hue='education_q4')#, kde=True)\n",
    "plt.xticks(rotation= 75)\n",
    "plt.show()"
   ]
  },
  {
   "cell_type": "code",
   "execution_count": null,
   "metadata": {},
   "outputs": [],
   "source": [
    "plt.figure(figsize =(10,8))\n",
    "sns.histplot(x=df_formacion_sin_inactivos['sector_q20'],data = df_formacion_sin_inactivos, hue='education_q4')#, kde=True)\n",
    "plt.xticks(rotation= 75)\n",
    "plt.show()"
   ]
  },
  {
   "cell_type": "code",
   "execution_count": null,
   "metadata": {},
   "outputs": [],
   "source": [
    "educacion_gen9=pd.DataFrame(pd.crosstab(df_def_fomacion['age'],df_def_fomacion['education_q4'], margins=True).reset_index())\n",
    "educacion_gen9"
   ]
  },
  {
   "cell_type": "code",
   "execution_count": null,
   "metadata": {},
   "outputs": [],
   "source": [
    "educacion_gen9_no_null=pd.DataFrame(pd.crosstab(df_formacion_sin_inactivos['age'],df_formacion_sin_inactivos['education_q4'], margins=True).reset_index())\n",
    "educacion_gen9_no_null"
   ]
  },
  {
   "cell_type": "code",
   "execution_count": null,
   "metadata": {},
   "outputs": [],
   "source": [
    "plt.figure(figsize =(10,8))\n",
    "sns.histplot(x=df_def_fomacion['education_q4'],data = df_def_fomacion, hue='age')#, kde=True)\n",
    "plt.xticks(rotation= 75)\n",
    "plt.show()"
   ]
  },
  {
   "cell_type": "code",
   "execution_count": null,
   "metadata": {},
   "outputs": [],
   "source": [
    "plt.figure(figsize =(10,8))\n",
    "sns.histplot(x=df_formacion_sin_inactivos['education_q4'],data = df_formacion_sin_inactivos, hue='age')\n",
    "plt.xticks(rotation= 75)\n",
    "plt.show()\n",
    "\n"
   ]
  },
  {
   "attachments": {},
   "cell_type": "markdown",
   "metadata": {},
   "source": [
    "En general, a mayor edad, mayor formacion, los doctorados, van bajando la proporcion con la edad, a la vez que va subiendo la licenciatura casi. El grado de master, mas o menos se mantiene, an los activos."
   ]
  }
 ],
 "metadata": {
  "kernelspec": {
   "display_name": "Python 3",
   "language": "python",
   "name": "python3"
  },
  "language_info": {
   "codemirror_mode": {
    "name": "ipython",
    "version": 3
   },
   "file_extension": ".py",
   "mimetype": "text/x-python",
   "name": "python",
   "nbconvert_exporter": "python",
   "pygments_lexer": "ipython3",
   "version": "3.9.7"
  },
  "orig_nbformat": 4,
  "vscode": {
   "interpreter": {
    "hash": "235f9155b0abc8f1580e75acf7c6712d847a3598ded282a80a21bb1bc6aba73f"
   }
  }
 },
 "nbformat": 4,
 "nbformat_minor": 2
}
