{
 "cells": [
  {
   "cell_type": "code",
   "execution_count": 2,
   "metadata": {},
   "outputs": [],
   "source": [
    "import pandas as pd\n",
    "import numpy as np\n",
    "import xml.etree.ElementTree as ET\n",
    "import lxml\n",
    "import matplotlib.pyplot as plt\n",
    "import seaborn as sns"
   ]
  },
  {
   "cell_type": "code",
   "execution_count": 3,
   "metadata": {},
   "outputs": [
    {
     "data": {
      "text/html": [
       "<div>\n",
       "<style scoped>\n",
       "    .dataframe tbody tr th:only-of-type {\n",
       "        vertical-align: middle;\n",
       "    }\n",
       "\n",
       "    .dataframe tbody tr th {\n",
       "        vertical-align: top;\n",
       "    }\n",
       "\n",
       "    .dataframe thead th {\n",
       "        text-align: right;\n",
       "    }\n",
       "</style>\n",
       "<table border=\"1\" class=\"dataframe\">\n",
       "  <thead>\n",
       "    <tr style=\"text-align: right;\">\n",
       "      <th></th>\n",
       "      <th>index</th>\n",
       "      <th>time</th>\n",
       "      <th>age</th>\n",
       "      <th>gender</th>\n",
       "      <th>country_q3</th>\n",
       "      <th>education_q4</th>\n",
       "      <th>role_q5</th>\n",
       "      <th>experience_q6</th>\n",
       "      <th>Q8</th>\n",
       "      <th>Q11</th>\n",
       "      <th>...</th>\n",
       "      <th>Q38_B_Part_3</th>\n",
       "      <th>Q38_B_Part_4</th>\n",
       "      <th>Q38_B_Part_5</th>\n",
       "      <th>Q38_B_Part_6</th>\n",
       "      <th>Q38_B_Part_7</th>\n",
       "      <th>Q38_B_Part_8</th>\n",
       "      <th>Q38_B_Part_9</th>\n",
       "      <th>Q38_B_Part_10</th>\n",
       "      <th>Q38_B_Part_11</th>\n",
       "      <th>Q38_B_OTHER</th>\n",
       "    </tr>\n",
       "  </thead>\n",
       "  <tbody>\n",
       "    <tr>\n",
       "      <th>24809</th>\n",
       "      <td>24809</td>\n",
       "      <td>593</td>\n",
       "      <td>25-29</td>\n",
       "      <td>Man</td>\n",
       "      <td>Chile</td>\n",
       "      <td>Master’s degree</td>\n",
       "      <td>Student</td>\n",
       "      <td>&lt; 1 years</td>\n",
       "      <td>R</td>\n",
       "      <td>A laptop</td>\n",
       "      <td>...</td>\n",
       "      <td>NaN</td>\n",
       "      <td>NaN</td>\n",
       "      <td>TensorBoard</td>\n",
       "      <td>NaN</td>\n",
       "      <td>NaN</td>\n",
       "      <td>NaN</td>\n",
       "      <td>NaN</td>\n",
       "      <td>NaN</td>\n",
       "      <td>NaN</td>\n",
       "      <td>NaN</td>\n",
       "    </tr>\n",
       "    <tr>\n",
       "      <th>5847</th>\n",
       "      <td>5847</td>\n",
       "      <td>626</td>\n",
       "      <td>30-34</td>\n",
       "      <td>Man</td>\n",
       "      <td>Peru</td>\n",
       "      <td>Master’s degree</td>\n",
       "      <td>Business Analyst</td>\n",
       "      <td>&lt; 1 years</td>\n",
       "      <td>SQL</td>\n",
       "      <td>A laptop</td>\n",
       "      <td>...</td>\n",
       "      <td>NaN</td>\n",
       "      <td>Sacred + Omniboard</td>\n",
       "      <td>TensorBoard</td>\n",
       "      <td>NaN</td>\n",
       "      <td>Polyaxon</td>\n",
       "      <td>NaN</td>\n",
       "      <td>NaN</td>\n",
       "      <td>NaN</td>\n",
       "      <td>NaN</td>\n",
       "      <td>NaN</td>\n",
       "    </tr>\n",
       "    <tr>\n",
       "      <th>18837</th>\n",
       "      <td>18837</td>\n",
       "      <td>295</td>\n",
       "      <td>22-24</td>\n",
       "      <td>Man</td>\n",
       "      <td>India</td>\n",
       "      <td>Bachelor’s degree</td>\n",
       "      <td>Student</td>\n",
       "      <td>1-3 years</td>\n",
       "      <td>Python</td>\n",
       "      <td>A personal computer / desktop</td>\n",
       "      <td>...</td>\n",
       "      <td>NaN</td>\n",
       "      <td>NaN</td>\n",
       "      <td>NaN</td>\n",
       "      <td>NaN</td>\n",
       "      <td>NaN</td>\n",
       "      <td>NaN</td>\n",
       "      <td>NaN</td>\n",
       "      <td>NaN</td>\n",
       "      <td>NaN</td>\n",
       "      <td>NaN</td>\n",
       "    </tr>\n",
       "  </tbody>\n",
       "</table>\n",
       "<p>3 rows × 242 columns</p>\n",
       "</div>"
      ],
      "text/plain": [
       "       index  time    age gender country_q3       education_q4  \\\n",
       "24809  24809   593  25-29    Man      Chile    Master’s degree   \n",
       "5847    5847   626  30-34    Man       Peru    Master’s degree   \n",
       "18837  18837   295  22-24    Man      India  Bachelor’s degree   \n",
       "\n",
       "                role_q5 experience_q6      Q8                            Q11  \\\n",
       "24809           Student     < 1 years       R                       A laptop   \n",
       "5847   Business Analyst     < 1 years     SQL                       A laptop   \n",
       "18837           Student     1-3 years  Python  A personal computer / desktop   \n",
       "\n",
       "       ... Q38_B_Part_3          Q38_B_Part_4   Q38_B_Part_5 Q38_B_Part_6  \\\n",
       "24809  ...          NaN                   NaN   TensorBoard           NaN   \n",
       "5847   ...          NaN   Sacred + Omniboard    TensorBoard           NaN   \n",
       "18837  ...          NaN                   NaN            NaN          NaN   \n",
       "\n",
       "      Q38_B_Part_7 Q38_B_Part_8 Q38_B_Part_9 Q38_B_Part_10 Q38_B_Part_11  \\\n",
       "24809          NaN          NaN          NaN           NaN           NaN   \n",
       "5847     Polyaxon           NaN          NaN           NaN           NaN   \n",
       "18837          NaN          NaN          NaN           NaN           NaN   \n",
       "\n",
       "      Q38_B_OTHER  \n",
       "24809         NaN  \n",
       "5847          NaN  \n",
       "18837         NaN  \n",
       "\n",
       "[3 rows x 242 columns]"
      ]
     },
     "execution_count": 3,
     "metadata": {},
     "output_type": "execute_result"
    }
   ],
   "source": [
    "df = pd.read_csv('../files/df_a_usar_2.csv', index_col=0)\n",
    "df.sample(3)"
   ]
  },
  {
   "cell_type": "code",
   "execution_count": 4,
   "metadata": {},
   "outputs": [
    {
     "data": {
      "text/html": [
       "<div>\n",
       "<style scoped>\n",
       "    .dataframe tbody tr th:only-of-type {\n",
       "        vertical-align: middle;\n",
       "    }\n",
       "\n",
       "    .dataframe tbody tr th {\n",
       "        vertical-align: top;\n",
       "    }\n",
       "\n",
       "    .dataframe thead th {\n",
       "        text-align: right;\n",
       "    }\n",
       "</style>\n",
       "<table border=\"1\" class=\"dataframe\">\n",
       "  <thead>\n",
       "    <tr style=\"text-align: right;\">\n",
       "      <th></th>\n",
       "      <th>index</th>\n",
       "      <th>gender</th>\n",
       "    </tr>\n",
       "  </thead>\n",
       "  <tbody>\n",
       "    <tr>\n",
       "      <th>0</th>\n",
       "      <td>Man</td>\n",
       "      <td>20598</td>\n",
       "    </tr>\n",
       "    <tr>\n",
       "      <th>1</th>\n",
       "      <td>Woman</td>\n",
       "      <td>4890</td>\n",
       "    </tr>\n",
       "    <tr>\n",
       "      <th>2</th>\n",
       "      <td>Prefer not to say</td>\n",
       "      <td>355</td>\n",
       "    </tr>\n",
       "    <tr>\n",
       "      <th>3</th>\n",
       "      <td>Nonbinary</td>\n",
       "      <td>88</td>\n",
       "    </tr>\n",
       "    <tr>\n",
       "      <th>4</th>\n",
       "      <td>Prefer to self-describe</td>\n",
       "      <td>42</td>\n",
       "    </tr>\n",
       "  </tbody>\n",
       "</table>\n",
       "</div>"
      ],
      "text/plain": [
       "                     index  gender\n",
       "0                      Man   20598\n",
       "1                    Woman    4890\n",
       "2        Prefer not to say     355\n",
       "3                Nonbinary      88\n",
       "4  Prefer to self-describe      42"
      ]
     },
     "execution_count": 4,
     "metadata": {},
     "output_type": "execute_result"
    }
   ],
   "source": [
    "gender = (df['gender'].value_counts()).reset_index()\n",
    "gender"
   ]
  },
  {
   "cell_type": "code",
   "execution_count": 5,
   "metadata": {},
   "outputs": [
    {
     "data": {
      "text/plain": [
       "0                        Man\n",
       "1                      Woman\n",
       "2          Prefer not to say\n",
       "3                  Nonbinary\n",
       "4    Prefer to self-describe\n",
       "Name: index, dtype: object"
      ]
     },
     "execution_count": 5,
     "metadata": {},
     "output_type": "execute_result"
    }
   ],
   "source": [
    "gender['index']"
   ]
  },
  {
   "cell_type": "code",
   "execution_count": 6,
   "metadata": {},
   "outputs": [
    {
     "data": {
      "text/plain": [
       "Student                         6804\n",
       "Data Scientist                  3616\n",
       "Software Engineer               2449\n",
       "Other                           2393\n",
       "Data Analyst                    2301\n",
       "Currently not employed          1986\n",
       "Research Scientist              1538\n",
       "Machine Learning Engineer       1499\n",
       "Business Analyst                 968\n",
       "Program/Project Manager          849\n",
       "Data Engineer                    668\n",
       "Product Manager                  319\n",
       "Statistician                     313\n",
       "DBA/Database Engineer            171\n",
       "Developer Relations/Advocacy      99\n",
       "Name: role_q5, dtype: int64"
      ]
     },
     "execution_count": 6,
     "metadata": {},
     "output_type": "execute_result"
    }
   ],
   "source": [
    "puestos = df['role_q5'].value_counts()\n",
    "#puestos.sort_values(ascending=False)\n",
    "puestos"
   ]
  },
  {
   "attachments": {},
   "cell_type": "markdown",
   "metadata": {},
   "source": [
    "#### Depuración de la categoría 'gender':\n",
    "\n",
    "Observamos 5 categorías, siendo 2 hombre y mujer (géneros binarios), estando las 3 restantes dedicadas a aquellas personas que no se encuentran en el marco binario del género o prefieren no reportar su identidad de género.\n",
    "\n",
    "Tras consultar a la comunidad científica, [como es el caso de esta guía orientada a la investigación HCI (Human-Computer Interaction (2019)](https://sci-hub.hkvisa.net/10.1145/3338283), optamos por fusionar las categorías 'Nonbinary' y 'Prefer to self-describe'."
   ]
  },
  {
   "cell_type": "code",
   "execution_count": 17,
   "metadata": {},
   "outputs": [
    {
     "data": {
      "text/plain": [
       "Man      20598\n",
       "Woman     4890\n",
       "NB         130\n",
       "Name: gender2, dtype: int64"
      ]
     },
     "execution_count": 17,
     "metadata": {},
     "output_type": "execute_result"
    }
   ],
   "source": [
    "df['gender2'] = df['gender'].replace({'Man': 'Man', 'Woman': 'Woman', 'Prefer to self-describe': 'NB', 'Nonbinary': 'NB', 'Prefer not to say': np.nan})\n",
    "df['gender2'].value_counts()"
   ]
  },
  {
   "cell_type": "code",
   "execution_count": 21,
   "metadata": {},
   "outputs": [
    {
     "data": {
      "text/plain": [
       "index                0\n",
       "time                 0\n",
       "age                  0\n",
       "gender               0\n",
       "country_q3           0\n",
       "                 ...  \n",
       "Q38_B_Part_9     25307\n",
       "Q38_B_Part_10    23226\n",
       "Q38_B_Part_11    21431\n",
       "Q38_B_OTHER      25596\n",
       "gender2            355\n",
       "Length: 243, dtype: int64"
      ]
     },
     "execution_count": 21,
     "metadata": {},
     "output_type": "execute_result"
    }
   ],
   "source": [
    "df.isnull().sum()"
   ]
  },
  {
   "cell_type": "code",
   "execution_count": 19,
   "metadata": {},
   "outputs": [],
   "source": [
    "df['gender2'].dropna(how='any', inplace=True)"
   ]
  },
  {
   "cell_type": "code",
   "execution_count": 20,
   "metadata": {},
   "outputs": [
    {
     "data": {
      "text/plain": [
       "355"
      ]
     },
     "execution_count": 20,
     "metadata": {},
     "output_type": "execute_result"
    }
   ],
   "source": [
    "df['gender2'].isnull().sum()"
   ]
  },
  {
   "attachments": {},
   "cell_type": "markdown",
   "metadata": {},
   "source": [
    "#### Depuración de la categoría 'puesto':\n"
   ]
  },
  {
   "cell_type": "code",
   "execution_count": 11,
   "metadata": {},
   "outputs": [
    {
     "data": {
      "text/plain": [
       "Hombre    389\n",
       "Mujer      57\n",
       "NB          2\n",
       "Name: gender2, dtype: int64"
      ]
     },
     "execution_count": 11,
     "metadata": {},
     "output_type": "execute_result"
    }
   ],
   "source": [
    "spain = df[df['country_q3'] == 'Spain']\n",
    "spain['gender2'].value_counts()"
   ]
  },
  {
   "attachments": {},
   "cell_type": "markdown",
   "metadata": {},
   "source": [
    "#### Tabla de contingencias\n",
    "\n",
    "Género x Puesto"
   ]
  },
  {
   "cell_type": "code",
   "execution_count": null,
   "metadata": {},
   "outputs": [
    {
     "data": {
      "text/html": [
       "<div>\n",
       "<style scoped>\n",
       "    .dataframe tbody tr th:only-of-type {\n",
       "        vertical-align: middle;\n",
       "    }\n",
       "\n",
       "    .dataframe tbody tr th {\n",
       "        vertical-align: top;\n",
       "    }\n",
       "\n",
       "    .dataframe thead th {\n",
       "        text-align: right;\n",
       "    }\n",
       "</style>\n",
       "<table border=\"1\" class=\"dataframe\">\n",
       "  <thead>\n",
       "    <tr style=\"text-align: right;\">\n",
       "      <th>gender2</th>\n",
       "      <th>Hombre</th>\n",
       "      <th>Mujer</th>\n",
       "      <th>NB</th>\n",
       "    </tr>\n",
       "    <tr>\n",
       "      <th>role_q5</th>\n",
       "      <th></th>\n",
       "      <th></th>\n",
       "      <th></th>\n",
       "    </tr>\n",
       "  </thead>\n",
       "  <tbody>\n",
       "    <tr>\n",
       "      <th>Business Analyst</th>\n",
       "      <td>779</td>\n",
       "      <td>175</td>\n",
       "      <td>4</td>\n",
       "    </tr>\n",
       "    <tr>\n",
       "      <th>Currently not employed</th>\n",
       "      <td>1479</td>\n",
       "      <td>463</td>\n",
       "      <td>15</td>\n",
       "    </tr>\n",
       "    <tr>\n",
       "      <th>DBA/Database Engineer</th>\n",
       "      <td>141</td>\n",
       "      <td>20</td>\n",
       "      <td>1</td>\n",
       "    </tr>\n",
       "    <tr>\n",
       "      <th>Data Analyst</th>\n",
       "      <td>1759</td>\n",
       "      <td>505</td>\n",
       "      <td>9</td>\n",
       "    </tr>\n",
       "    <tr>\n",
       "      <th>Data Engineer</th>\n",
       "      <td>561</td>\n",
       "      <td>98</td>\n",
       "      <td>2</td>\n",
       "    </tr>\n",
       "    <tr>\n",
       "      <th>Data Scientist</th>\n",
       "      <td>2971</td>\n",
       "      <td>584</td>\n",
       "      <td>16</td>\n",
       "    </tr>\n",
       "    <tr>\n",
       "      <th>Developer Relations/Advocacy</th>\n",
       "      <td>79</td>\n",
       "      <td>16</td>\n",
       "      <td>2</td>\n",
       "    </tr>\n",
       "    <tr>\n",
       "      <th>Machine Learning Engineer</th>\n",
       "      <td>1285</td>\n",
       "      <td>179</td>\n",
       "      <td>10</td>\n",
       "    </tr>\n",
       "    <tr>\n",
       "      <th>Other</th>\n",
       "      <td>1926</td>\n",
       "      <td>429</td>\n",
       "      <td>12</td>\n",
       "    </tr>\n",
       "    <tr>\n",
       "      <th>Product Manager</th>\n",
       "      <td>266</td>\n",
       "      <td>45</td>\n",
       "      <td>3</td>\n",
       "    </tr>\n",
       "    <tr>\n",
       "      <th>Program/Project Manager</th>\n",
       "      <td>742</td>\n",
       "      <td>91</td>\n",
       "      <td>3</td>\n",
       "    </tr>\n",
       "    <tr>\n",
       "      <th>Research Scientist</th>\n",
       "      <td>1233</td>\n",
       "      <td>274</td>\n",
       "      <td>9</td>\n",
       "    </tr>\n",
       "    <tr>\n",
       "      <th>Software Engineer</th>\n",
       "      <td>2045</td>\n",
       "      <td>366</td>\n",
       "      <td>8</td>\n",
       "    </tr>\n",
       "    <tr>\n",
       "      <th>Statistician</th>\n",
       "      <td>239</td>\n",
       "      <td>71</td>\n",
       "      <td>0</td>\n",
       "    </tr>\n",
       "    <tr>\n",
       "      <th>Student</th>\n",
       "      <td>5093</td>\n",
       "      <td>1574</td>\n",
       "      <td>36</td>\n",
       "    </tr>\n",
       "  </tbody>\n",
       "</table>\n",
       "</div>"
      ],
      "text/plain": [
       "gender2                       Hombre  Mujer  NB\n",
       "role_q5                                        \n",
       "Business Analyst                 779    175   4\n",
       "Currently not employed          1479    463  15\n",
       "DBA/Database Engineer            141     20   1\n",
       "Data Analyst                    1759    505   9\n",
       "Data Engineer                    561     98   2\n",
       "Data Scientist                  2971    584  16\n",
       "Developer Relations/Advocacy      79     16   2\n",
       "Machine Learning Engineer       1285    179  10\n",
       "Other                           1926    429  12\n",
       "Product Manager                  266     45   3\n",
       "Program/Project Manager          742     91   3\n",
       "Research Scientist              1233    274   9\n",
       "Software Engineer               2045    366   8\n",
       "Statistician                     239     71   0\n",
       "Student                         5093   1574  36"
      ]
     },
     "execution_count": 7,
     "metadata": {},
     "output_type": "execute_result"
    }
   ],
   "source": [
    "tab_conting = pd.crosstab(df['role_q5'], df['gender2'], margins=False)\n",
    "tab_conting"
   ]
  },
  {
   "attachments": {},
   "cell_type": "markdown",
   "metadata": {},
   "source": [
    "Cálculo de las frecuencias relativas con % verticales (distribución por género):"
   ]
  },
  {
   "cell_type": "code",
   "execution_count": null,
   "metadata": {},
   "outputs": [
    {
     "data": {
      "text/html": [
       "<div>\n",
       "<style scoped>\n",
       "    .dataframe tbody tr th:only-of-type {\n",
       "        vertical-align: middle;\n",
       "    }\n",
       "\n",
       "    .dataframe tbody tr th {\n",
       "        vertical-align: top;\n",
       "    }\n",
       "\n",
       "    .dataframe thead th {\n",
       "        text-align: right;\n",
       "    }\n",
       "</style>\n",
       "<table border=\"1\" class=\"dataframe\">\n",
       "  <thead>\n",
       "    <tr style=\"text-align: right;\">\n",
       "      <th>gender2</th>\n",
       "      <th>Hombre</th>\n",
       "      <th>Mujer</th>\n",
       "      <th>NB</th>\n",
       "    </tr>\n",
       "    <tr>\n",
       "      <th>role_q5</th>\n",
       "      <th></th>\n",
       "      <th></th>\n",
       "      <th></th>\n",
       "    </tr>\n",
       "  </thead>\n",
       "  <tbody>\n",
       "    <tr>\n",
       "      <th>Business Analyst</th>\n",
       "      <td>0.04</td>\n",
       "      <td>0.04</td>\n",
       "      <td>0.03</td>\n",
       "    </tr>\n",
       "    <tr>\n",
       "      <th>Currently not employed</th>\n",
       "      <td>0.07</td>\n",
       "      <td>0.09</td>\n",
       "      <td>0.12</td>\n",
       "    </tr>\n",
       "    <tr>\n",
       "      <th>DBA/Database Engineer</th>\n",
       "      <td>0.01</td>\n",
       "      <td>0.00</td>\n",
       "      <td>0.01</td>\n",
       "    </tr>\n",
       "    <tr>\n",
       "      <th>Data Analyst</th>\n",
       "      <td>0.09</td>\n",
       "      <td>0.10</td>\n",
       "      <td>0.07</td>\n",
       "    </tr>\n",
       "    <tr>\n",
       "      <th>Data Engineer</th>\n",
       "      <td>0.03</td>\n",
       "      <td>0.02</td>\n",
       "      <td>0.02</td>\n",
       "    </tr>\n",
       "    <tr>\n",
       "      <th>Data Scientist</th>\n",
       "      <td>0.14</td>\n",
       "      <td>0.12</td>\n",
       "      <td>0.12</td>\n",
       "    </tr>\n",
       "    <tr>\n",
       "      <th>Developer Relations/Advocacy</th>\n",
       "      <td>0.00</td>\n",
       "      <td>0.00</td>\n",
       "      <td>0.02</td>\n",
       "    </tr>\n",
       "    <tr>\n",
       "      <th>Machine Learning Engineer</th>\n",
       "      <td>0.06</td>\n",
       "      <td>0.04</td>\n",
       "      <td>0.08</td>\n",
       "    </tr>\n",
       "    <tr>\n",
       "      <th>Other</th>\n",
       "      <td>0.09</td>\n",
       "      <td>0.09</td>\n",
       "      <td>0.09</td>\n",
       "    </tr>\n",
       "    <tr>\n",
       "      <th>Product Manager</th>\n",
       "      <td>0.01</td>\n",
       "      <td>0.01</td>\n",
       "      <td>0.02</td>\n",
       "    </tr>\n",
       "    <tr>\n",
       "      <th>Program/Project Manager</th>\n",
       "      <td>0.04</td>\n",
       "      <td>0.02</td>\n",
       "      <td>0.02</td>\n",
       "    </tr>\n",
       "    <tr>\n",
       "      <th>Research Scientist</th>\n",
       "      <td>0.06</td>\n",
       "      <td>0.06</td>\n",
       "      <td>0.07</td>\n",
       "    </tr>\n",
       "    <tr>\n",
       "      <th>Software Engineer</th>\n",
       "      <td>0.10</td>\n",
       "      <td>0.07</td>\n",
       "      <td>0.06</td>\n",
       "    </tr>\n",
       "    <tr>\n",
       "      <th>Statistician</th>\n",
       "      <td>0.01</td>\n",
       "      <td>0.01</td>\n",
       "      <td>0.00</td>\n",
       "    </tr>\n",
       "    <tr>\n",
       "      <th>Student</th>\n",
       "      <td>0.25</td>\n",
       "      <td>0.32</td>\n",
       "      <td>0.28</td>\n",
       "    </tr>\n",
       "  </tbody>\n",
       "</table>\n",
       "</div>"
      ],
      "text/plain": [
       "gender2                       Hombre  Mujer    NB\n",
       "role_q5                                          \n",
       "Business Analyst                0.04   0.04  0.03\n",
       "Currently not employed          0.07   0.09  0.12\n",
       "DBA/Database Engineer           0.01   0.00  0.01\n",
       "Data Analyst                    0.09   0.10  0.07\n",
       "Data Engineer                   0.03   0.02  0.02\n",
       "Data Scientist                  0.14   0.12  0.12\n",
       "Developer Relations/Advocacy    0.00   0.00  0.02\n",
       "Machine Learning Engineer       0.06   0.04  0.08\n",
       "Other                           0.09   0.09  0.09\n",
       "Product Manager                 0.01   0.01  0.02\n",
       "Program/Project Manager         0.04   0.02  0.02\n",
       "Research Scientist              0.06   0.06  0.07\n",
       "Software Engineer               0.10   0.07  0.06\n",
       "Statistician                    0.01   0.01  0.00\n",
       "Student                         0.25   0.32  0.28"
      ]
     },
     "execution_count": 8,
     "metadata": {},
     "output_type": "execute_result"
    }
   ],
   "source": [
    "#https://stackoverflow.com/a/21247312\n",
    "per_tab_conting = pd.crosstab(df['role_q5'], df['gender2'], margins=False).apply(lambda x: round(x/x.sum(), 2), axis=0)\n",
    "per_tab_conting"
   ]
  },
  {
   "attachments": {},
   "cell_type": "markdown",
   "metadata": {},
   "source": [
    "#### **Interpretación inicial de las frecuencias relativas**:\n",
    "\n",
    "Se optan por los porcentajes de columna dado que los hombres cuadriplican a las mujeres, distorsionando los resultados de los % de género por cada puesto. En los próximos pasos de la investigación, sería necesario ponderar los casos.\n",
    "\n",
    "\n",
    "- En la muestra predominan lxs estudiantes: Más de un cuarto de las mujeres de la muestra (32%) son estudiantes, seguidas de las personas no binarias (28%) y hombres (25%).\n",
    "\n",
    "- Entre las categorías más frecuentes, independientemente del género, se encuentra el rol de Data Scientist: El 14% de los hombres desempeñan este rol, y en el caso de las mujeres y personas NB un 12%.\n",
    "\n",
    "- Existen también diferencias según el género:\n",
    "    - El 10% de los hombres desempeñan el rol de ingenieros de software, frente al 7% de mujeres y 6% de personas NB.\n",
    "    - El 10% de las mujeres son analistas de datos, frente al 9% de hombres y 7% de personas NB.\n",
    "    - El 12% de las personas NB encuestadas están actualmente en situación de desempleo."
   ]
  },
  {
   "cell_type": "code",
   "execution_count": null,
   "metadata": {},
   "outputs": [
    {
     "data": {
      "text/html": [
       "<div>\n",
       "<style scoped>\n",
       "    .dataframe tbody tr th:only-of-type {\n",
       "        vertical-align: middle;\n",
       "    }\n",
       "\n",
       "    .dataframe tbody tr th {\n",
       "        vertical-align: top;\n",
       "    }\n",
       "\n",
       "    .dataframe thead th {\n",
       "        text-align: right;\n",
       "    }\n",
       "</style>\n",
       "<table border=\"1\" class=\"dataframe\">\n",
       "  <thead>\n",
       "    <tr style=\"text-align: right;\">\n",
       "      <th>gender2</th>\n",
       "      <th>Hombre</th>\n",
       "      <th>Mujer</th>\n",
       "      <th>NB</th>\n",
       "    </tr>\n",
       "    <tr>\n",
       "      <th>gender2</th>\n",
       "      <th></th>\n",
       "      <th></th>\n",
       "      <th></th>\n",
       "    </tr>\n",
       "  </thead>\n",
       "  <tbody>\n",
       "    <tr>\n",
       "      <th>Hombre</th>\n",
       "      <td>1.000000</td>\n",
       "      <td>0.965892</td>\n",
       "      <td>0.956768</td>\n",
       "    </tr>\n",
       "    <tr>\n",
       "      <th>Mujer</th>\n",
       "      <td>0.965892</td>\n",
       "      <td>1.000000</td>\n",
       "      <td>0.970238</td>\n",
       "    </tr>\n",
       "    <tr>\n",
       "      <th>NB</th>\n",
       "      <td>0.956768</td>\n",
       "      <td>0.970238</td>\n",
       "      <td>1.000000</td>\n",
       "    </tr>\n",
       "  </tbody>\n",
       "</table>\n",
       "</div>"
      ],
      "text/plain": [
       "gender2    Hombre     Mujer        NB\n",
       "gender2                              \n",
       "Hombre   1.000000  0.965892  0.956768\n",
       "Mujer    0.965892  1.000000  0.970238\n",
       "NB       0.956768  0.970238  1.000000"
      ]
     },
     "execution_count": 22,
     "metadata": {},
     "output_type": "execute_result"
    }
   ],
   "source": [
    "tab_conting.corr()\n"
   ]
  },
  {
   "attachments": {},
   "cell_type": "markdown",
   "metadata": {},
   "source": [
    "### **Representaciones gráficas:**"
   ]
  },
  {
   "attachments": {},
   "cell_type": "markdown",
   "metadata": {},
   "source": [
    "#### - Género:"
   ]
  },
  {
   "cell_type": "code",
   "execution_count": null,
   "metadata": {},
   "outputs": [
    {
     "data": {
      "text/html": [
       "<div>\n",
       "<style scoped>\n",
       "    .dataframe tbody tr th:only-of-type {\n",
       "        vertical-align: middle;\n",
       "    }\n",
       "\n",
       "    .dataframe tbody tr th {\n",
       "        vertical-align: top;\n",
       "    }\n",
       "\n",
       "    .dataframe thead th {\n",
       "        text-align: right;\n",
       "    }\n",
       "</style>\n",
       "<table border=\"1\" class=\"dataframe\">\n",
       "  <thead>\n",
       "    <tr style=\"text-align: right;\">\n",
       "      <th></th>\n",
       "      <th>index</th>\n",
       "      <th>gender2</th>\n",
       "    </tr>\n",
       "  </thead>\n",
       "  <tbody>\n",
       "    <tr>\n",
       "      <th>0</th>\n",
       "      <td>Hombre</td>\n",
       "      <td>20598</td>\n",
       "    </tr>\n",
       "    <tr>\n",
       "      <th>1</th>\n",
       "      <td>Mujer</td>\n",
       "      <td>4890</td>\n",
       "    </tr>\n",
       "    <tr>\n",
       "      <th>2</th>\n",
       "      <td>NB</td>\n",
       "      <td>130</td>\n",
       "    </tr>\n",
       "  </tbody>\n",
       "</table>\n",
       "</div>"
      ],
      "text/plain": [
       "    index  gender2\n",
       "0  Hombre    20598\n",
       "1   Mujer     4890\n",
       "2      NB      130"
      ]
     },
     "execution_count": 9,
     "metadata": {},
     "output_type": "execute_result"
    }
   ],
   "source": [
    "gender2 = (df['gender2'].value_counts()).reset_index()\n",
    "gender2"
   ]
  },
  {
   "cell_type": "code",
   "execution_count": null,
   "metadata": {},
   "outputs": [
    {
     "data": {
      "image/png": "[encoded data removed]",
      "text/plain": [
       "<Figure size 432x288 with 1 Axes>"
      ]
     },
     "metadata": {},
     "output_type": "display_data"
    }
   ],
   "source": [
    "plt.figure()\n",
    "plt.pie(gender2['gender2'], labels=gender2['index'], autopct='%1.2f%%')\n",
    "plt.legend(gender2['index'])\n",
    "plt.title('Fig 1. Distribución de la muestra por género')\n",
    "plt.show();"
   ]
  },
  {
   "attachments": {},
   "cell_type": "markdown",
   "metadata": {},
   "source": [
    "#### - Puesto:"
   ]
  },
  {
   "cell_type": "code",
   "execution_count": null,
   "metadata": {},
   "outputs": [
    {
     "data": {
      "image/png": "[encoded data removed]",
      "text/plain": [
       "<Figure size 648x216 with 1 Axes>"
      ]
     },
     "metadata": {
      "needs_background": "light"
     },
     "output_type": "display_data"
    }
   ],
   "source": [
    "plt.figure(figsize=(9,3))\n",
    "\n",
    "#representación gráfica\n",
    "plt.bar(puestos.index, puestos.values)\n",
    "\n",
    "#etiquetas:\n",
    "plt.xlabel('Puesto')\n",
    "plt.ylabel('Nº de personas')\n",
    "plt.xticks(rotation=90)\n",
    "\n",
    "plt.title('Fig 2. Distribución de la muestra por la situación profesional')\n",
    "\n",
    "plt.show();"
   ]
  },
  {
   "attachments": {},
   "cell_type": "markdown",
   "metadata": {},
   "source": [
    "#### - Representación gráfica de la distribución de la muestra según el género y el puesto:"
   ]
  },
  {
   "cell_type": "code",
   "execution_count": null,
   "metadata": {},
   "outputs": [
    {
     "data": {
      "image/png": "[encoded data removed]",
      "text/plain": [
       "<Figure size 432x288 with 1 Axes>"
      ]
     },
     "metadata": {
      "needs_background": "light"
     },
     "output_type": "display_data"
    }
   ],
   "source": [
    "plt.figure()\n",
    "\n",
    "#representación gráfica\n",
    "plt.bar(tab_conting['Hombre'].index, tab_conting['Hombre'].values)\n",
    "plt.bar(tab_conting['Mujer'].index, tab_conting['Mujer'].values)\n",
    "plt.bar(tab_conting['NB'].index, tab_conting['NB'].values)\n",
    "\n",
    "#etiquetas\n",
    "plt.xticks(rotation=90)\n",
    "plt.legend(tab_conting.columns)\n",
    "plt.title('Fig 3. Profesión según el género')\n",
    "plt.xlabel('Profesión o situación laboral actual')\n",
    "plt.ylabel('Nº de personas por género')\n",
    "\n",
    "plt.show();"
   ]
  },
  {
   "attachments": {},
   "cell_type": "markdown",
   "metadata": {},
   "source": [
    "#### Aproximación a la correlación entre género y puesto:"
   ]
  },
  {
   "attachments": {},
   "cell_type": "markdown",
   "metadata": {},
   "source": [
    "#### Cálculo de la correlación:\n",
    "\n",
    "Vamos a calcular la correlación entre género y puesto. Para ello haremos las siguientes operaciones:\n",
    "- Chi cuadrado (al tratarse de dos variables categóricas)\n",
    "- Cálculo de residuos para comprobar en qué género(s) existe una relación con el puesto."
   ]
  },
  {
   "cell_type": "code",
   "execution_count": null,
   "metadata": {},
   "outputs": [],
   "source": [
    "from scipy.stats import chi2_contingency"
   ]
  },
  {
   "cell_type": "code",
   "execution_count": null,
   "metadata": {},
   "outputs": [
    {
     "name": "stdout",
     "output_type": "stream",
     "text": [
      "Existen diferencias significativas en el tipo de puesto según el género, con una p de 0.0\n"
     ]
    }
   ],
   "source": [
    "#https://thinkingneuron.com/how-to-measure-the-correlation-between-two-categorical-variables-in-python/\n",
    "chi2 = chi2_contingency(tab_conting)\n",
    "if chi2[1] <= .05:\n",
    "    print(f\"Existen diferencias significativas en el tipo de puesto según el género, con una p de {round(chi2[1], 2)}\")\n",
    "else:\n",
    "    print(f\"No existen diferencias significativas en el tipo de puesto según el género, con una p de {round(chi2[1], 2)}\")"
   ]
  }
 ],
 "metadata": {
  "kernelspec": {
   "display_name": "base",
   "language": "python",
   "name": "python3"
  },
  "language_info": {
   "codemirror_mode": {
    "name": "ipython",
    "version": 3
   },
   "file_extension": ".py",
   "mimetype": "text/x-python",
   "name": "python",
   "nbconvert_exporter": "python",
   "pygments_lexer": "ipython3",
   "version": "3.9.7 (default, Sep 16 2021, 08:50:36) \n[Clang 10.0.0 ]"
  },
  "orig_nbformat": 4,
  "vscode": {
   "interpreter": {
    "hash": "40d3a090f54c6569ab1632332b64b2c03c39dcf918b08424e98f38b5ae0af88f"
   }
  }
 },
 "nbformat": 4,
 "nbformat_minor": 2
}
