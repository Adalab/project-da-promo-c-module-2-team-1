{
 "cells": [
  {
   "cell_type": "code",
   "execution_count": 46,
   "metadata": {},
   "outputs": [],
   "source": [
    "import pandas as pd\n",
    "import numpy as np\n",
    "import matplotlib.pyplot as plt\n",
    "import seaborn as sns\n",
    "from scipy.stats import skew\n",
    "import scipy.stats as st\n",
    "import sidetable"
   ]
  },
  {
   "cell_type": "code",
   "execution_count": 47,
   "metadata": {},
   "outputs": [
    {
     "data": {
      "text/html": [
       "<div>\n",
       "<style scoped>\n",
       "    .dataframe tbody tr th:only-of-type {\n",
       "        vertical-align: middle;\n",
       "    }\n",
       "\n",
       "    .dataframe tbody tr th {\n",
       "        vertical-align: top;\n",
       "    }\n",
       "\n",
       "    .dataframe thead th {\n",
       "        text-align: right;\n",
       "    }\n",
       "</style>\n",
       "<table border=\"1\" class=\"dataframe\">\n",
       "  <thead>\n",
       "    <tr style=\"text-align: right;\">\n",
       "      <th></th>\n",
       "      <th>age</th>\n",
       "      <th>gender</th>\n",
       "      <th>country_q3</th>\n",
       "      <th>education_q4</th>\n",
       "      <th>role_q5</th>\n",
       "      <th>experience_q6</th>\n",
       "      <th>language_q7</th>\n",
       "      <th>sector_q20</th>\n",
       "      <th>company_size_q21</th>\n",
       "      <th>anual_income_q25</th>\n",
       "      <th>continent</th>\n",
       "      <th>gender_def</th>\n",
       "      <th>role_q5_def</th>\n",
       "      <th>annual_incom€_q25</th>\n",
       "    </tr>\n",
       "  </thead>\n",
       "  <tbody>\n",
       "    <tr>\n",
       "      <th>0</th>\n",
       "      <td>50-54</td>\n",
       "      <td>Man</td>\n",
       "      <td>India</td>\n",
       "      <td>Bachelor’s degree</td>\n",
       "      <td>Other</td>\n",
       "      <td>5-10 years</td>\n",
       "      <td>Python, R</td>\n",
       "      <td>Manufacturing/Fabrication</td>\n",
       "      <td>50-249 employees</td>\n",
       "      <td>25,000-29,999</td>\n",
       "      <td>Asia</td>\n",
       "      <td>Man</td>\n",
       "      <td>NaN</td>\n",
       "      <td>23,250-27,899</td>\n",
       "    </tr>\n",
       "    <tr>\n",
       "      <th>1</th>\n",
       "      <td>50-54</td>\n",
       "      <td>Man</td>\n",
       "      <td>Indonesia</td>\n",
       "      <td>Master’s degree</td>\n",
       "      <td>Program/Project Manager</td>\n",
       "      <td>20+ years</td>\n",
       "      <td>SQL, C, C++, Java</td>\n",
       "      <td>Manufacturing/Fabrication</td>\n",
       "      <td>1000-9,999 employees</td>\n",
       "      <td>60,000-69,999</td>\n",
       "      <td>Asia</td>\n",
       "      <td>Man</td>\n",
       "      <td>Supervising role</td>\n",
       "      <td>55,800-65,099</td>\n",
       "    </tr>\n",
       "  </tbody>\n",
       "</table>\n",
       "</div>"
      ],
      "text/plain": [
       "     age gender country_q3       education_q4                  role_q5  \\\n",
       "0  50-54    Man      India  Bachelor’s degree                    Other   \n",
       "1  50-54    Man  Indonesia    Master’s degree  Program/Project Manager   \n",
       "\n",
       "  experience_q6         language_q7                 sector_q20  \\\n",
       "0    5-10 years           Python, R  Manufacturing/Fabrication   \n",
       "1     20+ years   SQL, C, C++, Java  Manufacturing/Fabrication   \n",
       "\n",
       "       company_size_q21 anual_income_q25 continent gender_def  \\\n",
       "0      50-249 employees    25,000-29,999      Asia        Man   \n",
       "1  1000-9,999 employees    60,000-69,999      Asia        Man   \n",
       "\n",
       "        role_q5_def annual_incom€_q25  \n",
       "0               NaN     23,250-27,899  \n",
       "1  Supervising role     55,800-65,099  "
      ]
     },
     "execution_count": 47,
     "metadata": {},
     "output_type": "execute_result"
    }
   ],
   "source": [
    "df_tamaño_empresa_mundial=pd.read_csv('../files/df_depurado.csv', index_col=0)\n",
    "df_tamaño_empresa_mundial.head(2)"
   ]
  },
  {
   "cell_type": "code",
   "execution_count": 48,
   "metadata": {},
   "outputs": [
    {
     "data": {
      "text/html": [
       "<div>\n",
       "<style scoped>\n",
       "    .dataframe tbody tr th:only-of-type {\n",
       "        vertical-align: middle;\n",
       "    }\n",
       "\n",
       "    .dataframe tbody tr th {\n",
       "        vertical-align: top;\n",
       "    }\n",
       "\n",
       "    .dataframe thead th {\n",
       "        text-align: right;\n",
       "    }\n",
       "</style>\n",
       "<table border=\"1\" class=\"dataframe\">\n",
       "  <thead>\n",
       "    <tr style=\"text-align: right;\">\n",
       "      <th></th>\n",
       "      <th>age</th>\n",
       "      <th>gender</th>\n",
       "      <th>country_q3</th>\n",
       "      <th>education_q4</th>\n",
       "      <th>role_q5</th>\n",
       "      <th>experience_q6</th>\n",
       "      <th>language_q7</th>\n",
       "      <th>sector_q20</th>\n",
       "      <th>company_size_q21</th>\n",
       "      <th>anual_income_q25</th>\n",
       "      <th>continent</th>\n",
       "      <th>gender_def</th>\n",
       "      <th>role_q5_def</th>\n",
       "      <th>annual_incom€_q25</th>\n",
       "    </tr>\n",
       "  </thead>\n",
       "  <tbody>\n",
       "    <tr>\n",
       "      <th>15</th>\n",
       "      <td>35-39</td>\n",
       "      <td>Man</td>\n",
       "      <td>Greece</td>\n",
       "      <td>Doctoral degree</td>\n",
       "      <td>Research Scientist</td>\n",
       "      <td>10-20 years</td>\n",
       "      <td>Python, C, C++, MATLAB</td>\n",
       "      <td>Academics/Education</td>\n",
       "      <td>50-249 employees</td>\n",
       "      <td>10,000-14,999</td>\n",
       "      <td>Europe</td>\n",
       "      <td>Man</td>\n",
       "      <td>NaN</td>\n",
       "      <td>1,860-2,789</td>\n",
       "    </tr>\n",
       "    <tr>\n",
       "      <th>16</th>\n",
       "      <td>50-54</td>\n",
       "      <td>Man</td>\n",
       "      <td>Belgium</td>\n",
       "      <td>Bachelor’s degree</td>\n",
       "      <td>Data Analyst</td>\n",
       "      <td>20+ years</td>\n",
       "      <td>Python, SQL</td>\n",
       "      <td>Energy/Mining</td>\n",
       "      <td>1000-9,999 employees</td>\n",
       "      <td>2,000-2,999</td>\n",
       "      <td>Europe</td>\n",
       "      <td>Man</td>\n",
       "      <td>NaN</td>\n",
       "      <td>65,100-74,399</td>\n",
       "    </tr>\n",
       "    <tr>\n",
       "      <th>25</th>\n",
       "      <td>25-29</td>\n",
       "      <td>Woman</td>\n",
       "      <td>Poland</td>\n",
       "      <td>Master’s degree</td>\n",
       "      <td>Machine Learning Engineer</td>\n",
       "      <td>3-5 years</td>\n",
       "      <td>Python, C++</td>\n",
       "      <td>Computers/Technology</td>\n",
       "      <td>0-49 employees</td>\n",
       "      <td>25,000-29,999</td>\n",
       "      <td>Europe</td>\n",
       "      <td>Woman</td>\n",
       "      <td>NaN</td>\n",
       "      <td>23,250-27,899</td>\n",
       "    </tr>\n",
       "    <tr>\n",
       "      <th>41</th>\n",
       "      <td>25-29</td>\n",
       "      <td>Man</td>\n",
       "      <td>Italy</td>\n",
       "      <td>Master’s degree</td>\n",
       "      <td>Other</td>\n",
       "      <td>1-3 years</td>\n",
       "      <td>Python, MATLAB</td>\n",
       "      <td>Energy/Mining</td>\n",
       "      <td>0-49 employees</td>\n",
       "      <td>30,000-39,999</td>\n",
       "      <td>Europe</td>\n",
       "      <td>Man</td>\n",
       "      <td>NaN</td>\n",
       "      <td>27,900-37,199</td>\n",
       "    </tr>\n",
       "    <tr>\n",
       "      <th>57</th>\n",
       "      <td>35-39</td>\n",
       "      <td>Woman</td>\n",
       "      <td>Russia</td>\n",
       "      <td>I prefer not to answer</td>\n",
       "      <td>Data Scientist</td>\n",
       "      <td>1-3 years</td>\n",
       "      <td>Python, R</td>\n",
       "      <td>Academics/Education</td>\n",
       "      <td>1000-9,999 employees</td>\n",
       "      <td>0-999</td>\n",
       "      <td>Europe</td>\n",
       "      <td>Woman</td>\n",
       "      <td>Data-related role</td>\n",
       "      <td>0-929,07</td>\n",
       "    </tr>\n",
       "    <tr>\n",
       "      <th>...</th>\n",
       "      <td>...</td>\n",
       "      <td>...</td>\n",
       "      <td>...</td>\n",
       "      <td>...</td>\n",
       "      <td>...</td>\n",
       "      <td>...</td>\n",
       "      <td>...</td>\n",
       "      <td>...</td>\n",
       "      <td>...</td>\n",
       "      <td>...</td>\n",
       "      <td>...</td>\n",
       "      <td>...</td>\n",
       "      <td>...</td>\n",
       "      <td>...</td>\n",
       "    </tr>\n",
       "    <tr>\n",
       "      <th>25926</th>\n",
       "      <td>25-29</td>\n",
       "      <td>Man</td>\n",
       "      <td>Germany</td>\n",
       "      <td>Master’s degree</td>\n",
       "      <td>Data Scientist</td>\n",
       "      <td>1-3 years</td>\n",
       "      <td>Python, SQL</td>\n",
       "      <td>Computers/Technology</td>\n",
       "      <td>10,000 or more employees</td>\n",
       "      <td>60,000-69,999</td>\n",
       "      <td>Europe</td>\n",
       "      <td>Man</td>\n",
       "      <td>Data-related role</td>\n",
       "      <td>55,800-65,099</td>\n",
       "    </tr>\n",
       "    <tr>\n",
       "      <th>25946</th>\n",
       "      <td>40-44</td>\n",
       "      <td>Man</td>\n",
       "      <td>Russia</td>\n",
       "      <td>I prefer not to answer</td>\n",
       "      <td>Data Engineer</td>\n",
       "      <td>&lt; 1 years</td>\n",
       "      <td>Python, SQL</td>\n",
       "      <td>Computers/Technology</td>\n",
       "      <td>10,000 or more employees</td>\n",
       "      <td>0-999</td>\n",
       "      <td>Europe</td>\n",
       "      <td>Man</td>\n",
       "      <td>Data-related role</td>\n",
       "      <td>0-929,07</td>\n",
       "    </tr>\n",
       "    <tr>\n",
       "      <th>25957</th>\n",
       "      <td>35-39</td>\n",
       "      <td>Man</td>\n",
       "      <td>Russia</td>\n",
       "      <td>Bachelor’s degree</td>\n",
       "      <td>Software Engineer</td>\n",
       "      <td>3-5 years</td>\n",
       "      <td>Python, SQL, Java, Other</td>\n",
       "      <td>Insurance/Risk Assessment</td>\n",
       "      <td>250-999 employees</td>\n",
       "      <td>20,000-24,999</td>\n",
       "      <td>Europe</td>\n",
       "      <td>Man</td>\n",
       "      <td>Sofware-related role</td>\n",
       "      <td>4,650-6,974</td>\n",
       "    </tr>\n",
       "    <tr>\n",
       "      <th>25961</th>\n",
       "      <td>35-39</td>\n",
       "      <td>Man</td>\n",
       "      <td>Italy</td>\n",
       "      <td>Bachelor’s degree</td>\n",
       "      <td>Program/Project Manager</td>\n",
       "      <td>3-5 years</td>\n",
       "      <td>Python, SQL</td>\n",
       "      <td>Computers/Technology</td>\n",
       "      <td>1000-9,999 employees</td>\n",
       "      <td>60,000-69,999</td>\n",
       "      <td>Europe</td>\n",
       "      <td>Man</td>\n",
       "      <td>Supervising role</td>\n",
       "      <td>55,800-65,099</td>\n",
       "    </tr>\n",
       "    <tr>\n",
       "      <th>25970</th>\n",
       "      <td>50-54</td>\n",
       "      <td>Man</td>\n",
       "      <td>Sweden</td>\n",
       "      <td>Doctoral degree</td>\n",
       "      <td>Research Scientist</td>\n",
       "      <td>I have never written code</td>\n",
       "      <td>NaN</td>\n",
       "      <td>Academics/Education</td>\n",
       "      <td>1000-9,999 employees</td>\n",
       "      <td>0-999</td>\n",
       "      <td>Europe</td>\n",
       "      <td>Man</td>\n",
       "      <td>NaN</td>\n",
       "      <td>0-929,07</td>\n",
       "    </tr>\n",
       "  </tbody>\n",
       "</table>\n",
       "<p>3164 rows × 14 columns</p>\n",
       "</div>"
      ],
      "text/plain": [
       "         age gender country_q3            education_q4  \\\n",
       "15     35-39    Man     Greece         Doctoral degree   \n",
       "16     50-54    Man    Belgium       Bachelor’s degree   \n",
       "25     25-29  Woman     Poland         Master’s degree   \n",
       "41     25-29    Man      Italy         Master’s degree   \n",
       "57     35-39  Woman     Russia  I prefer not to answer   \n",
       "...      ...    ...        ...                     ...   \n",
       "25926  25-29    Man    Germany         Master’s degree   \n",
       "25946  40-44    Man     Russia  I prefer not to answer   \n",
       "25957  35-39    Man     Russia       Bachelor’s degree   \n",
       "25961  35-39    Man      Italy       Bachelor’s degree   \n",
       "25970  50-54    Man     Sweden         Doctoral degree   \n",
       "\n",
       "                         role_q5              experience_q6  \\\n",
       "15            Research Scientist                10-20 years   \n",
       "16                  Data Analyst                  20+ years   \n",
       "25     Machine Learning Engineer                  3-5 years   \n",
       "41                         Other                  1-3 years   \n",
       "57                Data Scientist                  1-3 years   \n",
       "...                          ...                        ...   \n",
       "25926             Data Scientist                  1-3 years   \n",
       "25946              Data Engineer                  < 1 years   \n",
       "25957          Software Engineer                  3-5 years   \n",
       "25961    Program/Project Manager                  3-5 years   \n",
       "25970         Research Scientist  I have never written code   \n",
       "\n",
       "                    language_q7                 sector_q20  \\\n",
       "15       Python, C, C++, MATLAB        Academics/Education   \n",
       "16                  Python, SQL              Energy/Mining   \n",
       "25                  Python, C++       Computers/Technology   \n",
       "41               Python, MATLAB              Energy/Mining   \n",
       "57                    Python, R        Academics/Education   \n",
       "...                         ...                        ...   \n",
       "25926               Python, SQL       Computers/Technology   \n",
       "25946               Python, SQL       Computers/Technology   \n",
       "25957  Python, SQL, Java, Other  Insurance/Risk Assessment   \n",
       "25961               Python, SQL       Computers/Technology   \n",
       "25970                       NaN        Academics/Education   \n",
       "\n",
       "               company_size_q21 anual_income_q25 continent gender_def  \\\n",
       "15             50-249 employees    10,000-14,999    Europe        Man   \n",
       "16         1000-9,999 employees      2,000-2,999    Europe        Man   \n",
       "25               0-49 employees    25,000-29,999    Europe      Woman   \n",
       "41               0-49 employees    30,000-39,999    Europe        Man   \n",
       "57         1000-9,999 employees            0-999    Europe      Woman   \n",
       "...                         ...              ...       ...        ...   \n",
       "25926  10,000 or more employees    60,000-69,999    Europe        Man   \n",
       "25946  10,000 or more employees            0-999    Europe        Man   \n",
       "25957         250-999 employees    20,000-24,999    Europe        Man   \n",
       "25961      1000-9,999 employees    60,000-69,999    Europe        Man   \n",
       "25970      1000-9,999 employees            0-999    Europe        Man   \n",
       "\n",
       "                role_q5_def annual_incom€_q25  \n",
       "15                      NaN       1,860-2,789  \n",
       "16                      NaN     65,100-74,399  \n",
       "25                      NaN     23,250-27,899  \n",
       "41                      NaN     27,900-37,199  \n",
       "57        Data-related role          0-929,07  \n",
       "...                     ...               ...  \n",
       "25926     Data-related role     55,800-65,099  \n",
       "25946     Data-related role          0-929,07  \n",
       "25957  Sofware-related role       4,650-6,974  \n",
       "25961      Supervising role     55,800-65,099  \n",
       "25970                   NaN          0-929,07  \n",
       "\n",
       "[3164 rows x 14 columns]"
      ]
     },
     "execution_count": 48,
     "metadata": {},
     "output_type": "execute_result"
    }
   ],
   "source": [
    "df_tamaño_empresa_eu=pd.read_csv('../files/df_eu_depurado.csv', index_col=0)\n",
    "df_tamaño_empresa_eu"
   ]
  },
  {
   "cell_type": "code",
   "execution_count": 49,
   "metadata": {},
   "outputs": [
    {
     "data": {
      "text/plain": [
       "0"
      ]
     },
     "execution_count": 49,
     "metadata": {},
     "output_type": "execute_result"
    }
   ],
   "source": [
    "df_tamaño_empresa_eu['company_size_q21'].isnull().sum()\n",
    "#averiguo los nulos"
   ]
  },
  {
   "cell_type": "code",
   "execution_count": 50,
   "metadata": {},
   "outputs": [
    {
     "data": {
      "text/plain": [
       "0"
      ]
     },
     "execution_count": 50,
     "metadata": {},
     "output_type": "execute_result"
    }
   ],
   "source": [
    "df_tamaño_empresa_mundial['company_size_q21'].isnull().sum()"
   ]
  },
  {
   "cell_type": "code",
   "execution_count": 51,
   "metadata": {},
   "outputs": [
    {
     "name": "stdout",
     "output_type": "stream",
     "text": [
      "<class 'pandas.core.frame.DataFrame'>\n",
      "Int64Index: 16038 entries, 0 to 25972\n",
      "Data columns (total 14 columns):\n",
      " #   Column             Non-Null Count  Dtype \n",
      "---  ------             --------------  ----- \n",
      " 0   age                16038 non-null  object\n",
      " 1   gender             16038 non-null  object\n",
      " 2   country_q3         16038 non-null  object\n",
      " 3   education_q4       16038 non-null  object\n",
      " 4   role_q5            16038 non-null  object\n",
      " 5   experience_q6      16038 non-null  object\n",
      " 6   language_q7        15085 non-null  object\n",
      " 7   sector_q20         16038 non-null  object\n",
      " 8   company_size_q21   16038 non-null  object\n",
      " 9   anual_income_q25   15195 non-null  object\n",
      " 10  continent          16038 non-null  object\n",
      " 11  gender_def         16038 non-null  object\n",
      " 12  role_q5_def        8787 non-null   object\n",
      " 13  annual_incom€_q25  15469 non-null  object\n",
      "dtypes: object(14)\n",
      "memory usage: 1.8+ MB\n"
     ]
    }
   ],
   "source": [
    "df_tamaño_empresa_mundial.info()"
   ]
  },
  {
   "cell_type": "code",
   "execution_count": 52,
   "metadata": {},
   "outputs": [
    {
     "name": "stdout",
     "output_type": "stream",
     "text": [
      "<class 'pandas.core.frame.DataFrame'>\n",
      "Int64Index: 3164 entries, 15 to 25970\n",
      "Data columns (total 14 columns):\n",
      " #   Column             Non-Null Count  Dtype \n",
      "---  ------             --------------  ----- \n",
      " 0   age                3164 non-null   object\n",
      " 1   gender             3164 non-null   object\n",
      " 2   country_q3         3164 non-null   object\n",
      " 3   education_q4       3164 non-null   object\n",
      " 4   role_q5            3164 non-null   object\n",
      " 5   experience_q6      3164 non-null   object\n",
      " 6   language_q7        3072 non-null   object\n",
      " 7   sector_q20         3164 non-null   object\n",
      " 8   company_size_q21   3164 non-null   object\n",
      " 9   anual_income_q25   3009 non-null   object\n",
      " 10  continent          3164 non-null   object\n",
      " 11  gender_def         3164 non-null   object\n",
      " 12  role_q5_def        1761 non-null   object\n",
      " 13  annual_incom€_q25  3042 non-null   object\n",
      "dtypes: object(14)\n",
      "memory usage: 370.8+ KB\n"
     ]
    }
   ],
   "source": [
    "df_tamaño_empresa_eu.info()"
   ]
  },
  {
   "attachments": {},
   "cell_type": "markdown",
   "metadata": {},
   "source": [
    "## `Todo el código a partir de aquí, va duplicado, siempre encabeza, mundial, seguido de Europa`"
   ]
  },
  {
   "cell_type": "code",
   "execution_count": 53,
   "metadata": {},
   "outputs": [
    {
     "data": {
      "image/png": "[encoded data removed]",
      "text/plain": [
       "<Figure size 720x360 with 1 Axes>"
      ]
     },
     "metadata": {
      "needs_background": "light"
     },
     "output_type": "display_data"
    }
   ],
   "source": [
    "\n",
    "plt.figure(figsize = (10,5))  # establecemos el tamaño de la gráfica\n",
    "sns.countplot(data =df_tamaño_empresa_mundial, x = \"company_size_q21\", hue = \"gender_def\", order=['0-49 employees','50-249 employees', '1000-9,999 employees','10,000 or more employees',  '250-999 employees']) # hacemos el countplot.\n",
    "plt.xticks(rotation = 45) # rotamos las etiquetas del eje x para que estén a 45 grados\n",
    "plt.legend( bbox_to_anchor=(1, 0.5));  # movemos la leyenda para colocarla fuera del plot.\n"
   ]
  },
  {
   "cell_type": "code",
   "execution_count": 54,
   "metadata": {},
   "outputs": [
    {
     "data": {
      "image/png": "[encoded data removed]",
      "text/plain": [
       "<Figure size 720x360 with 1 Axes>"
      ]
     },
     "metadata": {
      "needs_background": "light"
     },
     "output_type": "display_data"
    }
   ],
   "source": [
    "\n",
    "plt.figure(figsize = (10,5))  # establecemos el tamaño de la gráfica\n",
    "sns.countplot(data =df_tamaño_empresa_eu, x = \"company_size_q21\", hue = \"gender_def\",order=['0-49 employees','50-249 employees', '1000-9,999 employees','10,000 or more employees',  '250-999 employees']) # hacemos el countplot.\n",
    "plt.xticks(rotation = 45) # rotamos las etiquetas del eje x para que estén a 45 grados\n",
    "plt.legend( bbox_to_anchor=(1, 0.5));  # movemos la leyenda para colocarla fuera del plot."
   ]
  },
  {
   "cell_type": "code",
   "execution_count": 55,
   "metadata": {},
   "outputs": [
    {
     "data": {
      "image/png": "[encoded data removed]",
      "text/plain": [
       "<Figure size 720x576 with 1 Axes>"
      ]
     },
     "metadata": {
      "needs_background": "light"
     },
     "output_type": "display_data"
    }
   ],
   "source": [
    "plt.figure(figsize =(10,8))\n",
    "sns.histplot(y=df_tamaño_empresa_mundial['company_size_q21'],data = df_tamaño_empresa_mundial, hue='gender_def')\n",
    "plt.xticks(rotation= 75)\n",
    "plt.show()\n",
    "#Representacion por tamaño de empresa de la cantidad de individuos según la identidad de género"
   ]
  },
  {
   "cell_type": "code",
   "execution_count": 56,
   "metadata": {},
   "outputs": [
    {
     "data": {
      "image/png": "[encoded data removed]",
      "text/plain": [
       "<Figure size 720x576 with 1 Axes>"
      ]
     },
     "metadata": {
      "needs_background": "light"
     },
     "output_type": "display_data"
    }
   ],
   "source": [
    "plt.figure(figsize =(10,8))\n",
    "sns.histplot(y=df_tamaño_empresa_eu['company_size_q21'],data = df_tamaño_empresa_eu, hue='gender_def')\n",
    "plt.xticks(rotation= 75)\n",
    "plt.show()\n",
    "#Representacion por tamaño de empresa de la cantidad de individuos según la identidad de género"
   ]
  },
  {
   "cell_type": "code",
   "execution_count": 57,
   "metadata": {},
   "outputs": [
    {
     "data": {
      "text/html": [
       "<div>\n",
       "<style scoped>\n",
       "    .dataframe tbody tr th:only-of-type {\n",
       "        vertical-align: middle;\n",
       "    }\n",
       "\n",
       "    .dataframe tbody tr th {\n",
       "        vertical-align: top;\n",
       "    }\n",
       "\n",
       "    .dataframe thead th {\n",
       "        text-align: right;\n",
       "    }\n",
       "</style>\n",
       "<table border=\"1\" class=\"dataframe\">\n",
       "  <thead>\n",
       "    <tr style=\"text-align: right;\">\n",
       "      <th></th>\n",
       "      <th></th>\n",
       "      <th>gender_def</th>\n",
       "    </tr>\n",
       "    <tr>\n",
       "      <th>company_size_q21</th>\n",
       "      <th>gender_def</th>\n",
       "      <th></th>\n",
       "    </tr>\n",
       "  </thead>\n",
       "  <tbody>\n",
       "    <tr>\n",
       "      <th rowspan=\"3\" valign=\"top\">0-49 employees</th>\n",
       "      <th>Man</th>\n",
       "      <td>4110</td>\n",
       "    </tr>\n",
       "    <tr>\n",
       "      <th>Woman</th>\n",
       "      <td>841</td>\n",
       "    </tr>\n",
       "    <tr>\n",
       "      <th>NB</th>\n",
       "      <td>25</td>\n",
       "    </tr>\n",
       "    <tr>\n",
       "      <th rowspan=\"3\" valign=\"top\">10,000 or more employees</th>\n",
       "      <th>Man</th>\n",
       "      <td>2818</td>\n",
       "    </tr>\n",
       "    <tr>\n",
       "      <th>Woman</th>\n",
       "      <td>538</td>\n",
       "    </tr>\n",
       "    <tr>\n",
       "      <th>NB</th>\n",
       "      <td>16</td>\n",
       "    </tr>\n",
       "    <tr>\n",
       "      <th rowspan=\"3\" valign=\"top\">1000-9,999 employees</th>\n",
       "      <th>Man</th>\n",
       "      <td>2530</td>\n",
       "    </tr>\n",
       "    <tr>\n",
       "      <th>Woman</th>\n",
       "      <td>476</td>\n",
       "    </tr>\n",
       "    <tr>\n",
       "      <th>NB</th>\n",
       "      <td>17</td>\n",
       "    </tr>\n",
       "    <tr>\n",
       "      <th rowspan=\"3\" valign=\"top\">250-999 employees</th>\n",
       "      <th>Man</th>\n",
       "      <td>1742</td>\n",
       "    </tr>\n",
       "    <tr>\n",
       "      <th>Woman</th>\n",
       "      <td>377</td>\n",
       "    </tr>\n",
       "    <tr>\n",
       "      <th>NB</th>\n",
       "      <td>7</td>\n",
       "    </tr>\n",
       "    <tr>\n",
       "      <th rowspan=\"3\" valign=\"top\">50-249 employees</th>\n",
       "      <th>Man</th>\n",
       "      <td>2097</td>\n",
       "    </tr>\n",
       "    <tr>\n",
       "      <th>Woman</th>\n",
       "      <td>435</td>\n",
       "    </tr>\n",
       "    <tr>\n",
       "      <th>NB</th>\n",
       "      <td>9</td>\n",
       "    </tr>\n",
       "  </tbody>\n",
       "</table>\n",
       "</div>"
      ],
      "text/plain": [
       "                                     gender_def\n",
       "company_size_q21         gender_def            \n",
       "0-49 employees           Man               4110\n",
       "                         Woman              841\n",
       "                         NB                  25\n",
       "10,000 or more employees Man               2818\n",
       "                         Woman              538\n",
       "                         NB                  16\n",
       "1000-9,999 employees     Man               2530\n",
       "                         Woman              476\n",
       "                         NB                  17\n",
       "250-999 employees        Man               1742\n",
       "                         Woman              377\n",
       "                         NB                   7\n",
       "50-249 employees         Man               2097\n",
       "                         Woman              435\n",
       "                         NB                   9"
      ]
     },
     "execution_count": 57,
     "metadata": {},
     "output_type": "execute_result"
    }
   ],
   "source": [
    "genero_empresa_mundial=pd.DataFrame(df_tamaño_empresa_mundial.groupby(['company_size_q21'])['gender_def'].value_counts())\n",
    "genero_empresa_mundial\n",
    "#Agrupo los datos en un Dataframe en el que enfrento mis dos variables :género y temaño de empresa"
   ]
  },
  {
   "attachments": {},
   "cell_type": "markdown",
   "metadata": {},
   "source": [
    "#### a nivel mundial, aparentemente, no hay diferencias en cuanto a géneros "
   ]
  },
  {
   "cell_type": "code",
   "execution_count": 58,
   "metadata": {},
   "outputs": [
    {
     "data": {
      "text/html": [
       "<div>\n",
       "<style scoped>\n",
       "    .dataframe tbody tr th:only-of-type {\n",
       "        vertical-align: middle;\n",
       "    }\n",
       "\n",
       "    .dataframe tbody tr th {\n",
       "        vertical-align: top;\n",
       "    }\n",
       "\n",
       "    .dataframe thead th {\n",
       "        text-align: right;\n",
       "    }\n",
       "</style>\n",
       "<table border=\"1\" class=\"dataframe\">\n",
       "  <thead>\n",
       "    <tr style=\"text-align: right;\">\n",
       "      <th></th>\n",
       "      <th></th>\n",
       "      <th>gender_def</th>\n",
       "    </tr>\n",
       "    <tr>\n",
       "      <th>company_size_q21</th>\n",
       "      <th>gender_def</th>\n",
       "      <th></th>\n",
       "    </tr>\n",
       "  </thead>\n",
       "  <tbody>\n",
       "    <tr>\n",
       "      <th rowspan=\"3\" valign=\"top\">0-49 employees</th>\n",
       "      <th>Man</th>\n",
       "      <td>722</td>\n",
       "    </tr>\n",
       "    <tr>\n",
       "      <th>Woman</th>\n",
       "      <td>122</td>\n",
       "    </tr>\n",
       "    <tr>\n",
       "      <th>NB</th>\n",
       "      <td>4</td>\n",
       "    </tr>\n",
       "    <tr>\n",
       "      <th rowspan=\"3\" valign=\"top\">10,000 or more employees</th>\n",
       "      <th>Man</th>\n",
       "      <td>556</td>\n",
       "    </tr>\n",
       "    <tr>\n",
       "      <th>Woman</th>\n",
       "      <td>67</td>\n",
       "    </tr>\n",
       "    <tr>\n",
       "      <th>NB</th>\n",
       "      <td>3</td>\n",
       "    </tr>\n",
       "    <tr>\n",
       "      <th rowspan=\"3\" valign=\"top\">1000-9,999 employees</th>\n",
       "      <th>Man</th>\n",
       "      <td>593</td>\n",
       "    </tr>\n",
       "    <tr>\n",
       "      <th>Woman</th>\n",
       "      <td>111</td>\n",
       "    </tr>\n",
       "    <tr>\n",
       "      <th>NB</th>\n",
       "      <td>8</td>\n",
       "    </tr>\n",
       "    <tr>\n",
       "      <th rowspan=\"3\" valign=\"top\">250-999 employees</th>\n",
       "      <th>Man</th>\n",
       "      <td>395</td>\n",
       "    </tr>\n",
       "    <tr>\n",
       "      <th>Woman</th>\n",
       "      <td>79</td>\n",
       "    </tr>\n",
       "    <tr>\n",
       "      <th>NB</th>\n",
       "      <td>1</td>\n",
       "    </tr>\n",
       "    <tr>\n",
       "      <th rowspan=\"3\" valign=\"top\">50-249 employees</th>\n",
       "      <th>Man</th>\n",
       "      <td>423</td>\n",
       "    </tr>\n",
       "    <tr>\n",
       "      <th>Woman</th>\n",
       "      <td>79</td>\n",
       "    </tr>\n",
       "    <tr>\n",
       "      <th>NB</th>\n",
       "      <td>1</td>\n",
       "    </tr>\n",
       "  </tbody>\n",
       "</table>\n",
       "</div>"
      ],
      "text/plain": [
       "                                     gender_def\n",
       "company_size_q21         gender_def            \n",
       "0-49 employees           Man                722\n",
       "                         Woman              122\n",
       "                         NB                   4\n",
       "10,000 or more employees Man                556\n",
       "                         Woman               67\n",
       "                         NB                   3\n",
       "1000-9,999 employees     Man                593\n",
       "                         Woman              111\n",
       "                         NB                   8\n",
       "250-999 employees        Man                395\n",
       "                         Woman               79\n",
       "                         NB                   1\n",
       "50-249 employees         Man                423\n",
       "                         Woman               79\n",
       "                         NB                   1"
      ]
     },
     "execution_count": 58,
     "metadata": {},
     "output_type": "execute_result"
    }
   ],
   "source": [
    "genero_empresa_eu=pd.DataFrame(df_tamaño_empresa_eu.groupby(['company_size_q21'])['gender_def'].value_counts())\n",
    "genero_empresa_eu\n",
    "#Agrupo los datos en un Dataframe en el que enfrento mis dos variables :género y temaño de empresa"
   ]
  },
  {
   "attachments": {},
   "cell_type": "markdown",
   "metadata": {},
   "source": [
    "#### en europa, se aprecia ligera variacion en cuanto al tamaño de la empresa, y la distribuión por géneros"
   ]
  },
  {
   "cell_type": "code",
   "execution_count": 59,
   "metadata": {},
   "outputs": [
    {
     "data": {
      "text/html": [
       "<div>\n",
       "<style scoped>\n",
       "    .dataframe tbody tr th:only-of-type {\n",
       "        vertical-align: middle;\n",
       "    }\n",
       "\n",
       "    .dataframe tbody tr th {\n",
       "        vertical-align: top;\n",
       "    }\n",
       "\n",
       "    .dataframe thead th {\n",
       "        text-align: right;\n",
       "    }\n",
       "</style>\n",
       "<table border=\"1\" class=\"dataframe\">\n",
       "  <thead>\n",
       "    <tr style=\"text-align: right;\">\n",
       "      <th></th>\n",
       "      <th>company_size_q21</th>\n",
       "      <th>gender_def</th>\n",
       "      <th>frecuencia</th>\n",
       "    </tr>\n",
       "  </thead>\n",
       "  <tbody>\n",
       "    <tr>\n",
       "      <th>0</th>\n",
       "      <td>0-49 employees</td>\n",
       "      <td>Man</td>\n",
       "      <td>722</td>\n",
       "    </tr>\n",
       "    <tr>\n",
       "      <th>1</th>\n",
       "      <td>0-49 employees</td>\n",
       "      <td>Woman</td>\n",
       "      <td>122</td>\n",
       "    </tr>\n",
       "    <tr>\n",
       "      <th>2</th>\n",
       "      <td>0-49 employees</td>\n",
       "      <td>NB</td>\n",
       "      <td>4</td>\n",
       "    </tr>\n",
       "    <tr>\n",
       "      <th>3</th>\n",
       "      <td>10,000 or more employees</td>\n",
       "      <td>Man</td>\n",
       "      <td>556</td>\n",
       "    </tr>\n",
       "    <tr>\n",
       "      <th>4</th>\n",
       "      <td>10,000 or more employees</td>\n",
       "      <td>Woman</td>\n",
       "      <td>67</td>\n",
       "    </tr>\n",
       "    <tr>\n",
       "      <th>5</th>\n",
       "      <td>10,000 or more employees</td>\n",
       "      <td>NB</td>\n",
       "      <td>3</td>\n",
       "    </tr>\n",
       "    <tr>\n",
       "      <th>6</th>\n",
       "      <td>1000-9,999 employees</td>\n",
       "      <td>Man</td>\n",
       "      <td>593</td>\n",
       "    </tr>\n",
       "    <tr>\n",
       "      <th>7</th>\n",
       "      <td>1000-9,999 employees</td>\n",
       "      <td>Woman</td>\n",
       "      <td>111</td>\n",
       "    </tr>\n",
       "    <tr>\n",
       "      <th>8</th>\n",
       "      <td>1000-9,999 employees</td>\n",
       "      <td>NB</td>\n",
       "      <td>8</td>\n",
       "    </tr>\n",
       "    <tr>\n",
       "      <th>9</th>\n",
       "      <td>250-999 employees</td>\n",
       "      <td>Man</td>\n",
       "      <td>395</td>\n",
       "    </tr>\n",
       "    <tr>\n",
       "      <th>10</th>\n",
       "      <td>250-999 employees</td>\n",
       "      <td>Woman</td>\n",
       "      <td>79</td>\n",
       "    </tr>\n",
       "    <tr>\n",
       "      <th>11</th>\n",
       "      <td>250-999 employees</td>\n",
       "      <td>NB</td>\n",
       "      <td>1</td>\n",
       "    </tr>\n",
       "    <tr>\n",
       "      <th>12</th>\n",
       "      <td>50-249 employees</td>\n",
       "      <td>Man</td>\n",
       "      <td>423</td>\n",
       "    </tr>\n",
       "    <tr>\n",
       "      <th>13</th>\n",
       "      <td>50-249 employees</td>\n",
       "      <td>Woman</td>\n",
       "      <td>79</td>\n",
       "    </tr>\n",
       "    <tr>\n",
       "      <th>14</th>\n",
       "      <td>50-249 employees</td>\n",
       "      <td>NB</td>\n",
       "      <td>1</td>\n",
       "    </tr>\n",
       "  </tbody>\n",
       "</table>\n",
       "</div>"
      ],
      "text/plain": [
       "            company_size_q21 gender_def  frecuencia\n",
       "0             0-49 employees        Man         722\n",
       "1             0-49 employees      Woman         122\n",
       "2             0-49 employees         NB           4\n",
       "3   10,000 or more employees        Man         556\n",
       "4   10,000 or more employees      Woman          67\n",
       "5   10,000 or more employees         NB           3\n",
       "6       1000-9,999 employees        Man         593\n",
       "7       1000-9,999 employees      Woman         111\n",
       "8       1000-9,999 employees         NB           8\n",
       "9          250-999 employees        Man         395\n",
       "10         250-999 employees      Woman          79\n",
       "11         250-999 employees         NB           1\n",
       "12          50-249 employees        Man         423\n",
       "13          50-249 employees      Woman          79\n",
       "14          50-249 employees         NB           1"
      ]
     },
     "execution_count": 59,
     "metadata": {},
     "output_type": "execute_result"
    }
   ],
   "source": [
    "genero_empresa_eu.rename(columns={'gender_def':'frecuencia'}, inplace= True)\n",
    "genero_empresa_eu.reset_index()\n",
    "#reordeno Dataframe"
   ]
  },
  {
   "cell_type": "code",
   "execution_count": 60,
   "metadata": {},
   "outputs": [
    {
     "data": {
      "text/html": [
       "<div>\n",
       "<style scoped>\n",
       "    .dataframe tbody tr th:only-of-type {\n",
       "        vertical-align: middle;\n",
       "    }\n",
       "\n",
       "    .dataframe tbody tr th {\n",
       "        vertical-align: top;\n",
       "    }\n",
       "\n",
       "    .dataframe thead th {\n",
       "        text-align: right;\n",
       "    }\n",
       "</style>\n",
       "<table border=\"1\" class=\"dataframe\">\n",
       "  <thead>\n",
       "    <tr style=\"text-align: right;\">\n",
       "      <th>gender_def</th>\n",
       "      <th>company_size_q21</th>\n",
       "      <th>Man</th>\n",
       "      <th>NB</th>\n",
       "      <th>Woman</th>\n",
       "    </tr>\n",
       "  </thead>\n",
       "  <tbody>\n",
       "    <tr>\n",
       "      <th>0</th>\n",
       "      <td>0-49 employees</td>\n",
       "      <td>26.85</td>\n",
       "      <td>23.53</td>\n",
       "      <td>26.64</td>\n",
       "    </tr>\n",
       "    <tr>\n",
       "      <th>1</th>\n",
       "      <td>10,000 or more employees</td>\n",
       "      <td>20.68</td>\n",
       "      <td>17.65</td>\n",
       "      <td>14.63</td>\n",
       "    </tr>\n",
       "    <tr>\n",
       "      <th>2</th>\n",
       "      <td>1000-9,999 employees</td>\n",
       "      <td>22.05</td>\n",
       "      <td>47.06</td>\n",
       "      <td>24.24</td>\n",
       "    </tr>\n",
       "    <tr>\n",
       "      <th>3</th>\n",
       "      <td>250-999 employees</td>\n",
       "      <td>14.69</td>\n",
       "      <td>5.88</td>\n",
       "      <td>17.25</td>\n",
       "    </tr>\n",
       "    <tr>\n",
       "      <th>4</th>\n",
       "      <td>50-249 employees</td>\n",
       "      <td>15.73</td>\n",
       "      <td>5.88</td>\n",
       "      <td>17.25</td>\n",
       "    </tr>\n",
       "  </tbody>\n",
       "</table>\n",
       "</div>"
      ],
      "text/plain": [
       "gender_def          company_size_q21    Man     NB  Woman\n",
       "0                     0-49 employees  26.85  23.53  26.64\n",
       "1           10,000 or more employees  20.68  17.65  14.63\n",
       "2               1000-9,999 employees  22.05  47.06  24.24\n",
       "3                  250-999 employees  14.69   5.88  17.25\n",
       "4                   50-249 employees  15.73   5.88  17.25"
      ]
     },
     "execution_count": 60,
     "metadata": {},
     "output_type": "execute_result"
    }
   ],
   "source": [
    "tamaño_genero_ue=pd.DataFrame(pd.crosstab(df_tamaño_empresa_eu['company_size_q21'], df_tamaño_empresa_eu['gender_def']).apply(lambda x:round(x*100/x.sum(), 2), axis=0))\n",
    "tamaño_genero_ue.reset_index(inplace=True)\n",
    "tamaño_genero_ue\n",
    "#Hago tabla de frecuencias de las variables"
   ]
  },
  {
   "cell_type": "code",
   "execution_count": 61,
   "metadata": {},
   "outputs": [
    {
     "data": {
      "image/png": "[encoded data removed]",
      "text/plain": [
       "<Figure size 720x360 with 1 Axes>"
      ]
     },
     "metadata": {},
     "output_type": "display_data"
    }
   ],
   "source": [
    "\n",
    "plt.figure(figsize=(10,5))\n",
    "colores =(\"#EE6055\",\"#60D394\",\"#AAF683\")\n",
    "figure=plt.pie(tamaño_genero_ue['Man'], labels=tamaño_genero_ue['company_size_q21'],autopct='%1.1f%%')\n",
    "plt.title('UE Men distribution by company size')\n",
    "#plt.savefig('../graphs/ana_empresa_man_eu.png')\n",
    "plt.show();"
   ]
  },
  {
   "cell_type": "code",
   "execution_count": 62,
   "metadata": {},
   "outputs": [
    {
     "data": {
      "text/plain": [
       "<Figure size 432x288 with 0 Axes>"
      ]
     },
     "metadata": {},
     "output_type": "display_data"
    },
    {
     "data": {
      "image/png": "[encoded data removed]",
      "text/plain": [
       "<Figure size 720x360 with 1 Axes>"
      ]
     },
     "metadata": {},
     "output_type": "display_data"
    }
   ],
   "source": [
    "plt.figure()\n",
    "plt.figure(figsize=(10,5))\n",
    "desfase=(0.1,0.1,0.1)\n",
    "colores =(\"#EE6055\",\"#60D394\",\"#AAF683\")\n",
    "figure=plt.pie(tamaño_genero_ue['Woman'], labels=tamaño_genero_ue['company_size_q21'],autopct='%1.1f%%')\n",
    "plt.title('UE Women distribution by company size')\n",
    "#plt.savefig('../graphs/ana_empresa_woman_eu.png')\n",
    "plt.show();"
   ]
  },
  {
   "cell_type": "code",
   "execution_count": 63,
   "metadata": {},
   "outputs": [
    {
     "data": {
      "text/plain": [
       "<Figure size 432x288 with 0 Axes>"
      ]
     },
     "metadata": {},
     "output_type": "display_data"
    },
    {
     "data": {
      "image/png": "[encoded data removed]",
      "text/plain": [
       "<Figure size 720x360 with 1 Axes>"
      ]
     },
     "metadata": {},
     "output_type": "display_data"
    }
   ],
   "source": [
    "plt.figure()\n",
    "plt.figure(figsize=(10,5))\n",
    "colores =(\"#EE6055\",\"#60D394\",\"#AAF683\")\n",
    "figure=plt.pie(tamaño_genero_ue['NB'], labels=tamaño_genero_ue['company_size_q21'],autopct='%1.1f%%')\n",
    "plt.title('UE Non Binary distribution by company size')\n",
    "#plt.savefig('../graphs/ana_empresa_nb_eu.png')\n",
    "plt.show();"
   ]
  },
  {
   "cell_type": "code",
   "execution_count": 64,
   "metadata": {},
   "outputs": [
    {
     "data": {
      "text/html": [
       "<div>\n",
       "<style scoped>\n",
       "    .dataframe tbody tr th:only-of-type {\n",
       "        vertical-align: middle;\n",
       "    }\n",
       "\n",
       "    .dataframe tbody tr th {\n",
       "        vertical-align: top;\n",
       "    }\n",
       "\n",
       "    .dataframe thead th {\n",
       "        text-align: right;\n",
       "    }\n",
       "</style>\n",
       "<table border=\"1\" class=\"dataframe\">\n",
       "  <thead>\n",
       "    <tr style=\"text-align: right;\">\n",
       "      <th></th>\n",
       "      <th>company_size_q21</th>\n",
       "      <th>gender_def</th>\n",
       "      <th>frecuencia</th>\n",
       "    </tr>\n",
       "  </thead>\n",
       "  <tbody>\n",
       "    <tr>\n",
       "      <th>0</th>\n",
       "      <td>0-49 employees</td>\n",
       "      <td>Man</td>\n",
       "      <td>4110</td>\n",
       "    </tr>\n",
       "    <tr>\n",
       "      <th>1</th>\n",
       "      <td>0-49 employees</td>\n",
       "      <td>Woman</td>\n",
       "      <td>841</td>\n",
       "    </tr>\n",
       "    <tr>\n",
       "      <th>2</th>\n",
       "      <td>0-49 employees</td>\n",
       "      <td>NB</td>\n",
       "      <td>25</td>\n",
       "    </tr>\n",
       "    <tr>\n",
       "      <th>3</th>\n",
       "      <td>10,000 or more employees</td>\n",
       "      <td>Man</td>\n",
       "      <td>2818</td>\n",
       "    </tr>\n",
       "    <tr>\n",
       "      <th>4</th>\n",
       "      <td>10,000 or more employees</td>\n",
       "      <td>Woman</td>\n",
       "      <td>538</td>\n",
       "    </tr>\n",
       "    <tr>\n",
       "      <th>5</th>\n",
       "      <td>10,000 or more employees</td>\n",
       "      <td>NB</td>\n",
       "      <td>16</td>\n",
       "    </tr>\n",
       "    <tr>\n",
       "      <th>6</th>\n",
       "      <td>1000-9,999 employees</td>\n",
       "      <td>Man</td>\n",
       "      <td>2530</td>\n",
       "    </tr>\n",
       "    <tr>\n",
       "      <th>7</th>\n",
       "      <td>1000-9,999 employees</td>\n",
       "      <td>Woman</td>\n",
       "      <td>476</td>\n",
       "    </tr>\n",
       "    <tr>\n",
       "      <th>8</th>\n",
       "      <td>1000-9,999 employees</td>\n",
       "      <td>NB</td>\n",
       "      <td>17</td>\n",
       "    </tr>\n",
       "    <tr>\n",
       "      <th>9</th>\n",
       "      <td>250-999 employees</td>\n",
       "      <td>Man</td>\n",
       "      <td>1742</td>\n",
       "    </tr>\n",
       "    <tr>\n",
       "      <th>10</th>\n",
       "      <td>250-999 employees</td>\n",
       "      <td>Woman</td>\n",
       "      <td>377</td>\n",
       "    </tr>\n",
       "    <tr>\n",
       "      <th>11</th>\n",
       "      <td>250-999 employees</td>\n",
       "      <td>NB</td>\n",
       "      <td>7</td>\n",
       "    </tr>\n",
       "    <tr>\n",
       "      <th>12</th>\n",
       "      <td>50-249 employees</td>\n",
       "      <td>Man</td>\n",
       "      <td>2097</td>\n",
       "    </tr>\n",
       "    <tr>\n",
       "      <th>13</th>\n",
       "      <td>50-249 employees</td>\n",
       "      <td>Woman</td>\n",
       "      <td>435</td>\n",
       "    </tr>\n",
       "    <tr>\n",
       "      <th>14</th>\n",
       "      <td>50-249 employees</td>\n",
       "      <td>NB</td>\n",
       "      <td>9</td>\n",
       "    </tr>\n",
       "  </tbody>\n",
       "</table>\n",
       "</div>"
      ],
      "text/plain": [
       "            company_size_q21 gender_def  frecuencia\n",
       "0             0-49 employees        Man        4110\n",
       "1             0-49 employees      Woman         841\n",
       "2             0-49 employees         NB          25\n",
       "3   10,000 or more employees        Man        2818\n",
       "4   10,000 or more employees      Woman         538\n",
       "5   10,000 or more employees         NB          16\n",
       "6       1000-9,999 employees        Man        2530\n",
       "7       1000-9,999 employees      Woman         476\n",
       "8       1000-9,999 employees         NB          17\n",
       "9          250-999 employees        Man        1742\n",
       "10         250-999 employees      Woman         377\n",
       "11         250-999 employees         NB           7\n",
       "12          50-249 employees        Man        2097\n",
       "13          50-249 employees      Woman         435\n",
       "14          50-249 employees         NB           9"
      ]
     },
     "execution_count": 64,
     "metadata": {},
     "output_type": "execute_result"
    }
   ],
   "source": [
    "genero_empresa_mundial.rename(columns={'gender_def':'frecuencia'}, inplace= True)\n",
    "genero_empresa_mundial.reset_index()\n",
    "#reordeno Dataframe"
   ]
  },
  {
   "cell_type": "code",
   "execution_count": 65,
   "metadata": {},
   "outputs": [
    {
     "data": {
      "text/html": [
       "<div>\n",
       "<style scoped>\n",
       "    .dataframe tbody tr th:only-of-type {\n",
       "        vertical-align: middle;\n",
       "    }\n",
       "\n",
       "    .dataframe tbody tr th {\n",
       "        vertical-align: top;\n",
       "    }\n",
       "\n",
       "    .dataframe thead th {\n",
       "        text-align: right;\n",
       "    }\n",
       "</style>\n",
       "<table border=\"1\" class=\"dataframe\">\n",
       "  <thead>\n",
       "    <tr style=\"text-align: right;\">\n",
       "      <th>gender_def</th>\n",
       "      <th>company_size_q21</th>\n",
       "      <th>Man</th>\n",
       "      <th>NB</th>\n",
       "      <th>Woman</th>\n",
       "    </tr>\n",
       "  </thead>\n",
       "  <tbody>\n",
       "    <tr>\n",
       "      <th>0</th>\n",
       "      <td>0-49 employees</td>\n",
       "      <td>30.91</td>\n",
       "      <td>33.78</td>\n",
       "      <td>31.53</td>\n",
       "    </tr>\n",
       "    <tr>\n",
       "      <th>1</th>\n",
       "      <td>10,000 or more employees</td>\n",
       "      <td>21.19</td>\n",
       "      <td>21.62</td>\n",
       "      <td>20.17</td>\n",
       "    </tr>\n",
       "    <tr>\n",
       "      <th>2</th>\n",
       "      <td>1000-9,999 employees</td>\n",
       "      <td>19.03</td>\n",
       "      <td>22.97</td>\n",
       "      <td>17.85</td>\n",
       "    </tr>\n",
       "    <tr>\n",
       "      <th>3</th>\n",
       "      <td>250-999 employees</td>\n",
       "      <td>13.10</td>\n",
       "      <td>9.46</td>\n",
       "      <td>14.14</td>\n",
       "    </tr>\n",
       "    <tr>\n",
       "      <th>4</th>\n",
       "      <td>50-249 employees</td>\n",
       "      <td>15.77</td>\n",
       "      <td>12.16</td>\n",
       "      <td>16.31</td>\n",
       "    </tr>\n",
       "  </tbody>\n",
       "</table>\n",
       "</div>"
      ],
      "text/plain": [
       "gender_def          company_size_q21    Man     NB  Woman\n",
       "0                     0-49 employees  30.91  33.78  31.53\n",
       "1           10,000 or more employees  21.19  21.62  20.17\n",
       "2               1000-9,999 employees  19.03  22.97  17.85\n",
       "3                  250-999 employees  13.10   9.46  14.14\n",
       "4                   50-249 employees  15.77  12.16  16.31"
      ]
     },
     "execution_count": 65,
     "metadata": {},
     "output_type": "execute_result"
    }
   ],
   "source": [
    "tamaño_genero_mun=pd.DataFrame(pd.crosstab(df_tamaño_empresa_mundial['company_size_q21'], df_tamaño_empresa_mundial['gender_def']).apply(lambda x:round(x*100/x.sum(), 2), axis=0))\n",
    "tamaño_genero_mun.reset_index(inplace=True)\n",
    "tamaño_genero_mun\n",
    "#Hago tabla de frecuencias de las variables"
   ]
  },
  {
   "cell_type": "code",
   "execution_count": 66,
   "metadata": {},
   "outputs": [
    {
     "data": {
      "text/plain": [
       "<Figure size 432x288 with 0 Axes>"
      ]
     },
     "metadata": {},
     "output_type": "display_data"
    },
    {
     "data": {
      "image/png": "[encoded data removed]",
      "text/plain": [
       "<Figure size 720x360 with 1 Axes>"
      ]
     },
     "metadata": {},
     "output_type": "display_data"
    }
   ],
   "source": [
    "plt.figure()\n",
    "plt.figure(figsize=(10,5))\n",
    "desfase=(0.1,0.1,0.1)\n",
    "colores =(\"#EE6055\",\"#60D394\",\"#AAF683\")\n",
    "figure=plt.pie(tamaño_genero_mun['Man'], labels=tamaño_genero_mun['company_size_q21'],autopct='%1.1f%%')\n",
    "plt.title('Worldwide Men distribution by company size')\n",
    "#plt.savefig('../graphs/ana_empresa_men_world.png')\n",
    "plt.show();"
   ]
  },
  {
   "cell_type": "code",
   "execution_count": 67,
   "metadata": {},
   "outputs": [
    {
     "data": {
      "text/plain": [
       "<Figure size 432x288 with 0 Axes>"
      ]
     },
     "metadata": {},
     "output_type": "display_data"
    },
    {
     "data": {
      "image/png": "[encoded data removed]",
      "text/plain": [
       "<Figure size 720x360 with 1 Axes>"
      ]
     },
     "metadata": {},
     "output_type": "display_data"
    }
   ],
   "source": [
    "plt.figure()\n",
    "plt.figure(figsize=(10,5))\n",
    "desfase=(0.1,0.1,0.1)\n",
    "colores =(\"#EE6055\",\"#60D394\",\"#AAF683\")\n",
    "figure=plt.pie(tamaño_genero_mun['Woman'], labels=tamaño_genero_mun['company_size_q21'],autopct='%1.1f%%')\n",
    "plt.title('Worldwide Women distribution by company size')\n",
    "#plt.savefig('../graphs/ana_empresa_woman_world.png')\n",
    "plt.show();"
   ]
  },
  {
   "cell_type": "code",
   "execution_count": 68,
   "metadata": {},
   "outputs": [
    {
     "data": {
      "text/plain": [
       "<Figure size 432x288 with 0 Axes>"
      ]
     },
     "metadata": {},
     "output_type": "display_data"
    },
    {
     "data": {
      "image/png": "[encoded data removed]",
      "text/plain": [
       "<Figure size 720x360 with 1 Axes>"
      ]
     },
     "metadata": {},
     "output_type": "display_data"
    }
   ],
   "source": [
    "plt.figure()\n",
    "plt.figure(figsize=(10,5))\n",
    "desfase=(0.1,0.1,0.1)\n",
    "colores =(\"#EE6055\",\"#60D394\",\"#AAF683\")\n",
    "figure=plt.pie(tamaño_genero_mun['NB'], labels=tamaño_genero_mun['company_size_q21'],autopct='%1.1f%%')\n",
    "plt.title('Worldwide Non Binary distribution by company size')\n",
    "#plt.savefig('../graphs/ana_empresa_nb_world.png')\n",
    "plt.show();"
   ]
  },
  {
   "attachments": {},
   "cell_type": "markdown",
   "metadata": {},
   "source": [
    "La distribución por géneros, es bastante similar, se concentran en pequeña empresa y las empresas más grandes.\n",
    "La única diferencia más sustancial , la observamos en los encuestados no binarios, que en mediana empresa a penas están presentes (aún no sabemos si es una diferencia significativa)"
   ]
  },
  {
   "attachments": {},
   "cell_type": "markdown",
   "metadata": {},
   "source": [
    "En el estudio realizado con los encuestados que prefieren no definirse, hemos restado 355 registros que se han valorado como nulos según referencias, vemos que esta población, sigue una distribución similar a la binaria."
   ]
  },
  {
   "cell_type": "code",
   "execution_count": 69,
   "metadata": {},
   "outputs": [],
   "source": [
    "from scipy.stats import chi2_contingency"
   ]
  },
  {
   "cell_type": "code",
   "execution_count": 70,
   "metadata": {},
   "outputs": [
    {
     "name": "stdout",
     "output_type": "stream",
     "text": [
      "No existen diferencias significativas en el tipo de puesto según el género, con una p de 1.0\n"
     ]
    }
   ],
   "source": [
    "#https://thinkingneuron.com/how-to-measure-the-correlation-between-two-categorical-variables-in-python/\n",
    "chi2 = chi2_contingency(genero_empresa_mundial)\n",
    "if chi2[1] <= .05:\n",
    "    print(f\"Existen diferencias significativas en el tipo de puesto según el género, con una p de {round(chi2[1], 2)}\")\n",
    "else:\n",
    "    print(f\"No existen diferencias significativas en el tipo de puesto según el género, con una p de {round(chi2[1], 2)}\")"
   ]
  },
  {
   "cell_type": "code",
   "execution_count": 71,
   "metadata": {},
   "outputs": [
    {
     "name": "stdout",
     "output_type": "stream",
     "text": [
      "No existen diferencias significativas en el tipo de puesto según el género, con una p de 1.0\n"
     ]
    }
   ],
   "source": [
    "#https://thinkingneuron.com/how-to-measure-the-correlation-between-two-categorical-variables-in-python/\n",
    "chi2 = chi2_contingency(genero_empresa_eu)\n",
    "if chi2[1] <= .05:\n",
    "    print(f\"Existen diferencias significativas en el tipo de puesto según el género, con una p de {round(chi2[1], 2)}\")\n",
    "else:\n",
    "    print(f\"No existen diferencias significativas en el tipo de puesto según el género, con una p de {round(chi2[1], 2)}\")"
   ]
  }
 ],
 "metadata": {
  "kernelspec": {
   "display_name": "Python 3",
   "language": "python",
   "name": "python3"
  },
  "language_info": {
   "codemirror_mode": {
    "name": "ipython",
    "version": 3
   },
   "file_extension": ".py",
   "mimetype": "text/x-python",
   "name": "python",
   "nbconvert_exporter": "python",
   "pygments_lexer": "ipython3",
   "version": "3.9.7"
  },
  "orig_nbformat": 4,
  "vscode": {
   "interpreter": {
    "hash": "235f9155b0abc8f1580e75acf7c6712d847a3598ded282a80a21bb1bc6aba73f"
   }
  }
 },
 "nbformat": 4,
 "nbformat_minor": 2
}
