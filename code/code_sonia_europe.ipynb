{
 "cells": [
  {
   "attachments": {},
   "cell_type": "markdown",
   "metadata": {},
   "source": [
    "# Sonia\n",
    "Columna a describir: __Pais (Q3)__\n",
    "\n",
    "Pregunta a responder: __¿Cuál es el lenguaje de programación más utilizado (Q7)?__"
   ]
  },
  {
   "attachments": {},
   "cell_type": "markdown",
   "metadata": {},
   "source": [
    "## Codigo limpio"
   ]
  },
  {
   "attachments": {},
   "cell_type": "markdown",
   "metadata": {},
   "source": [
    "### Librerias necesarias"
   ]
  },
  {
   "cell_type": "code",
   "execution_count": 25,
   "metadata": {},
   "outputs": [],
   "source": [
    "# importamos las librerias necesarias para la utilizacion de sus metodos\n",
    "import pandas as pd\n",
    "import numpy as np\n",
    "import seaborn as sns\n",
    "import matplotlib.pyplot as plt\n",
    "from scipy.stats import skew\n",
    "import pycountry_convert as pc   # para crear la columna de continente\n",
    "from wordcloud import WordCloud   # para la nube de palabras\n",
    "\n",
    "pd.options.display.max_columns=None\n",
    "pd.options.display.max_rows=None"
   ]
  },
  {
   "attachments": {},
   "cell_type": "markdown",
   "metadata": {},
   "source": [
    "### Funcion para limpiar columna pais y sacar solo los continentes"
   ]
  },
  {
   "cell_type": "code",
   "execution_count": 26,
   "metadata": {},
   "outputs": [],
   "source": [
    "def country_to_continent(country_name):\n",
    "    try:\n",
    "        country_alpha2 = pc.country_name_to_country_alpha2(country_name)\n",
    "        country_continent_code = pc.country_alpha2_to_continent_code(country_alpha2)\n",
    "        country_continent_name = pc.convert_continent_code_to_continent_name(country_continent_code)\n",
    "        return country_continent_name\n",
    "    except:\n",
    "        return country_name"
   ]
  },
  {
   "attachments": {},
   "cell_type": "markdown",
   "metadata": {},
   "source": [
    "### Importamos dataframe Europa a utilizar creado 14-01-2023"
   ]
  },
  {
   "cell_type": "code",
   "execution_count": 34,
   "metadata": {},
   "outputs": [
    {
     "data": {
      "text/html": [
       "<div>\n",
       "<style scoped>\n",
       "    .dataframe tbody tr th:only-of-type {\n",
       "        vertical-align: middle;\n",
       "    }\n",
       "\n",
       "    .dataframe tbody tr th {\n",
       "        vertical-align: top;\n",
       "    }\n",
       "\n",
       "    .dataframe thead th {\n",
       "        text-align: right;\n",
       "    }\n",
       "</style>\n",
       "<table border=\"1\" class=\"dataframe\">\n",
       "  <thead>\n",
       "    <tr style=\"text-align: right;\">\n",
       "      <th></th>\n",
       "      <th>age</th>\n",
       "      <th>gender</th>\n",
       "      <th>country_q3</th>\n",
       "      <th>education_q4</th>\n",
       "      <th>role_q5</th>\n",
       "      <th>experience_q6</th>\n",
       "      <th>language_q7</th>\n",
       "      <th>sector_q20</th>\n",
       "      <th>company_size_q21</th>\n",
       "      <th>anual_income_q25</th>\n",
       "      <th>continent</th>\n",
       "      <th>gender_def</th>\n",
       "      <th>role_q5_def</th>\n",
       "      <th>annual_incom€_q25</th>\n",
       "    </tr>\n",
       "  </thead>\n",
       "  <tbody>\n",
       "    <tr>\n",
       "      <th>15</th>\n",
       "      <td>35-39</td>\n",
       "      <td>Man</td>\n",
       "      <td>Greece</td>\n",
       "      <td>Doctoral degree</td>\n",
       "      <td>Research Scientist</td>\n",
       "      <td>10-20 years</td>\n",
       "      <td>Python, C, C++, MATLAB</td>\n",
       "      <td>Academics/Education</td>\n",
       "      <td>50-249 employees</td>\n",
       "      <td>10,000-14,999</td>\n",
       "      <td>Europe</td>\n",
       "      <td>Man</td>\n",
       "      <td>NaN</td>\n",
       "      <td>1,860-2,789</td>\n",
       "    </tr>\n",
       "    <tr>\n",
       "      <th>16</th>\n",
       "      <td>50-54</td>\n",
       "      <td>Man</td>\n",
       "      <td>Belgium</td>\n",
       "      <td>Bachelor’s degree</td>\n",
       "      <td>Data Analyst</td>\n",
       "      <td>20+ years</td>\n",
       "      <td>Python, SQL</td>\n",
       "      <td>Energy/Mining</td>\n",
       "      <td>1000-9,999 employees</td>\n",
       "      <td>2,000-2,999</td>\n",
       "      <td>Europe</td>\n",
       "      <td>Man</td>\n",
       "      <td>NaN</td>\n",
       "      <td>65,100-74,399</td>\n",
       "    </tr>\n",
       "    <tr>\n",
       "      <th>25</th>\n",
       "      <td>25-29</td>\n",
       "      <td>Woman</td>\n",
       "      <td>Poland</td>\n",
       "      <td>Master’s degree</td>\n",
       "      <td>Machine Learning Engineer</td>\n",
       "      <td>3-5 years</td>\n",
       "      <td>Python, C++</td>\n",
       "      <td>Computers/Technology</td>\n",
       "      <td>0-49 employees</td>\n",
       "      <td>25,000-29,999</td>\n",
       "      <td>Europe</td>\n",
       "      <td>Woman</td>\n",
       "      <td>NaN</td>\n",
       "      <td>23,250-27,899</td>\n",
       "    </tr>\n",
       "  </tbody>\n",
       "</table>\n",
       "</div>"
      ],
      "text/plain": [
       "      age gender country_q3       education_q4                    role_q5  \\\n",
       "15  35-39    Man     Greece    Doctoral degree         Research Scientist   \n",
       "16  50-54    Man    Belgium  Bachelor’s degree               Data Analyst   \n",
       "25  25-29  Woman     Poland    Master’s degree  Machine Learning Engineer   \n",
       "\n",
       "   experience_q6             language_q7            sector_q20  \\\n",
       "15   10-20 years  Python, C, C++, MATLAB   Academics/Education   \n",
       "16     20+ years             Python, SQL         Energy/Mining   \n",
       "25     3-5 years             Python, C++  Computers/Technology   \n",
       "\n",
       "        company_size_q21 anual_income_q25 continent gender_def role_q5_def  \\\n",
       "15      50-249 employees    10,000-14,999    Europe        Man         NaN   \n",
       "16  1000-9,999 employees      2,000-2,999    Europe        Man         NaN   \n",
       "25        0-49 employees    25,000-29,999    Europe      Woman         NaN   \n",
       "\n",
       "   annual_incom€_q25  \n",
       "15       1,860-2,789  \n",
       "16     65,100-74,399  \n",
       "25     23,250-27,899  "
      ]
     },
     "execution_count": 34,
     "metadata": {},
     "output_type": "execute_result"
    }
   ],
   "source": [
    "df_eu=pd.read_csv('../files/df_eu_depurado.csv',index_col=0)\n",
    "df_eu.head(3)"
   ]
  },
  {
   "cell_type": "code",
   "execution_count": 35,
   "metadata": {},
   "outputs": [
    {
     "data": {
      "text/plain": [
       "(3164, 14)"
      ]
     },
     "execution_count": 35,
     "metadata": {},
     "output_type": "execute_result"
    }
   ],
   "source": [
    "df_eu.shape"
   ]
  },
  {
   "cell_type": "code",
   "execution_count": 36,
   "metadata": {},
   "outputs": [
    {
     "data": {
      "text/plain": [
       "array(['Greece', 'Belgium', 'Poland', 'Italy', 'Russia',\n",
       "       'United Kingdom of Great Britain and Northern Ireland', 'France',\n",
       "       'Sweden', 'Spain', 'Austria', 'Ireland', 'Portugal', 'Ukraine',\n",
       "       'Denmark', 'Germany', 'Netherlands', 'Switzerland', 'Romania',\n",
       "       'Norway', 'Belarus', 'Czech Republic'], dtype=object)"
      ]
     },
     "execution_count": 36,
     "metadata": {},
     "output_type": "execute_result"
    }
   ],
   "source": [
    "df_eu['country_q3'].unique()"
   ]
  },
  {
   "cell_type": "code",
   "execution_count": 39,
   "metadata": {},
   "outputs": [],
   "source": [
    "df_eu['country_q3_new']=np.where(df_eu['country_q3'].str.contains('United Kingdom of Great Britain and Northern Ireland',case=False, regex=True),'UK',df_eu['country_q3'])"
   ]
  },
  {
   "cell_type": "code",
   "execution_count": 41,
   "metadata": {},
   "outputs": [
    {
     "data": {
      "text/plain": [
       "array(['Greece', 'Belgium', 'Poland', 'Italy', 'Russia', 'UK', 'France',\n",
       "       'Sweden', 'Spain', 'Austria', 'Ireland', 'Portugal', 'Ukraine',\n",
       "       'Denmark', 'Germany', 'Netherlands', 'Switzerland', 'Romania',\n",
       "       'Norway', 'Belarus', 'Czech Republic'], dtype=object)"
      ]
     },
     "execution_count": 41,
     "metadata": {},
     "output_type": "execute_result"
    }
   ],
   "source": [
    "df_eu['country_q3_new'].unique()"
   ]
  },
  {
   "cell_type": "code",
   "execution_count": 43,
   "metadata": {},
   "outputs": [
    {
     "data": {
      "image/png": "[encoded data removed]",
      "text/plain": [
       "<Figure size 864x504 with 1 Axes>"
      ]
     },
     "metadata": {
      "needs_background": "light"
     },
     "output_type": "display_data"
    }
   ],
   "source": [
    "plt.figure(figsize=(12,7))\n",
    "order_countries=['Greece', 'Belgium', 'Poland', 'Italy', 'Russia', 'UK', 'France',\n",
    "       'Sweden', 'Spain', 'Austria', 'Ireland', 'Portugal', 'Ukraine',\n",
    "       'Denmark', 'Germany', 'Netherlands', 'Switzerland', 'Romania',\n",
    "       'Norway', 'Belarus', 'Czech Republic']\n",
    "fig=sns.countplot(y='country_q3_new', data=df_eu,palette='dark:#5A9_r',order=sorted(order_countries))\n",
    "fig.set(ylabel='Country',xlabel='Number of People')\n",
    "fig.set_title('UE countries distribution')\n",
    "#plt.xticks(rotation = 90)\n",
    "plt.savefig('../graphs/ue_countries.png')\n",
    "plt.show()"
   ]
  },
  {
   "attachments": {},
   "cell_type": "markdown",
   "metadata": {},
   "source": [
    "### Creacion nube palabras lenguaje programacion más utilizado"
   ]
  },
  {
   "cell_type": "code",
   "execution_count": 14,
   "metadata": {},
   "outputs": [
    {
     "data": {
      "text/plain": [
       "Index(['age', 'gender', 'country_q3', 'education_q4', 'role_q5',\n",
       "       'experience_q6', 'language_q7', 'sector_q20', 'company_size_q21',\n",
       "       'anual_income_q25', 'continent', 'gender_def', 'role_q5_def',\n",
       "       'annual_incom€_q25'],\n",
       "      dtype='object')"
      ]
     },
     "execution_count": 14,
     "metadata": {},
     "output_type": "execute_result"
    }
   ],
   "source": [
    "df_eu.columns"
   ]
  },
  {
   "cell_type": "code",
   "execution_count": 15,
   "metadata": {},
   "outputs": [],
   "source": [
    "df_glo_lang=df_eu.copy()"
   ]
  },
  {
   "attachments": {},
   "cell_type": "markdown",
   "metadata": {},
   "source": [
    "#### Creamos dataframe con una columna para cada lenguaje de programacion"
   ]
  },
  {
   "cell_type": "code",
   "execution_count": 16,
   "metadata": {},
   "outputs": [],
   "source": [
    "df_glo_lang['python']=np.where(df_glo_lang['language_q7'].str.contains('Python',case=False, regex=True),1,0)\n",
    "df_glo_lang['r']=np.where(df_glo_lang['language_q7'].str.contains('R',case=False, regex=True),1,0)\n",
    "df_glo_lang['sql']=np.where(df_glo_lang['language_q7'].str.contains('SQL',case=False, regex=True),1,0)\n",
    "df_glo_lang['c']=np.where(df_glo_lang['language_q7'].str.contains('C',case=False, regex=True),1,0)\n",
    "df_glo_lang['c++']=np.where(df_glo_lang['language_q7'].str.contains('C\\+\\+',case=False, regex=True),1,0)\n",
    "df_glo_lang['java']=np.where(df_glo_lang['language_q7'].str.contains('java',case=False, regex=True),1,0)\n",
    "df_glo_lang['javascript']=np.where(df_glo_lang['language_q7'].str.contains('javascript',case=False, regex=True),1,0)\n",
    "df_glo_lang['julia']=np.where(df_glo_lang['language_q7'].str.contains('julia',case=False, regex=True),1,0)\n",
    "df_glo_lang['swift']=np.where(df_glo_lang['language_q7'].str.contains('swift',case=False, regex=True),1,0)\n",
    "df_glo_lang['bash']=np.where(df_glo_lang['language_q7'].str.contains('bash',case=False, regex=True),1,0)\n",
    "df_glo_lang['matlab']=np.where(df_glo_lang['language_q7'].str.contains('matlab',case=False, regex=True),1,0)\n",
    "df_glo_lang['none']=np.where(df_glo_lang['language_q7'].str.contains('none',case=False, regex=True),1,0)\n",
    "df_glo_lang['other']=np.where(df_glo_lang['language_q7'].str.contains('other',case=False, regex=True),1,0)\n",
    "\n"
   ]
  },
  {
   "cell_type": "code",
   "execution_count": 17,
   "metadata": {},
   "outputs": [
    {
     "data": {
      "text/html": [
       "<div>\n",
       "<style scoped>\n",
       "    .dataframe tbody tr th:only-of-type {\n",
       "        vertical-align: middle;\n",
       "    }\n",
       "\n",
       "    .dataframe tbody tr th {\n",
       "        vertical-align: top;\n",
       "    }\n",
       "\n",
       "    .dataframe thead th {\n",
       "        text-align: right;\n",
       "    }\n",
       "</style>\n",
       "<table border=\"1\" class=\"dataframe\">\n",
       "  <thead>\n",
       "    <tr style=\"text-align: right;\">\n",
       "      <th></th>\n",
       "      <th>age</th>\n",
       "      <th>gender</th>\n",
       "      <th>country_q3</th>\n",
       "      <th>education_q4</th>\n",
       "      <th>role_q5</th>\n",
       "      <th>experience_q6</th>\n",
       "      <th>language_q7</th>\n",
       "      <th>sector_q20</th>\n",
       "      <th>company_size_q21</th>\n",
       "      <th>anual_income_q25</th>\n",
       "      <th>continent</th>\n",
       "      <th>gender_def</th>\n",
       "      <th>role_q5_def</th>\n",
       "      <th>annual_incom€_q25</th>\n",
       "      <th>python</th>\n",
       "      <th>r</th>\n",
       "      <th>sql</th>\n",
       "      <th>c</th>\n",
       "      <th>c++</th>\n",
       "      <th>java</th>\n",
       "      <th>javascript</th>\n",
       "      <th>julia</th>\n",
       "      <th>swift</th>\n",
       "      <th>bash</th>\n",
       "      <th>matlab</th>\n",
       "      <th>none</th>\n",
       "      <th>other</th>\n",
       "    </tr>\n",
       "  </thead>\n",
       "  <tbody>\n",
       "    <tr>\n",
       "      <th>15</th>\n",
       "      <td>35-39</td>\n",
       "      <td>Man</td>\n",
       "      <td>Greece</td>\n",
       "      <td>Doctoral degree</td>\n",
       "      <td>Research Scientist</td>\n",
       "      <td>10-20 years</td>\n",
       "      <td>Python, C, C++, MATLAB</td>\n",
       "      <td>Academics/Education</td>\n",
       "      <td>50-249 employees</td>\n",
       "      <td>10,000-14,999</td>\n",
       "      <td>Europe</td>\n",
       "      <td>Man</td>\n",
       "      <td>NaN</td>\n",
       "      <td>1,860-2,789</td>\n",
       "      <td>1</td>\n",
       "      <td>0</td>\n",
       "      <td>0</td>\n",
       "      <td>1</td>\n",
       "      <td>1</td>\n",
       "      <td>0</td>\n",
       "      <td>0</td>\n",
       "      <td>0</td>\n",
       "      <td>0</td>\n",
       "      <td>0</td>\n",
       "      <td>1</td>\n",
       "      <td>0</td>\n",
       "      <td>0</td>\n",
       "    </tr>\n",
       "    <tr>\n",
       "      <th>16</th>\n",
       "      <td>50-54</td>\n",
       "      <td>Man</td>\n",
       "      <td>Belgium</td>\n",
       "      <td>Bachelor’s degree</td>\n",
       "      <td>Data Analyst</td>\n",
       "      <td>20+ years</td>\n",
       "      <td>Python, SQL</td>\n",
       "      <td>Energy/Mining</td>\n",
       "      <td>1000-9,999 employees</td>\n",
       "      <td>2,000-2,999</td>\n",
       "      <td>Europe</td>\n",
       "      <td>Man</td>\n",
       "      <td>NaN</td>\n",
       "      <td>65,100-74,399</td>\n",
       "      <td>1</td>\n",
       "      <td>0</td>\n",
       "      <td>1</td>\n",
       "      <td>0</td>\n",
       "      <td>0</td>\n",
       "      <td>0</td>\n",
       "      <td>0</td>\n",
       "      <td>0</td>\n",
       "      <td>0</td>\n",
       "      <td>0</td>\n",
       "      <td>0</td>\n",
       "      <td>0</td>\n",
       "      <td>0</td>\n",
       "    </tr>\n",
       "    <tr>\n",
       "      <th>25</th>\n",
       "      <td>25-29</td>\n",
       "      <td>Woman</td>\n",
       "      <td>Poland</td>\n",
       "      <td>Master’s degree</td>\n",
       "      <td>Machine Learning Engineer</td>\n",
       "      <td>3-5 years</td>\n",
       "      <td>Python, C++</td>\n",
       "      <td>Computers/Technology</td>\n",
       "      <td>0-49 employees</td>\n",
       "      <td>25,000-29,999</td>\n",
       "      <td>Europe</td>\n",
       "      <td>Woman</td>\n",
       "      <td>NaN</td>\n",
       "      <td>23,250-27,899</td>\n",
       "      <td>1</td>\n",
       "      <td>0</td>\n",
       "      <td>0</td>\n",
       "      <td>1</td>\n",
       "      <td>1</td>\n",
       "      <td>0</td>\n",
       "      <td>0</td>\n",
       "      <td>0</td>\n",
       "      <td>0</td>\n",
       "      <td>0</td>\n",
       "      <td>0</td>\n",
       "      <td>0</td>\n",
       "      <td>0</td>\n",
       "    </tr>\n",
       "  </tbody>\n",
       "</table>\n",
       "</div>"
      ],
      "text/plain": [
       "      age gender country_q3       education_q4                    role_q5  \\\n",
       "15  35-39    Man     Greece    Doctoral degree         Research Scientist   \n",
       "16  50-54    Man    Belgium  Bachelor’s degree               Data Analyst   \n",
       "25  25-29  Woman     Poland    Master’s degree  Machine Learning Engineer   \n",
       "\n",
       "   experience_q6             language_q7            sector_q20  \\\n",
       "15   10-20 years  Python, C, C++, MATLAB   Academics/Education   \n",
       "16     20+ years             Python, SQL         Energy/Mining   \n",
       "25     3-5 years             Python, C++  Computers/Technology   \n",
       "\n",
       "        company_size_q21 anual_income_q25 continent gender_def role_q5_def  \\\n",
       "15      50-249 employees    10,000-14,999    Europe        Man         NaN   \n",
       "16  1000-9,999 employees      2,000-2,999    Europe        Man         NaN   \n",
       "25        0-49 employees    25,000-29,999    Europe      Woman         NaN   \n",
       "\n",
       "   annual_incom€_q25  python  r  sql  c  c++  java  javascript  julia  swift  \\\n",
       "15       1,860-2,789       1  0    0  1    1     0           0      0      0   \n",
       "16     65,100-74,399       1  0    1  0    0     0           0      0      0   \n",
       "25     23,250-27,899       1  0    0  1    1     0           0      0      0   \n",
       "\n",
       "    bash  matlab  none  other  \n",
       "15     0       1     0      0  \n",
       "16     0       0     0      0  \n",
       "25     0       0     0      0  "
      ]
     },
     "execution_count": 17,
     "metadata": {},
     "output_type": "execute_result"
    }
   ],
   "source": [
    "df_glo_lang.head(3)"
   ]
  },
  {
   "attachments": {},
   "cell_type": "markdown",
   "metadata": {},
   "source": [
    "#### Creamos dataframe con las frecuencias de cada lenguaje de programacion por paises a nivel mundial"
   ]
  },
  {
   "cell_type": "code",
   "execution_count": 18,
   "metadata": {},
   "outputs": [
    {
     "name": "stdout",
     "output_type": "stream",
     "text": [
      "El dataframe tiene 3164 filas antes de quitar los valores nulos de la columna language_q7\n"
     ]
    }
   ],
   "source": [
    "print('El dataframe tiene', df_glo_lang.shape[0], 'filas antes de quitar los valores nulos de la columna language_q7')"
   ]
  },
  {
   "cell_type": "code",
   "execution_count": 19,
   "metadata": {},
   "outputs": [
    {
     "name": "stdout",
     "output_type": "stream",
     "text": [
      "El dataframe tiene 3072 filas, tras quitar las filas con valores nulos en la columna \"prog_lang_q7\"\n"
     ]
    }
   ],
   "source": [
    "df_glo_lang=df_glo_lang.dropna(axis=0, subset=['language_q7'])\n",
    "print('El dataframe tiene', df_glo_lang.shape[0], 'filas, tras quitar las filas con valores nulos en la columna \"prog_lang_q7\"')"
   ]
  },
  {
   "cell_type": "code",
   "execution_count": 20,
   "metadata": {},
   "outputs": [],
   "source": [
    "df_glo_lang_python=df_glo_lang[df_glo_lang['language_q7'].str.contains('Python',case=False, regex=True)]\n",
    "df_glo_lang_python_frec=df_glo_lang_python['country_q3'].value_counts().reset_index()\n",
    "df_glo_lang_python_frec.set_index('index',inplace=True)\n",
    "df_glo_lang_python_frec.rename(columns={'country_q3':'python'},inplace=True)\n",
    "\n",
    "df_glo_lang_r=df_glo_lang[df_glo_lang['language_q7'].str.contains('R',case=True, regex=True)]\n",
    "df_glo_lang_r_frec=df_glo_lang_r['country_q3'].value_counts().reset_index()\n",
    "df_glo_lang_r_frec.set_index('index',inplace=True)\n",
    "df_glo_lang_r_frec.rename(columns={'country_q3':'r'},inplace=True)\n",
    "\n",
    "df_glo_lang_sql=df_glo_lang[df_glo_lang['language_q7'].str.contains('SQL',case=True, regex=True)]\n",
    "df_glo_lang_sql_frec=df_glo_lang_sql['country_q3'].value_counts().reset_index()\n",
    "df_glo_lang_sql_frec.set_index('index',inplace=True)\n",
    "df_glo_lang_sql_frec.rename(columns={'country_q3':'sql'},inplace=True)\n",
    "\n",
    "df_glo_lang_c=df_glo_lang[df_glo_lang['language_q7'].str.contains('C',case=True, regex=True)]\n",
    "df_glo_lang_c_frec=df_glo_lang_c['country_q3'].value_counts().reset_index()\n",
    "df_glo_lang_c_frec.set_index('index',inplace=True)\n",
    "df_glo_lang_c_frec.rename(columns={'country_q3':'c'},inplace=True)\n",
    "\n",
    "df_glo_lang_ccc=df_glo_lang[df_glo_lang['language_q7'].str.contains('C\\+\\+',case=True, regex=True)]\n",
    "df_glo_lang_ccc_frec=df_glo_lang_ccc['country_q3'].value_counts().reset_index()\n",
    "df_glo_lang_ccc_frec.set_index('index',inplace=True)\n",
    "df_glo_lang_ccc_frec.rename(columns={'country_q3':'c++'},inplace=True)\n",
    "\n",
    "\n",
    "df_glo_lang_java=df_glo_lang[df_glo_lang['language_q7'].str.contains('java',case=False, regex=True)]\n",
    "df_glo_lang_java_frec=df_glo_lang_java['country_q3'].value_counts().reset_index()\n",
    "df_glo_lang_java_frec.set_index('index',inplace=True)\n",
    "df_glo_lang_java_frec.rename(columns={'country_q3':'java'},inplace=True)\n",
    "\n",
    "df_glo_lang_javascript=df_glo_lang[df_glo_lang['language_q7'].str.contains('javascript',case=False, regex=True)]\n",
    "df_glo_lang_javascript_frec=df_glo_lang_javascript['country_q3'].value_counts().reset_index()\n",
    "df_glo_lang_javascript_frec.set_index('index',inplace=True)\n",
    "df_glo_lang_javascript_frec.rename(columns={'country_q3':'javascript'},inplace=True)\n",
    "\n",
    "df_glo_lang_julia=df_glo_lang[df_glo_lang['language_q7'].str.contains('julia',case=False, regex=True)]\n",
    "df_glo_lang_julia_frec=df_glo_lang_julia['country_q3'].value_counts().reset_index()\n",
    "df_glo_lang_julia_frec.set_index('index',inplace=True)\n",
    "df_glo_lang_julia_frec.rename(columns={'country_q3':'julia'},inplace=True)\n",
    "\n",
    "df_glo_lang_swift=df_glo_lang[df_glo_lang['language_q7'].str.contains('swift',case=False, regex=True)]\n",
    "df_glo_lang_swift_frec=df_glo_lang_swift['country_q3'].value_counts().reset_index()\n",
    "df_glo_lang_swift_frec.set_index('index',inplace=True)\n",
    "df_glo_lang_swift_frec.rename(columns={'country_q3':'swift'},inplace=True)\n",
    "\n",
    "df_glo_lang_bash=df_glo_lang[df_glo_lang['language_q7'].str.contains('bash',case=False, regex=True)]\n",
    "df_glo_lang_bash_frec=df_glo_lang_bash['country_q3'].value_counts().reset_index()\n",
    "df_glo_lang_bash_frec.set_index('index',inplace=True)\n",
    "df_glo_lang_bash_frec.rename(columns={'country_q3':'bash'},inplace=True)\n",
    "\n",
    "df_glo_lang_matlab=df_glo_lang[df_glo_lang['language_q7'].str.contains('matlab',case=False, regex=True)]\n",
    "df_glo_lang_matlab_frec=df_glo_lang_matlab['country_q3'].value_counts().reset_index()\n",
    "df_glo_lang_matlab_frec.set_index('index',inplace=True)\n",
    "df_glo_lang_matlab_frec.rename(columns={'country_q3':'matlab'},inplace=True)\n",
    "\n",
    "\n",
    "df_glo_lang_none=df_glo_lang[df_glo_lang['language_q7'].str.contains('none',case=False, regex=True)]\n",
    "df_glo_lang_none_frec=df_glo_lang_none['country_q3'].value_counts().reset_index()\n",
    "df_glo_lang_none_frec.set_index('index',inplace=True)\n",
    "df_glo_lang_none_frec.rename(columns={'country_q3':'none'},inplace=True)\n",
    "\n",
    "df_glo_lang_other=df_glo_lang[df_glo_lang['language_q7'].str.contains('other',case=False, regex=True)]\n",
    "df_glo_lang_other_frec=df_glo_lang_other['country_q3'].value_counts().reset_index()\n",
    "df_glo_lang_other_frec.set_index('index',inplace=True)\n",
    "df_glo_lang_other_frec.rename(columns={'country_q3':'other'},inplace=True)"
   ]
  },
  {
   "cell_type": "code",
   "execution_count": 21,
   "metadata": {},
   "outputs": [
    {
     "data": {
      "text/html": [
       "<div>\n",
       "<style scoped>\n",
       "    .dataframe tbody tr th:only-of-type {\n",
       "        vertical-align: middle;\n",
       "    }\n",
       "\n",
       "    .dataframe tbody tr th {\n",
       "        vertical-align: top;\n",
       "    }\n",
       "\n",
       "    .dataframe thead th {\n",
       "        text-align: right;\n",
       "    }\n",
       "</style>\n",
       "<table border=\"1\" class=\"dataframe\">\n",
       "  <thead>\n",
       "    <tr style=\"text-align: right;\">\n",
       "      <th></th>\n",
       "      <th>python</th>\n",
       "      <th>r</th>\n",
       "      <th>sql</th>\n",
       "      <th>c</th>\n",
       "      <th>c++</th>\n",
       "      <th>java</th>\n",
       "      <th>javascript</th>\n",
       "      <th>julia</th>\n",
       "      <th>swift</th>\n",
       "      <th>bash</th>\n",
       "      <th>matlab</th>\n",
       "      <th>none</th>\n",
       "      <th>other</th>\n",
       "    </tr>\n",
       "    <tr>\n",
       "      <th>index</th>\n",
       "      <th></th>\n",
       "      <th></th>\n",
       "      <th></th>\n",
       "      <th></th>\n",
       "      <th></th>\n",
       "      <th></th>\n",
       "      <th></th>\n",
       "      <th></th>\n",
       "      <th></th>\n",
       "      <th></th>\n",
       "      <th></th>\n",
       "      <th></th>\n",
       "      <th></th>\n",
       "    </tr>\n",
       "  </thead>\n",
       "  <tbody>\n",
       "    <tr>\n",
       "      <th>Russia</th>\n",
       "      <td>465</td>\n",
       "      <td>43</td>\n",
       "      <td>245</td>\n",
       "      <td>118</td>\n",
       "      <td>105</td>\n",
       "      <td>82</td>\n",
       "      <td>55</td>\n",
       "      <td>3.0</td>\n",
       "      <td>5.0</td>\n",
       "      <td>64</td>\n",
       "      <td>46</td>\n",
       "      <td>4.0</td>\n",
       "      <td>75</td>\n",
       "    </tr>\n",
       "    <tr>\n",
       "      <th>United Kingdom of Great Britain and Northern Ireland</th>\n",
       "      <td>315</td>\n",
       "      <td>82</td>\n",
       "      <td>190</td>\n",
       "      <td>42</td>\n",
       "      <td>35</td>\n",
       "      <td>79</td>\n",
       "      <td>55</td>\n",
       "      <td>4.0</td>\n",
       "      <td>3.0</td>\n",
       "      <td>62</td>\n",
       "      <td>24</td>\n",
       "      <td>3.0</td>\n",
       "      <td>61</td>\n",
       "    </tr>\n",
       "    <tr>\n",
       "      <th>Spain</th>\n",
       "      <td>297</td>\n",
       "      <td>107</td>\n",
       "      <td>179</td>\n",
       "      <td>69</td>\n",
       "      <td>47</td>\n",
       "      <td>98</td>\n",
       "      <td>60</td>\n",
       "      <td>6.0</td>\n",
       "      <td>5.0</td>\n",
       "      <td>62</td>\n",
       "      <td>41</td>\n",
       "      <td>5.0</td>\n",
       "      <td>55</td>\n",
       "    </tr>\n",
       "  </tbody>\n",
       "</table>\n",
       "</div>"
      ],
      "text/plain": [
       "                                                    python    r  sql    c  \\\n",
       "index                                                                       \n",
       "Russia                                                 465   43  245  118   \n",
       "United Kingdom of Great Britain and Northern Ir...     315   82  190   42   \n",
       "Spain                                                  297  107  179   69   \n",
       "\n",
       "                                                    c++  java  javascript  \\\n",
       "index                                                                       \n",
       "Russia                                              105    82          55   \n",
       "United Kingdom of Great Britain and Northern Ir...   35    79          55   \n",
       "Spain                                                47    98          60   \n",
       "\n",
       "                                                    julia  swift  bash  \\\n",
       "index                                                                    \n",
       "Russia                                                3.0    5.0    64   \n",
       "United Kingdom of Great Britain and Northern Ir...    4.0    3.0    62   \n",
       "Spain                                                 6.0    5.0    62   \n",
       "\n",
       "                                                    matlab  none  other  \n",
       "index                                                                    \n",
       "Russia                                                  46   4.0     75  \n",
       "United Kingdom of Great Britain and Northern Ir...      24   3.0     61  \n",
       "Spain                                                   41   5.0     55  "
      ]
     },
     "execution_count": 21,
     "metadata": {},
     "output_type": "execute_result"
    }
   ],
   "source": [
    "df_glo_lang_concat=pd.concat([df_glo_lang_python_frec, df_glo_lang_r_frec,df_glo_lang_sql_frec,df_glo_lang_c_frec,df_glo_lang_ccc_frec,df_glo_lang_java_frec,df_glo_lang_javascript_frec,df_glo_lang_julia_frec,df_glo_lang_swift_frec,df_glo_lang_bash_frec,df_glo_lang_matlab_frec,df_glo_lang_none_frec,df_glo_lang_other_frec], ignore_index=True,axis=1)\n",
    "df_glo_lang_concat.rename(columns={0:'python',1:'r',2:'sql',3:'c',4:'c++',5:'java',6:'javascript',7:'julia',8:'swift',9:'bash',10:'matlab',11:'none',12:'other'},inplace=True)\n",
    "df_glo_lang_concat.head(3)"
   ]
  },
  {
   "cell_type": "code",
   "execution_count": 22,
   "metadata": {},
   "outputs": [
    {
     "data": {
      "text/plain": [
       "Index(['age', 'gender', 'country_q3', 'education_q4', 'role_q5',\n",
       "       'experience_q6', 'language_q7', 'sector_q20', 'company_size_q21',\n",
       "       'anual_income_q25', 'continent', 'gender_def', 'role_q5_def',\n",
       "       'annual_incom€_q25', 'python', 'r', 'sql', 'c', 'c++', 'java',\n",
       "       'javascript', 'julia', 'swift', 'bash', 'matlab', 'none', 'other'],\n",
       "      dtype='object')"
      ]
     },
     "execution_count": 22,
     "metadata": {},
     "output_type": "execute_result"
    }
   ],
   "source": [
    "df_glo_lang_python.columns"
   ]
  },
  {
   "cell_type": "code",
   "execution_count": 23,
   "metadata": {},
   "outputs": [
    {
     "name": "stdout",
     "output_type": "stream",
     "text": [
      "2681 casos Python es utilizado por las personas que han contestado el cuestionario\n",
      "698 casos R es utilizado por las personas que han contestado el cuestionario\n",
      "1487 casos SQL es utilizado por las personas que han contestado el cuestionario\n",
      "577 casos C es utilizado por las personas que han contestado el cuestionario\n",
      "462 casos C++ es utilizado por las personas que han contestado el cuestionario\n",
      "712 casos Java es utilizado por las personas que han contestado el cuestionario\n",
      "460 casos Javascript es utilizado por las personas que han contestado el cuestionario\n",
      "56 casos Julia es utilizado por las personas que han contestado el cuestionario\n",
      "47 casos Swift es utilizado por las personas que han contestado el cuestionario\n",
      "529 casos Bash es utilizado por las personas que han contestado el cuestionario\n",
      "282 casos MATLAB es utilizado por las personas que han contestado el cuestionario\n",
      "38 de las personas que han contestado el cuestionario utilizan no ningun lenguaje de programacion\n",
      "498 de las personas que han contestado el cuestionario utilizan otro lenguaje de programacion distinto a los que aparcen en el cuestionario\n"
     ]
    }
   ],
   "source": [
    "#Como tenemos el cuestionario, vemos que las personas que han respondido el cuestionario solo tienen 13 posibles palabras, asique vamos a contar cuantas veces aparece cada palabra.\n",
    "print(df_glo_lang_python.shape[0], 'casos Python es utilizado por las personas que han contestado el cuestionario')\n",
    "print(df_glo_lang_r.shape[0], 'casos R es utilizado por las personas que han contestado el cuestionario')\n",
    "print(df_glo_lang_sql.shape[0], 'casos SQL es utilizado por las personas que han contestado el cuestionario')\n",
    "print(df_glo_lang_c.shape[0], 'casos C es utilizado por las personas que han contestado el cuestionario')\n",
    "print(df_glo_lang_ccc.shape[0], 'casos C++ es utilizado por las personas que han contestado el cuestionario')\n",
    "print(df_glo_lang_java.shape[0], 'casos Java es utilizado por las personas que han contestado el cuestionario')\n",
    "print(df_glo_lang_javascript.shape[0], 'casos Javascript es utilizado por las personas que han contestado el cuestionario')\n",
    "print(df_glo_lang_julia.shape[0], 'casos Julia es utilizado por las personas que han contestado el cuestionario')\n",
    "print(df_glo_lang_swift.shape[0], 'casos Swift es utilizado por las personas que han contestado el cuestionario')\n",
    "print(df_glo_lang_bash.shape[0], 'casos Bash es utilizado por las personas que han contestado el cuestionario')\n",
    "print(df_glo_lang_matlab.shape[0], 'casos MATLAB es utilizado por las personas que han contestado el cuestionario')\n",
    "\n",
    "print(df_glo_lang_none.shape[0], 'de las personas que han contestado el cuestionario utilizan no ningun lenguaje de programacion')\n",
    "print( df_glo_lang_other.shape[0], 'de las personas que han contestado el cuestionario utilizan otro lenguaje de programacion distinto a los que aparcen en el cuestionario')"
   ]
  },
  {
   "cell_type": "code",
   "execution_count": 24,
   "metadata": {},
   "outputs": [
    {
     "data": {
      "text/html": [
       "<div>\n",
       "<style scoped>\n",
       "    .dataframe tbody tr th:only-of-type {\n",
       "        vertical-align: middle;\n",
       "    }\n",
       "\n",
       "    .dataframe tbody tr th {\n",
       "        vertical-align: top;\n",
       "    }\n",
       "\n",
       "    .dataframe thead th {\n",
       "        text-align: right;\n",
       "    }\n",
       "</style>\n",
       "<table border=\"1\" class=\"dataframe\">\n",
       "  <thead>\n",
       "    <tr style=\"text-align: right;\">\n",
       "      <th></th>\n",
       "      <th>index</th>\n",
       "      <th>frequency</th>\n",
       "    </tr>\n",
       "  </thead>\n",
       "  <tbody>\n",
       "    <tr>\n",
       "      <th>0</th>\n",
       "      <td>Python</td>\n",
       "      <td>12991</td>\n",
       "    </tr>\n",
       "    <tr>\n",
       "      <th>1</th>\n",
       "      <td>R</td>\n",
       "      <td>3525</td>\n",
       "    </tr>\n",
       "    <tr>\n",
       "      <th>2</th>\n",
       "      <td>SQL</td>\n",
       "      <td>7374</td>\n",
       "    </tr>\n",
       "    <tr>\n",
       "      <th>3</th>\n",
       "      <td>C</td>\n",
       "      <td>3491</td>\n",
       "    </tr>\n",
       "    <tr>\n",
       "      <th>4</th>\n",
       "      <td>C++</td>\n",
       "      <td>2619</td>\n",
       "    </tr>\n",
       "    <tr>\n",
       "      <th>5</th>\n",
       "      <td>Java</td>\n",
       "      <td>4222</td>\n",
       "    </tr>\n",
       "    <tr>\n",
       "      <th>6</th>\n",
       "      <td>Javascript</td>\n",
       "      <td>2675</td>\n",
       "    </tr>\n",
       "    <tr>\n",
       "      <th>7</th>\n",
       "      <td>Julia</td>\n",
       "      <td>200</td>\n",
       "    </tr>\n",
       "    <tr>\n",
       "      <th>8</th>\n",
       "      <td>Swift</td>\n",
       "      <td>173</td>\n",
       "    </tr>\n",
       "    <tr>\n",
       "      <th>9</th>\n",
       "      <td>Bash</td>\n",
       "      <td>1675</td>\n",
       "    </tr>\n",
       "    <tr>\n",
       "      <th>10</th>\n",
       "      <td>MATLAB</td>\n",
       "      <td>1628</td>\n",
       "    </tr>\n",
       "    <tr>\n",
       "      <th>11</th>\n",
       "      <td>None</td>\n",
       "      <td>195</td>\n",
       "    </tr>\n",
       "    <tr>\n",
       "      <th>12</th>\n",
       "      <td>Other</td>\n",
       "      <td>1947</td>\n",
       "    </tr>\n",
       "  </tbody>\n",
       "</table>\n",
       "</div>"
      ],
      "text/plain": [
       "         index  frequency\n",
       "0       Python      12991\n",
       "1            R       3525\n",
       "2          SQL       7374\n",
       "3            C       3491\n",
       "4          C++       2619\n",
       "5         Java       4222\n",
       "6   Javascript       2675\n",
       "7        Julia        200\n",
       "8        Swift        173\n",
       "9         Bash       1675\n",
       "10      MATLAB       1628\n",
       "11        None        195\n",
       "12       Other       1947"
      ]
     },
     "execution_count": 24,
     "metadata": {},
     "output_type": "execute_result"
    }
   ],
   "source": [
    "#Vamos a crear un diccionario con cada lenguaje de programacion y su frecuencia.\n",
    "dic_lang={'Python': 12991,'R':3525,'SQL':7374,'C':3491,'C++':2619,'Java':4222,'Javascript':2675,'Julia':200,'Swift':173,'Bash':1675,'MATLAB':1628,'None':195,'Other':1947}\n",
    "languages_1=pd.Series(dic_lang)\n",
    "languages_2=languages_1.reset_index()\n",
    "languages_2.rename(columns={0:'frequency'},inplace=True)\n",
    "languages_2"
   ]
  },
  {
   "cell_type": "code",
   "execution_count": 10,
   "metadata": {},
   "outputs": [
    {
     "ename": "NameError",
     "evalue": "name 'languages_2' is not defined",
     "output_type": "error",
     "traceback": [
      "\u001b[0;31m---------------------------------------------------------------------------\u001b[0m",
      "\u001b[0;31mNameError\u001b[0m                                 Traceback (most recent call last)",
      "\u001b[0;32m/tmp/ipykernel_17502/1632979953.py\u001b[0m in \u001b[0;36m<module>\u001b[0;34m\u001b[0m\n\u001b[1;32m      1\u001b[0m \u001b[0;31m#Observamos la frecuencia de cada lenguaje de programacion.\u001b[0m\u001b[0;34m\u001b[0m\u001b[0;34m\u001b[0m\u001b[0m\n\u001b[1;32m      2\u001b[0m \u001b[0mplt\u001b[0m\u001b[0;34m.\u001b[0m\u001b[0mfigure\u001b[0m\u001b[0;34m(\u001b[0m\u001b[0mfigsize\u001b[0m\u001b[0;34m=\u001b[0m\u001b[0;34m(\u001b[0m\u001b[0;36m12\u001b[0m\u001b[0;34m,\u001b[0m\u001b[0;36m7\u001b[0m\u001b[0;34m)\u001b[0m\u001b[0;34m)\u001b[0m\u001b[0;34m\u001b[0m\u001b[0;34m\u001b[0m\u001b[0m\n\u001b[0;32m----> 3\u001b[0;31m \u001b[0mplt\u001b[0m\u001b[0;34m.\u001b[0m\u001b[0mbar\u001b[0m\u001b[0;34m(\u001b[0m\u001b[0mlanguages_2\u001b[0m\u001b[0;34m[\u001b[0m\u001b[0;34m'index'\u001b[0m\u001b[0;34m]\u001b[0m\u001b[0;34m,\u001b[0m\u001b[0mlanguages_2\u001b[0m\u001b[0;34m[\u001b[0m\u001b[0;34m'frequency'\u001b[0m\u001b[0;34m]\u001b[0m\u001b[0;34m,\u001b[0m\u001b[0mpalette\u001b[0m\u001b[0;34m=\u001b[0m\u001b[0;34m\"dark:#5A9_r\"\u001b[0m\u001b[0;34m)\u001b[0m\u001b[0;34m\u001b[0m\u001b[0;34m\u001b[0m\u001b[0m\n\u001b[0m\u001b[1;32m      4\u001b[0m \u001b[0mplt\u001b[0m\u001b[0;34m.\u001b[0m\u001b[0mtitle\u001b[0m\u001b[0;34m(\u001b[0m\u001b[0;34m'Programming Language Histogram'\u001b[0m\u001b[0;34m)\u001b[0m\u001b[0;34m\u001b[0m\u001b[0;34m\u001b[0m\u001b[0m\n\u001b[1;32m      5\u001b[0m \u001b[0mplt\u001b[0m\u001b[0;34m.\u001b[0m\u001b[0mxlabel\u001b[0m\u001b[0;34m(\u001b[0m\u001b[0;34m'Programming Languages'\u001b[0m\u001b[0;34m)\u001b[0m\u001b[0;34m\u001b[0m\u001b[0;34m\u001b[0m\u001b[0m\n",
      "\u001b[0;31mNameError\u001b[0m: name 'languages_2' is not defined"
     ]
    },
    {
     "data": {
      "text/plain": [
       "<Figure size 864x504 with 0 Axes>"
      ]
     },
     "metadata": {},
     "output_type": "display_data"
    }
   ],
   "source": [
    "#Observamos la frecuencia de cada lenguaje de programacion.\n",
    "plt.figure(figsize=(12,7))\n",
    "plt.bar(languages_2['index'],languages_2['frequency'])\n",
    "plt.title('Programming Language Histogram')\n",
    "plt.xlabel('Programming Languages')\n",
    "plt.ylabel('Number of surveyed people using it')\n",
    "  \n",
    "plt.show()"
   ]
  },
  {
   "cell_type": "code",
   "execution_count": 26,
   "metadata": {},
   "outputs": [],
   "source": [
    "w_python='Python '*12991\n",
    "w_r='R '*3525\n",
    "w_sql='SQL '*7374\n",
    "w_c='C '*3491\n",
    "w_ccc='C++ '*2619\n",
    "w_java='Java '*4222\n",
    "w_javascript='Javascript '*2675\n",
    "w_julia='Julia '*200\n",
    "w_swift='Swift '*173\n",
    "w_bash='Bash '*1675\n",
    "w_matlab='MATLAB '*1628\n",
    "w_none='None '*195\n",
    "w_other='Other '*1947\n",
    "# Creamos el string con las palabras repitiendolas el numero de veces que estan registradas en el dataframe.\n",
    "text2=(w_python+w_r+w_sql+w_c+w_ccc+w_java+w_javascript+w_julia+w_swift+w_bash+w_matlab+w_none+w_other)"
   ]
  },
  {
   "cell_type": "code",
   "execution_count": 27,
   "metadata": {},
   "outputs": [
    {
     "data": {
      "image/png": "[encoded data removed]",
      "text/plain": [
       "<Figure size 1080x1080 with 1 Axes>"
      ]
     },
     "metadata": {
      "needs_background": "light"
     },
     "output_type": "display_data"
    }
   ],
   "source": [
    "plt.figure(figsize =(15,15))\n",
    "wordcloud = WordCloud(width=500, height=500, margin=0,relative_scaling=0.5,collocations=False,background_color=\"blue\",color_func=lambda *args, **kwargs: \"yellow\").generate(text2)\n",
    "# Display the generated image:\n",
    "plt.imshow(wordcloud, interpolation='bilinear')\n",
    "plt.axis(\"off\")\n",
    "plt.margins(x=0, y=0)\n",
    "plt.savefig('../graphs/ue_language_cloud.png')\n",
    "plt.show()"
   ]
  }
 ],
 "metadata": {
  "kernelspec": {
   "display_name": "base",
   "language": "python",
   "name": "python3"
  },
  "language_info": {
   "codemirror_mode": {
    "name": "ipython",
    "version": 3
   },
   "file_extension": ".py",
   "mimetype": "text/x-python",
   "name": "python",
   "nbconvert_exporter": "python",
   "pygments_lexer": "ipython3",
   "version": "3.9.7"
  },
  "orig_nbformat": 4,
  "vscode": {
   "interpreter": {
    "hash": "468215beec16e96f99bc366ecab75b1d75db716e353e0417cbdb37be88f0d883"
   }
  }
 },
 "nbformat": 4,
 "nbformat_minor": 2
}
