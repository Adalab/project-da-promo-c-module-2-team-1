{
 "cells": [
  {
   "attachments": {},
   "cell_type": "markdown",
   "metadata": {},
   "source": [
    "# Sonia\n",
    "Columna a describir: __Pais (Q3)__\n",
    "\n",
    "Pregunta a responder: __¿Cuál es el lenguaje de programación más utilizado (Q7)?__"
   ]
  },
  {
   "attachments": {},
   "cell_type": "markdown",
   "metadata": {},
   "source": [
    "## Codigo limpio"
   ]
  },
  {
   "attachments": {},
   "cell_type": "markdown",
   "metadata": {},
   "source": [
    "### Librerias necesarias"
   ]
  },
  {
   "cell_type": "code",
   "execution_count": 2,
   "metadata": {},
   "outputs": [],
   "source": [
    "# importamos las librerias necesarias para la utilizacion de sus metodos\n",
    "import pandas as pd\n",
    "import numpy as np\n",
    "import seaborn as sns\n",
    "import matplotlib.pyplot as plt\n",
    "from scipy.stats import skew\n",
    "import pycountry_convert as pc   # para crear la columna de continente\n",
    "from wordcloud import WordCloud   # para la nube de palabras\n",
    "\n",
    "pd.options.display.max_columns=None\n",
    "pd.options.display.max_rows=None"
   ]
  },
  {
   "attachments": {},
   "cell_type": "markdown",
   "metadata": {},
   "source": [
    "### Funcion para limpiar columna pais y sacar solo los continentes"
   ]
  },
  {
   "cell_type": "code",
   "execution_count": 3,
   "metadata": {},
   "outputs": [],
   "source": [
    "def country_to_continent(country_name):\n",
    "    try:\n",
    "        country_alpha2 = pc.country_name_to_country_alpha2(country_name)\n",
    "        country_continent_code = pc.country_alpha2_to_continent_code(country_alpha2)\n",
    "        country_continent_name = pc.convert_continent_code_to_continent_name(country_continent_code)\n",
    "        return country_continent_name\n",
    "    except:\n",
    "        return country_name"
   ]
  },
  {
   "attachments": {},
   "cell_type": "markdown",
   "metadata": {},
   "source": [
    "### Importamos dataframe Mundial a utilizar creado 14-01-2023"
   ]
  },
  {
   "cell_type": "code",
   "execution_count": 4,
   "metadata": {},
   "outputs": [
    {
     "data": {
      "text/html": [
       "<div>\n",
       "<style scoped>\n",
       "    .dataframe tbody tr th:only-of-type {\n",
       "        vertical-align: middle;\n",
       "    }\n",
       "\n",
       "    .dataframe tbody tr th {\n",
       "        vertical-align: top;\n",
       "    }\n",
       "\n",
       "    .dataframe thead th {\n",
       "        text-align: right;\n",
       "    }\n",
       "</style>\n",
       "<table border=\"1\" class=\"dataframe\">\n",
       "  <thead>\n",
       "    <tr style=\"text-align: right;\">\n",
       "      <th></th>\n",
       "      <th>age</th>\n",
       "      <th>gender</th>\n",
       "      <th>country_q3</th>\n",
       "      <th>education_q4</th>\n",
       "      <th>role_q5</th>\n",
       "      <th>experience_q6</th>\n",
       "      <th>language_q7</th>\n",
       "      <th>sector_q20</th>\n",
       "      <th>company_size_q21</th>\n",
       "      <th>anual_income_q25</th>\n",
       "      <th>continent</th>\n",
       "      <th>gender_def</th>\n",
       "      <th>role_q5_def</th>\n",
       "      <th>annual_incom€_q25</th>\n",
       "    </tr>\n",
       "  </thead>\n",
       "  <tbody>\n",
       "    <tr>\n",
       "      <th>0</th>\n",
       "      <td>50-54</td>\n",
       "      <td>Man</td>\n",
       "      <td>India</td>\n",
       "      <td>Bachelor’s degree</td>\n",
       "      <td>Other</td>\n",
       "      <td>5-10 years</td>\n",
       "      <td>Python, R</td>\n",
       "      <td>Manufacturing/Fabrication</td>\n",
       "      <td>50-249 employees</td>\n",
       "      <td>25,000-29,999</td>\n",
       "      <td>Asia</td>\n",
       "      <td>Man</td>\n",
       "      <td>NaN</td>\n",
       "      <td>23,250-27,899</td>\n",
       "    </tr>\n",
       "    <tr>\n",
       "      <th>1</th>\n",
       "      <td>50-54</td>\n",
       "      <td>Man</td>\n",
       "      <td>Indonesia</td>\n",
       "      <td>Master’s degree</td>\n",
       "      <td>Program/Project Manager</td>\n",
       "      <td>20+ years</td>\n",
       "      <td>SQL, C, C++, Java</td>\n",
       "      <td>Manufacturing/Fabrication</td>\n",
       "      <td>1000-9,999 employees</td>\n",
       "      <td>60,000-69,999</td>\n",
       "      <td>Asia</td>\n",
       "      <td>Man</td>\n",
       "      <td>Supervising role</td>\n",
       "      <td>55,800-65,099</td>\n",
       "    </tr>\n",
       "    <tr>\n",
       "      <th>2</th>\n",
       "      <td>22-24</td>\n",
       "      <td>Man</td>\n",
       "      <td>Pakistan</td>\n",
       "      <td>Master’s degree</td>\n",
       "      <td>Software Engineer</td>\n",
       "      <td>1-3 years</td>\n",
       "      <td>Python, C++, Java</td>\n",
       "      <td>Academics/Education</td>\n",
       "      <td>1000-9,999 employees</td>\n",
       "      <td>0-999</td>\n",
       "      <td>Asia</td>\n",
       "      <td>Man</td>\n",
       "      <td>Sofware-related role</td>\n",
       "      <td>0-929,07</td>\n",
       "    </tr>\n",
       "  </tbody>\n",
       "</table>\n",
       "</div>"
      ],
      "text/plain": [
       "     age gender country_q3       education_q4                  role_q5  \\\n",
       "0  50-54    Man      India  Bachelor’s degree                    Other   \n",
       "1  50-54    Man  Indonesia    Master’s degree  Program/Project Manager   \n",
       "2  22-24    Man   Pakistan    Master’s degree        Software Engineer   \n",
       "\n",
       "  experience_q6         language_q7                 sector_q20  \\\n",
       "0    5-10 years           Python, R  Manufacturing/Fabrication   \n",
       "1     20+ years   SQL, C, C++, Java  Manufacturing/Fabrication   \n",
       "2     1-3 years   Python, C++, Java        Academics/Education   \n",
       "\n",
       "       company_size_q21 anual_income_q25 continent gender_def  \\\n",
       "0      50-249 employees    25,000-29,999      Asia        Man   \n",
       "1  1000-9,999 employees    60,000-69,999      Asia        Man   \n",
       "2  1000-9,999 employees            0-999      Asia        Man   \n",
       "\n",
       "            role_q5_def annual_incom€_q25  \n",
       "0                   NaN     23,250-27,899  \n",
       "1      Supervising role     55,800-65,099  \n",
       "2  Sofware-related role          0-929,07  "
      ]
     },
     "execution_count": 4,
     "metadata": {},
     "output_type": "execute_result"
    }
   ],
   "source": [
    "df_glo=pd.read_csv('../files/df_depurado.csv',index_col=0)\n",
    "df_glo.head(3)"
   ]
  },
  {
   "cell_type": "code",
   "execution_count": 5,
   "metadata": {},
   "outputs": [
    {
     "data": {
      "text/plain": [
       "(16038, 14)"
      ]
     },
     "execution_count": 5,
     "metadata": {},
     "output_type": "execute_result"
    }
   ],
   "source": [
    "df_glo.shape"
   ]
  },
  {
   "cell_type": "code",
   "execution_count": 6,
   "metadata": {},
   "outputs": [
    {
     "data": {
      "text/html": [
       "<div>\n",
       "<style scoped>\n",
       "    .dataframe tbody tr th:only-of-type {\n",
       "        vertical-align: middle;\n",
       "    }\n",
       "\n",
       "    .dataframe tbody tr th {\n",
       "        vertical-align: top;\n",
       "    }\n",
       "\n",
       "    .dataframe thead th {\n",
       "        text-align: right;\n",
       "    }\n",
       "</style>\n",
       "<table border=\"1\" class=\"dataframe\">\n",
       "  <thead>\n",
       "    <tr style=\"text-align: right;\">\n",
       "      <th></th>\n",
       "      <th>continent</th>\n",
       "    </tr>\n",
       "  </thead>\n",
       "  <tbody>\n",
       "    <tr>\n",
       "      <th>Asia</th>\n",
       "      <td>7158</td>\n",
       "    </tr>\n",
       "    <tr>\n",
       "      <th>Europe</th>\n",
       "      <td>3164</td>\n",
       "    </tr>\n",
       "    <tr>\n",
       "      <th>North America</th>\n",
       "      <td>2315</td>\n",
       "    </tr>\n",
       "    <tr>\n",
       "      <th>Africa</th>\n",
       "      <td>1260</td>\n",
       "    </tr>\n",
       "    <tr>\n",
       "      <th>South America</th>\n",
       "      <td>1066</td>\n",
       "    </tr>\n",
       "    <tr>\n",
       "      <th>Other</th>\n",
       "      <td>852</td>\n",
       "    </tr>\n",
       "    <tr>\n",
       "      <th>Oceania</th>\n",
       "      <td>201</td>\n",
       "    </tr>\n",
       "    <tr>\n",
       "      <th>I do not wish to disclose my location</th>\n",
       "      <td>22</td>\n",
       "    </tr>\n",
       "  </tbody>\n",
       "</table>\n",
       "</div>"
      ],
      "text/plain": [
       "                                       continent\n",
       "Asia                                        7158\n",
       "Europe                                      3164\n",
       "North America                               2315\n",
       "Africa                                      1260\n",
       "South America                               1066\n",
       "Other                                        852\n",
       "Oceania                                      201\n",
       "I do not wish to disclose my location         22"
      ]
     },
     "execution_count": 6,
     "metadata": {},
     "output_type": "execute_result"
    }
   ],
   "source": [
    "df_continent_frec=pd.DataFrame(df_glo['continent'].value_counts())\n",
    "df_continent_frec"
   ]
  },
  {
   "cell_type": "code",
   "execution_count": 7,
   "metadata": {},
   "outputs": [
    {
     "data": {
      "image/png": "[encoded data removed]",
      "text/plain": [
       "<Figure size 432x216 with 1 Axes>"
      ]
     },
     "metadata": {},
     "output_type": "display_data"
    }
   ],
   "source": [
    "fig, ax = plt.subplots(figsize=(6, 3), subplot_kw=dict(aspect=\"equal\"))\n",
    "\n",
    "continent_frec=[13126,4273,3197,2044,1424,1293,261]\n",
    "continent_labels=['Asia','Europe','North America','Africa','South America','Unknown','Oceania']\n",
    "\n",
    "recipe = continent_labels\n",
    "data = continent_frec\n",
    "\n",
    "wedges, texts = ax.pie(data, wedgeprops=dict(width=0.5), startangle=-40,colors=['yellow','blue','red','brown','green','grey','orange'])\n",
    "\n",
    "bbox_props = dict(boxstyle=\"square,pad=0.3\", fc=\"w\", ec=\"k\", lw=0.72)\n",
    "kw = dict(arrowprops=dict(arrowstyle=\"-\"),\n",
    "          bbox=bbox_props, zorder=0, va=\"center\")\n",
    "\n",
    "for i, p in enumerate(wedges):\n",
    "    ang = (p.theta2 - p.theta1)/2. + p.theta1\n",
    "    y = np.sin(np.deg2rad(ang))\n",
    "    x = np.cos(np.deg2rad(ang))\n",
    "    horizontalalignment = {-1: \"right\", 1: \"left\"}[int(np.sign(x))]\n",
    "    connectionstyle = \"angle,angleA=0,angleB={}\".format(ang)\n",
    "    kw[\"arrowprops\"].update({\"connectionstyle\": connectionstyle})\n",
    "    ax.annotate(recipe[i], xy=(x, y), xytext=(1.35*np.sign(x), 1.4*y),\n",
    "                horizontalalignment=horizontalalignment, **kw)\n",
    "\n",
    "ax.set_title(\"Continent distribution\")\n",
    "plt.savefig('../graphs/continent_donut.png')\n",
    "plt.show()\n",
    "#He intentado poner los porcentajes tambien pero desaparecian las etiquetas. Podria seguir investigando."
   ]
  },
  {
   "cell_type": "code",
   "execution_count": 10,
   "metadata": {},
   "outputs": [
    {
     "data": {
      "image/png": "[encoded data removed]",
      "text/plain": [
       "<Figure size 432x288 with 1 Axes>"
      ]
     },
     "metadata": {},
     "output_type": "display_data"
    }
   ],
   "source": [
    "plt.figure()\n",
    "plt.pie(df_continent_frec['continent'],labels=df_continent_frec.index, labeldistance=1.2, explode=(0.3,0.3,0.3,0.3,0.3,0.3,0.3,0.3,),textprops={'fontsize': 12},autopct='%1.1f%%',colors=['yellow','blue','red','brown','green','grey','orange'])\n",
    "plt.savefig('../graphs/continent_pie_sep.png')\n",
    "plt.show()"
   ]
  },
  {
   "attachments": {},
   "cell_type": "markdown",
   "metadata": {},
   "source": [
    "### Creacion nube palabras lenguaje programacion más utilizado"
   ]
  },
  {
   "cell_type": "code",
   "execution_count": 8,
   "metadata": {},
   "outputs": [
    {
     "data": {
      "text/plain": [
       "Index(['age', 'gender', 'country_q3', 'education_q4', 'role_q5',\n",
       "       'experience_q6', 'language_q7', 'sector_q20', 'company_size_q21',\n",
       "       'anual_income_q25', 'continent', 'gender_def', 'role_q5_def',\n",
       "       'annual_incom€_q25'],\n",
       "      dtype='object')"
      ]
     },
     "execution_count": 8,
     "metadata": {},
     "output_type": "execute_result"
    }
   ],
   "source": [
    "df_glo.columns"
   ]
  },
  {
   "cell_type": "code",
   "execution_count": 9,
   "metadata": {},
   "outputs": [],
   "source": [
    "df_glo_lang=df_glo.copy()"
   ]
  },
  {
   "attachments": {},
   "cell_type": "markdown",
   "metadata": {},
   "source": [
    "#### Creamos dataframe con una columna para cada lenguaje de programacion"
   ]
  },
  {
   "cell_type": "code",
   "execution_count": 10,
   "metadata": {},
   "outputs": [],
   "source": [
    "df_glo_lang['python']=np.where(df_glo_lang['language_q7'].str.contains('Python',case=False, regex=True),1,0)\n",
    "df_glo_lang['r']=np.where(df_glo_lang['language_q7'].str.contains('R',case=False, regex=True),1,0)\n",
    "df_glo_lang['sql']=np.where(df_glo_lang['language_q7'].str.contains('SQL',case=False, regex=True),1,0)\n",
    "df_glo_lang['c']=np.where(df_glo_lang['language_q7'].str.contains('C',case=False, regex=True),1,0)\n",
    "df_glo_lang['c++']=np.where(df_glo_lang['language_q7'].str.contains('C\\+\\+',case=False, regex=True),1,0)\n",
    "df_glo_lang['java']=np.where(df_glo_lang['language_q7'].str.contains('java',case=False, regex=True),1,0)\n",
    "df_glo_lang['javascript']=np.where(df_glo_lang['language_q7'].str.contains('javascript',case=False, regex=True),1,0)\n",
    "df_glo_lang['julia']=np.where(df_glo_lang['language_q7'].str.contains('julia',case=False, regex=True),1,0)\n",
    "df_glo_lang['swift']=np.where(df_glo_lang['language_q7'].str.contains('swift',case=False, regex=True),1,0)\n",
    "df_glo_lang['bash']=np.where(df_glo_lang['language_q7'].str.contains('bash',case=False, regex=True),1,0)\n",
    "df_glo_lang['matlab']=np.where(df_glo_lang['language_q7'].str.contains('matlab',case=False, regex=True),1,0)\n",
    "df_glo_lang['none']=np.where(df_glo_lang['language_q7'].str.contains('none',case=False, regex=True),1,0)\n",
    "df_glo_lang['other']=np.where(df_glo_lang['language_q7'].str.contains('other',case=False, regex=True),1,0)\n",
    "\n"
   ]
  },
  {
   "cell_type": "code",
   "execution_count": 11,
   "metadata": {},
   "outputs": [
    {
     "data": {
      "text/html": [
       "<div>\n",
       "<style scoped>\n",
       "    .dataframe tbody tr th:only-of-type {\n",
       "        vertical-align: middle;\n",
       "    }\n",
       "\n",
       "    .dataframe tbody tr th {\n",
       "        vertical-align: top;\n",
       "    }\n",
       "\n",
       "    .dataframe thead th {\n",
       "        text-align: right;\n",
       "    }\n",
       "</style>\n",
       "<table border=\"1\" class=\"dataframe\">\n",
       "  <thead>\n",
       "    <tr style=\"text-align: right;\">\n",
       "      <th></th>\n",
       "      <th>age</th>\n",
       "      <th>gender</th>\n",
       "      <th>country_q3</th>\n",
       "      <th>education_q4</th>\n",
       "      <th>role_q5</th>\n",
       "      <th>experience_q6</th>\n",
       "      <th>language_q7</th>\n",
       "      <th>sector_q20</th>\n",
       "      <th>company_size_q21</th>\n",
       "      <th>anual_income_q25</th>\n",
       "      <th>continent</th>\n",
       "      <th>gender_def</th>\n",
       "      <th>role_q5_def</th>\n",
       "      <th>annual_incom€_q25</th>\n",
       "      <th>python</th>\n",
       "      <th>r</th>\n",
       "      <th>sql</th>\n",
       "      <th>c</th>\n",
       "      <th>c++</th>\n",
       "      <th>java</th>\n",
       "      <th>javascript</th>\n",
       "      <th>julia</th>\n",
       "      <th>swift</th>\n",
       "      <th>bash</th>\n",
       "      <th>matlab</th>\n",
       "      <th>none</th>\n",
       "      <th>other</th>\n",
       "    </tr>\n",
       "  </thead>\n",
       "  <tbody>\n",
       "    <tr>\n",
       "      <th>0</th>\n",
       "      <td>50-54</td>\n",
       "      <td>Man</td>\n",
       "      <td>India</td>\n",
       "      <td>Bachelor’s degree</td>\n",
       "      <td>Other</td>\n",
       "      <td>5-10 years</td>\n",
       "      <td>Python, R</td>\n",
       "      <td>Manufacturing/Fabrication</td>\n",
       "      <td>50-249 employees</td>\n",
       "      <td>25,000-29,999</td>\n",
       "      <td>Asia</td>\n",
       "      <td>Man</td>\n",
       "      <td>NaN</td>\n",
       "      <td>23,250-27,899</td>\n",
       "      <td>1</td>\n",
       "      <td>1</td>\n",
       "      <td>0</td>\n",
       "      <td>0</td>\n",
       "      <td>0</td>\n",
       "      <td>0</td>\n",
       "      <td>0</td>\n",
       "      <td>0</td>\n",
       "      <td>0</td>\n",
       "      <td>0</td>\n",
       "      <td>0</td>\n",
       "      <td>0</td>\n",
       "      <td>0</td>\n",
       "    </tr>\n",
       "    <tr>\n",
       "      <th>1</th>\n",
       "      <td>50-54</td>\n",
       "      <td>Man</td>\n",
       "      <td>Indonesia</td>\n",
       "      <td>Master’s degree</td>\n",
       "      <td>Program/Project Manager</td>\n",
       "      <td>20+ years</td>\n",
       "      <td>SQL, C, C++, Java</td>\n",
       "      <td>Manufacturing/Fabrication</td>\n",
       "      <td>1000-9,999 employees</td>\n",
       "      <td>60,000-69,999</td>\n",
       "      <td>Asia</td>\n",
       "      <td>Man</td>\n",
       "      <td>Supervising role</td>\n",
       "      <td>55,800-65,099</td>\n",
       "      <td>0</td>\n",
       "      <td>0</td>\n",
       "      <td>1</td>\n",
       "      <td>1</td>\n",
       "      <td>1</td>\n",
       "      <td>1</td>\n",
       "      <td>0</td>\n",
       "      <td>0</td>\n",
       "      <td>0</td>\n",
       "      <td>0</td>\n",
       "      <td>0</td>\n",
       "      <td>0</td>\n",
       "      <td>0</td>\n",
       "    </tr>\n",
       "    <tr>\n",
       "      <th>2</th>\n",
       "      <td>22-24</td>\n",
       "      <td>Man</td>\n",
       "      <td>Pakistan</td>\n",
       "      <td>Master’s degree</td>\n",
       "      <td>Software Engineer</td>\n",
       "      <td>1-3 years</td>\n",
       "      <td>Python, C++, Java</td>\n",
       "      <td>Academics/Education</td>\n",
       "      <td>1000-9,999 employees</td>\n",
       "      <td>0-999</td>\n",
       "      <td>Asia</td>\n",
       "      <td>Man</td>\n",
       "      <td>Sofware-related role</td>\n",
       "      <td>0-929,07</td>\n",
       "      <td>1</td>\n",
       "      <td>0</td>\n",
       "      <td>0</td>\n",
       "      <td>1</td>\n",
       "      <td>1</td>\n",
       "      <td>1</td>\n",
       "      <td>0</td>\n",
       "      <td>0</td>\n",
       "      <td>0</td>\n",
       "      <td>0</td>\n",
       "      <td>0</td>\n",
       "      <td>0</td>\n",
       "      <td>0</td>\n",
       "    </tr>\n",
       "  </tbody>\n",
       "</table>\n",
       "</div>"
      ],
      "text/plain": [
       "     age gender country_q3       education_q4                  role_q5  \\\n",
       "0  50-54    Man      India  Bachelor’s degree                    Other   \n",
       "1  50-54    Man  Indonesia    Master’s degree  Program/Project Manager   \n",
       "2  22-24    Man   Pakistan    Master’s degree        Software Engineer   \n",
       "\n",
       "  experience_q6         language_q7                 sector_q20  \\\n",
       "0    5-10 years           Python, R  Manufacturing/Fabrication   \n",
       "1     20+ years   SQL, C, C++, Java  Manufacturing/Fabrication   \n",
       "2     1-3 years   Python, C++, Java        Academics/Education   \n",
       "\n",
       "       company_size_q21 anual_income_q25 continent gender_def  \\\n",
       "0      50-249 employees    25,000-29,999      Asia        Man   \n",
       "1  1000-9,999 employees    60,000-69,999      Asia        Man   \n",
       "2  1000-9,999 employees            0-999      Asia        Man   \n",
       "\n",
       "            role_q5_def annual_incom€_q25  python  r  sql  c  c++  java  \\\n",
       "0                   NaN     23,250-27,899       1  1    0  0    0     0   \n",
       "1      Supervising role     55,800-65,099       0  0    1  1    1     1   \n",
       "2  Sofware-related role          0-929,07       1  0    0  1    1     1   \n",
       "\n",
       "   javascript  julia  swift  bash  matlab  none  other  \n",
       "0           0      0      0     0       0     0      0  \n",
       "1           0      0      0     0       0     0      0  \n",
       "2           0      0      0     0       0     0      0  "
      ]
     },
     "execution_count": 11,
     "metadata": {},
     "output_type": "execute_result"
    }
   ],
   "source": [
    "df_glo_lang.head(3)"
   ]
  },
  {
   "attachments": {},
   "cell_type": "markdown",
   "metadata": {},
   "source": [
    "#### Creamos dataframe con las frecuencias de cada lenguaje de programacion por paises a nivel mundial"
   ]
  },
  {
   "cell_type": "code",
   "execution_count": 12,
   "metadata": {},
   "outputs": [
    {
     "name": "stdout",
     "output_type": "stream",
     "text": [
      "El dataframe tiene 16038 filas antes de quitar los valores nulos de la columna language_q7\n"
     ]
    }
   ],
   "source": [
    "print('El dataframe tiene', df_glo_lang.shape[0], 'filas antes de quitar los valores nulos de la columna language_q7')"
   ]
  },
  {
   "cell_type": "code",
   "execution_count": 13,
   "metadata": {},
   "outputs": [
    {
     "name": "stdout",
     "output_type": "stream",
     "text": [
      "El dataframe tiene 15085 filas, tras quitar las filas con valores nulos en la columna \"prog_lang_q7\"\n"
     ]
    }
   ],
   "source": [
    "df_glo_lang=df_glo_lang.dropna(axis=0, subset=['language_q7'])\n",
    "print('El dataframe tiene', df_glo_lang.shape[0], 'filas, tras quitar las filas con valores nulos en la columna \"prog_lang_q7\"')"
   ]
  },
  {
   "cell_type": "code",
   "execution_count": 14,
   "metadata": {},
   "outputs": [],
   "source": [
    "df_glo_lang_python=df_glo_lang[df_glo_lang['language_q7'].str.contains('Python',case=False, regex=True)]\n",
    "df_glo_lang_python_frec=df_glo_lang_python['country_q3'].value_counts().reset_index()\n",
    "df_glo_lang_python_frec.set_index('index',inplace=True)\n",
    "df_glo_lang_python_frec.rename(columns={'country_q3':'python'},inplace=True)\n",
    "\n",
    "df_glo_lang_r=df_glo_lang[df_glo_lang['language_q7'].str.contains('R',case=True, regex=True)]\n",
    "df_glo_lang_r_frec=df_glo_lang_r['country_q3'].value_counts().reset_index()\n",
    "df_glo_lang_r_frec.set_index('index',inplace=True)\n",
    "df_glo_lang_r_frec.rename(columns={'country_q3':'r'},inplace=True)\n",
    "\n",
    "df_glo_lang_sql=df_glo_lang[df_glo_lang['language_q7'].str.contains('SQL',case=True, regex=True)]\n",
    "df_glo_lang_sql_frec=df_glo_lang_sql['country_q3'].value_counts().reset_index()\n",
    "df_glo_lang_sql_frec.set_index('index',inplace=True)\n",
    "df_glo_lang_sql_frec.rename(columns={'country_q3':'sql'},inplace=True)\n",
    "\n",
    "df_glo_lang_c=df_glo_lang[df_glo_lang['language_q7'].str.contains('C',case=True, regex=True)]\n",
    "df_glo_lang_c_frec=df_glo_lang_c['country_q3'].value_counts().reset_index()\n",
    "df_glo_lang_c_frec.set_index('index',inplace=True)\n",
    "df_glo_lang_c_frec.rename(columns={'country_q3':'c'},inplace=True)\n",
    "\n",
    "df_glo_lang_ccc=df_glo_lang[df_glo_lang['language_q7'].str.contains('C\\+\\+',case=True, regex=True)]\n",
    "df_glo_lang_ccc_frec=df_glo_lang_ccc['country_q3'].value_counts().reset_index()\n",
    "df_glo_lang_ccc_frec.set_index('index',inplace=True)\n",
    "df_glo_lang_ccc_frec.rename(columns={'country_q3':'c++'},inplace=True)\n",
    "\n",
    "\n",
    "df_glo_lang_java=df_glo_lang[df_glo_lang['language_q7'].str.contains('java',case=False, regex=True)]\n",
    "df_glo_lang_java_frec=df_glo_lang_java['country_q3'].value_counts().reset_index()\n",
    "df_glo_lang_java_frec.set_index('index',inplace=True)\n",
    "df_glo_lang_java_frec.rename(columns={'country_q3':'java'},inplace=True)\n",
    "\n",
    "df_glo_lang_javascript=df_glo_lang[df_glo_lang['language_q7'].str.contains('javascript',case=False, regex=True)]\n",
    "df_glo_lang_javascript_frec=df_glo_lang_javascript['country_q3'].value_counts().reset_index()\n",
    "df_glo_lang_javascript_frec.set_index('index',inplace=True)\n",
    "df_glo_lang_javascript_frec.rename(columns={'country_q3':'javascript'},inplace=True)\n",
    "\n",
    "df_glo_lang_julia=df_glo_lang[df_glo_lang['language_q7'].str.contains('julia',case=False, regex=True)]\n",
    "df_glo_lang_julia_frec=df_glo_lang_julia['country_q3'].value_counts().reset_index()\n",
    "df_glo_lang_julia_frec.set_index('index',inplace=True)\n",
    "df_glo_lang_julia_frec.rename(columns={'country_q3':'julia'},inplace=True)\n",
    "\n",
    "df_glo_lang_swift=df_glo_lang[df_glo_lang['language_q7'].str.contains('swift',case=False, regex=True)]\n",
    "df_glo_lang_swift_frec=df_glo_lang_swift['country_q3'].value_counts().reset_index()\n",
    "df_glo_lang_swift_frec.set_index('index',inplace=True)\n",
    "df_glo_lang_swift_frec.rename(columns={'country_q3':'swift'},inplace=True)\n",
    "\n",
    "df_glo_lang_bash=df_glo_lang[df_glo_lang['language_q7'].str.contains('bash',case=False, regex=True)]\n",
    "df_glo_lang_bash_frec=df_glo_lang_bash['country_q3'].value_counts().reset_index()\n",
    "df_glo_lang_bash_frec.set_index('index',inplace=True)\n",
    "df_glo_lang_bash_frec.rename(columns={'country_q3':'bash'},inplace=True)\n",
    "\n",
    "df_glo_lang_matlab=df_glo_lang[df_glo_lang['language_q7'].str.contains('matlab',case=False, regex=True)]\n",
    "df_glo_lang_matlab_frec=df_glo_lang_matlab['country_q3'].value_counts().reset_index()\n",
    "df_glo_lang_matlab_frec.set_index('index',inplace=True)\n",
    "df_glo_lang_matlab_frec.rename(columns={'country_q3':'matlab'},inplace=True)\n",
    "\n",
    "\n",
    "df_glo_lang_none=df_glo_lang[df_glo_lang['language_q7'].str.contains('none',case=False, regex=True)]\n",
    "df_glo_lang_none_frec=df_glo_lang_none['country_q3'].value_counts().reset_index()\n",
    "df_glo_lang_none_frec.set_index('index',inplace=True)\n",
    "df_glo_lang_none_frec.rename(columns={'country_q3':'none'},inplace=True)\n",
    "\n",
    "df_glo_lang_other=df_glo_lang[df_glo_lang['language_q7'].str.contains('other',case=False, regex=True)]\n",
    "df_glo_lang_other_frec=df_glo_lang_other['country_q3'].value_counts().reset_index()\n",
    "df_glo_lang_other_frec.set_index('index',inplace=True)\n",
    "df_glo_lang_other_frec.rename(columns={'country_q3':'other'},inplace=True)"
   ]
  },
  {
   "cell_type": "code",
   "execution_count": 15,
   "metadata": {},
   "outputs": [
    {
     "data": {
      "text/html": [
       "<div>\n",
       "<style scoped>\n",
       "    .dataframe tbody tr th:only-of-type {\n",
       "        vertical-align: middle;\n",
       "    }\n",
       "\n",
       "    .dataframe tbody tr th {\n",
       "        vertical-align: top;\n",
       "    }\n",
       "\n",
       "    .dataframe thead th {\n",
       "        text-align: right;\n",
       "    }\n",
       "</style>\n",
       "<table border=\"1\" class=\"dataframe\">\n",
       "  <thead>\n",
       "    <tr style=\"text-align: right;\">\n",
       "      <th></th>\n",
       "      <th>python</th>\n",
       "      <th>r</th>\n",
       "      <th>sql</th>\n",
       "      <th>c</th>\n",
       "      <th>c++</th>\n",
       "      <th>java</th>\n",
       "      <th>javascript</th>\n",
       "      <th>julia</th>\n",
       "      <th>swift</th>\n",
       "      <th>bash</th>\n",
       "      <th>matlab</th>\n",
       "      <th>none</th>\n",
       "      <th>other</th>\n",
       "    </tr>\n",
       "    <tr>\n",
       "      <th>index</th>\n",
       "      <th></th>\n",
       "      <th></th>\n",
       "      <th></th>\n",
       "      <th></th>\n",
       "      <th></th>\n",
       "      <th></th>\n",
       "      <th></th>\n",
       "      <th></th>\n",
       "      <th></th>\n",
       "      <th></th>\n",
       "      <th></th>\n",
       "      <th></th>\n",
       "      <th></th>\n",
       "    </tr>\n",
       "  </thead>\n",
       "  <tbody>\n",
       "    <tr>\n",
       "      <th>India</th>\n",
       "      <td>2936</td>\n",
       "      <td>635</td>\n",
       "      <td>1693</td>\n",
       "      <td>950</td>\n",
       "      <td>663</td>\n",
       "      <td>1018</td>\n",
       "      <td>544</td>\n",
       "      <td>22.0</td>\n",
       "      <td>15.0</td>\n",
       "      <td>201.0</td>\n",
       "      <td>320</td>\n",
       "      <td>31.0</td>\n",
       "      <td>297.0</td>\n",
       "    </tr>\n",
       "    <tr>\n",
       "      <th>United States of America</th>\n",
       "      <td>1452</td>\n",
       "      <td>581</td>\n",
       "      <td>1031</td>\n",
       "      <td>279</td>\n",
       "      <td>216</td>\n",
       "      <td>417</td>\n",
       "      <td>279</td>\n",
       "      <td>38.0</td>\n",
       "      <td>26.0</td>\n",
       "      <td>308.0</td>\n",
       "      <td>155</td>\n",
       "      <td>49.0</td>\n",
       "      <td>249.0</td>\n",
       "    </tr>\n",
       "    <tr>\n",
       "      <th>Other</th>\n",
       "      <td>657</td>\n",
       "      <td>212</td>\n",
       "      <td>390</td>\n",
       "      <td>177</td>\n",
       "      <td>148</td>\n",
       "      <td>264</td>\n",
       "      <td>201</td>\n",
       "      <td>7.0</td>\n",
       "      <td>10.0</td>\n",
       "      <td>81.0</td>\n",
       "      <td>94</td>\n",
       "      <td>9.0</td>\n",
       "      <td>128.0</td>\n",
       "    </tr>\n",
       "  </tbody>\n",
       "</table>\n",
       "</div>"
      ],
      "text/plain": [
       "                          python    r   sql    c  c++  java  javascript  \\\n",
       "index                                                                     \n",
       "India                       2936  635  1693  950  663  1018         544   \n",
       "United States of America    1452  581  1031  279  216   417         279   \n",
       "Other                        657  212   390  177  148   264         201   \n",
       "\n",
       "                          julia  swift   bash  matlab  none  other  \n",
       "index                                                               \n",
       "India                      22.0   15.0  201.0     320  31.0  297.0  \n",
       "United States of America   38.0   26.0  308.0     155  49.0  249.0  \n",
       "Other                       7.0   10.0   81.0      94   9.0  128.0  "
      ]
     },
     "execution_count": 15,
     "metadata": {},
     "output_type": "execute_result"
    }
   ],
   "source": [
    "df_glo_lang_concat=pd.concat([df_glo_lang_python_frec, df_glo_lang_r_frec,df_glo_lang_sql_frec,df_glo_lang_c_frec,df_glo_lang_ccc_frec,df_glo_lang_java_frec,df_glo_lang_javascript_frec,df_glo_lang_julia_frec,df_glo_lang_swift_frec,df_glo_lang_bash_frec,df_glo_lang_matlab_frec,df_glo_lang_none_frec,df_glo_lang_other_frec], ignore_index=True,axis=1)\n",
    "df_glo_lang_concat.rename(columns={0:'python',1:'r',2:'sql',3:'c',4:'c++',5:'java',6:'javascript',7:'julia',8:'swift',9:'bash',10:'matlab',11:'none',12:'other'},inplace=True)\n",
    "df_glo_lang_concat.head(3)"
   ]
  },
  {
   "cell_type": "code",
   "execution_count": 16,
   "metadata": {},
   "outputs": [
    {
     "data": {
      "text/plain": [
       "Index(['age', 'gender', 'country_q3', 'education_q4', 'role_q5',\n",
       "       'experience_q6', 'language_q7', 'sector_q20', 'company_size_q21',\n",
       "       'anual_income_q25', 'continent', 'gender_def', 'role_q5_def',\n",
       "       'annual_incom€_q25', 'python', 'r', 'sql', 'c', 'c++', 'java',\n",
       "       'javascript', 'julia', 'swift', 'bash', 'matlab', 'none', 'other'],\n",
       "      dtype='object')"
      ]
     },
     "execution_count": 16,
     "metadata": {},
     "output_type": "execute_result"
    }
   ],
   "source": [
    "df_glo_lang_python.columns"
   ]
  },
  {
   "cell_type": "code",
   "execution_count": 17,
   "metadata": {},
   "outputs": [
    {
     "name": "stdout",
     "output_type": "stream",
     "text": [
      "12991 casos Python es utilizado por las personas que han contestado el cuestionario\n",
      "3525 casos R es utilizado por las personas que han contestado el cuestionario\n",
      "7374 casos SQL es utilizado por las personas que han contestado el cuestionario\n",
      "3491 casos C es utilizado por las personas que han contestado el cuestionario\n",
      "2619 casos C++ es utilizado por las personas que han contestado el cuestionario\n",
      "4222 casos Java es utilizado por las personas que han contestado el cuestionario\n",
      "2675 casos Javascript es utilizado por las personas que han contestado el cuestionario\n",
      "200 casos Julia es utilizado por las personas que han contestado el cuestionario\n",
      "173 casos Swift es utilizado por las personas que han contestado el cuestionario\n",
      "1675 casos Bash es utilizado por las personas que han contestado el cuestionario\n",
      "1628 casos MATLAB es utilizado por las personas que han contestado el cuestionario\n",
      "195 de las personas que han contestado el cuestionario utilizan no ningun lenguaje de programacion\n",
      "1947 de las personas que han contestado el cuestionario utilizan otro lenguaje de programacion distinto a los que aparcen en el cuestionario\n"
     ]
    }
   ],
   "source": [
    "#Como tenemos el cuestionario, vemos que las personas que han respondido el cuestionario solo tienen 13 posibles palabras, asique vamos a contar cuantas veces aparece cada palabra.\n",
    "print(df_glo_lang_python.shape[0], 'casos Python es utilizado por las personas que han contestado el cuestionario')\n",
    "print(df_glo_lang_r.shape[0], 'casos R es utilizado por las personas que han contestado el cuestionario')\n",
    "print(df_glo_lang_sql.shape[0], 'casos SQL es utilizado por las personas que han contestado el cuestionario')\n",
    "print(df_glo_lang_c.shape[0], 'casos C es utilizado por las personas que han contestado el cuestionario')\n",
    "print(df_glo_lang_ccc.shape[0], 'casos C++ es utilizado por las personas que han contestado el cuestionario')\n",
    "print(df_glo_lang_java.shape[0], 'casos Java es utilizado por las personas que han contestado el cuestionario')\n",
    "print(df_glo_lang_javascript.shape[0], 'casos Javascript es utilizado por las personas que han contestado el cuestionario')\n",
    "print(df_glo_lang_julia.shape[0], 'casos Julia es utilizado por las personas que han contestado el cuestionario')\n",
    "print(df_glo_lang_swift.shape[0], 'casos Swift es utilizado por las personas que han contestado el cuestionario')\n",
    "print(df_glo_lang_bash.shape[0], 'casos Bash es utilizado por las personas que han contestado el cuestionario')\n",
    "print(df_glo_lang_matlab.shape[0], 'casos MATLAB es utilizado por las personas que han contestado el cuestionario')\n",
    "\n",
    "print(df_glo_lang_none.shape[0], 'de las personas que han contestado el cuestionario utilizan no ningun lenguaje de programacion')\n",
    "print( df_glo_lang_other.shape[0], 'de las personas que han contestado el cuestionario utilizan otro lenguaje de programacion distinto a los que aparcen en el cuestionario')"
   ]
  },
  {
   "cell_type": "code",
   "execution_count": 18,
   "metadata": {},
   "outputs": [
    {
     "data": {
      "text/html": [
       "<div>\n",
       "<style scoped>\n",
       "    .dataframe tbody tr th:only-of-type {\n",
       "        vertical-align: middle;\n",
       "    }\n",
       "\n",
       "    .dataframe tbody tr th {\n",
       "        vertical-align: top;\n",
       "    }\n",
       "\n",
       "    .dataframe thead th {\n",
       "        text-align: right;\n",
       "    }\n",
       "</style>\n",
       "<table border=\"1\" class=\"dataframe\">\n",
       "  <thead>\n",
       "    <tr style=\"text-align: right;\">\n",
       "      <th></th>\n",
       "      <th>index</th>\n",
       "      <th>frequency</th>\n",
       "    </tr>\n",
       "  </thead>\n",
       "  <tbody>\n",
       "    <tr>\n",
       "      <th>0</th>\n",
       "      <td>Python</td>\n",
       "      <td>12991</td>\n",
       "    </tr>\n",
       "    <tr>\n",
       "      <th>1</th>\n",
       "      <td>R</td>\n",
       "      <td>3525</td>\n",
       "    </tr>\n",
       "    <tr>\n",
       "      <th>2</th>\n",
       "      <td>SQL</td>\n",
       "      <td>7374</td>\n",
       "    </tr>\n",
       "    <tr>\n",
       "      <th>3</th>\n",
       "      <td>C</td>\n",
       "      <td>3491</td>\n",
       "    </tr>\n",
       "    <tr>\n",
       "      <th>4</th>\n",
       "      <td>C++</td>\n",
       "      <td>2619</td>\n",
       "    </tr>\n",
       "    <tr>\n",
       "      <th>5</th>\n",
       "      <td>Java</td>\n",
       "      <td>4222</td>\n",
       "    </tr>\n",
       "    <tr>\n",
       "      <th>6</th>\n",
       "      <td>Javascript</td>\n",
       "      <td>2675</td>\n",
       "    </tr>\n",
       "    <tr>\n",
       "      <th>7</th>\n",
       "      <td>Julia</td>\n",
       "      <td>200</td>\n",
       "    </tr>\n",
       "    <tr>\n",
       "      <th>8</th>\n",
       "      <td>Swift</td>\n",
       "      <td>173</td>\n",
       "    </tr>\n",
       "    <tr>\n",
       "      <th>9</th>\n",
       "      <td>Bash</td>\n",
       "      <td>1675</td>\n",
       "    </tr>\n",
       "    <tr>\n",
       "      <th>10</th>\n",
       "      <td>MATLAB</td>\n",
       "      <td>1628</td>\n",
       "    </tr>\n",
       "    <tr>\n",
       "      <th>11</th>\n",
       "      <td>None</td>\n",
       "      <td>195</td>\n",
       "    </tr>\n",
       "    <tr>\n",
       "      <th>12</th>\n",
       "      <td>Other</td>\n",
       "      <td>1947</td>\n",
       "    </tr>\n",
       "  </tbody>\n",
       "</table>\n",
       "</div>"
      ],
      "text/plain": [
       "         index  frequency\n",
       "0       Python      12991\n",
       "1            R       3525\n",
       "2          SQL       7374\n",
       "3            C       3491\n",
       "4          C++       2619\n",
       "5         Java       4222\n",
       "6   Javascript       2675\n",
       "7        Julia        200\n",
       "8        Swift        173\n",
       "9         Bash       1675\n",
       "10      MATLAB       1628\n",
       "11        None        195\n",
       "12       Other       1947"
      ]
     },
     "execution_count": 18,
     "metadata": {},
     "output_type": "execute_result"
    }
   ],
   "source": [
    "#Vamos a crear un diccionario con cada lenguaje de programacion y su frecuencia.\n",
    "dic_lang={'Python': 12991,'R':3525,'SQL':7374,'C':3491,'C++':2619,'Java':4222,'Javascript':2675,'Julia':200,'Swift':173,'Bash':1675,'MATLAB':1628,'None':195,'Other':1947}\n",
    "languages_1=pd.Series(dic_lang)\n",
    "languages_2=languages_1.reset_index()\n",
    "languages_2.rename(columns={0:'frequency'},inplace=True)\n",
    "languages_2"
   ]
  },
  {
   "cell_type": "code",
   "execution_count": 23,
   "metadata": {},
   "outputs": [
    {
     "data": {
      "image/png": "[encoded data removed]",
      "text/plain": [
       "<Figure size 864x504 with 1 Axes>"
      ]
     },
     "metadata": {
      "needs_background": "light"
     },
     "output_type": "display_data"
    }
   ],
   "source": [
    "#Observamos la frecuencia de cada lenguaje de programacion.\n",
    "plt.figure(figsize=(12,7))\n",
    "plt.bar(languages_2['index'],languages_2['frequency'],color='turquoise')\n",
    "plt.title('Programming Language Histogram')\n",
    "plt.xlabel('Programming Languages')\n",
    "plt.ylabel('Number of surveyed people using it')\n",
    "  \n",
    "plt.show()"
   ]
  },
  {
   "cell_type": "code",
   "execution_count": 28,
   "metadata": {},
   "outputs": [],
   "source": [
    "w_python='Python '*12991\n",
    "w_r='R '*3525\n",
    "w_sql='SQL '*7374\n",
    "w_c='C '*3491\n",
    "w_ccc='C++ '*2619\n",
    "w_java='Java '*4222\n",
    "w_javascript='Javascript '*2675\n",
    "w_julia='Julia '*200\n",
    "w_swift='Swift '*173\n",
    "w_bash='Bash '*1675\n",
    "w_matlab='MATLAB '*1628\n",
    "w_none='None '*195\n",
    "w_other='Other '*1947\n",
    "# Creamos el string con las palabras repitiendolas el numero de veces que estan registradas en el dataframe.\n",
    "text2=(w_python+w_r+w_sql+w_c+w_ccc+w_java+w_javascript+w_julia+w_swift+w_bash+w_matlab+w_none+w_other)"
   ]
  },
  {
   "cell_type": "code",
   "execution_count": 35,
   "metadata": {},
   "outputs": [
    {
     "data": {
      "image/png": "[encoded data removed]",
      "text/plain": [
       "<Figure size 1080x1080 with 1 Axes>"
      ]
     },
     "metadata": {
      "needs_background": "light"
     },
     "output_type": "display_data"
    }
   ],
   "source": [
    "plt.figure(figsize =(15,15))\n",
    "wordcloud = WordCloud(width=500, height=500, margin=0,relative_scaling=0.5,collocations=False,background_color=\"darkgrey\").generate(text2)\n",
    "# Display the generated image:\n",
    "plt.imshow(wordcloud, interpolation='bilinear')\n",
    "plt.axis(\"off\")\n",
    "plt.margins(x=0, y=0)\n",
    "plt.savefig('../graphs/ue_language_cloud2.png')\n",
    "plt.show()"
   ]
  },
  {
   "cell_type": "code",
   "execution_count": null,
   "metadata": {},
   "outputs": [],
   "source": []
  }
 ],
 "metadata": {
  "kernelspec": {
   "display_name": "base",
   "language": "python",
   "name": "python3"
  },
  "language_info": {
   "codemirror_mode": {
    "name": "ipython",
    "version": 3
   },
   "file_extension": ".py",
   "mimetype": "text/x-python",
   "name": "python",
   "nbconvert_exporter": "python",
   "pygments_lexer": "ipython3",
   "version": "3.9.7"
  },
  "orig_nbformat": 4,
  "vscode": {
   "interpreter": {
    "hash": "468215beec16e96f99bc366ecab75b1d75db716e353e0417cbdb37be88f0d883"
   }
  }
 },
 "nbformat": 4,
 "nbformat_minor": 2
}
